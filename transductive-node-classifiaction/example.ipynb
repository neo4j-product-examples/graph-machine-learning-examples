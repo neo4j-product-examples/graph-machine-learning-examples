{
 "cells": [
  {
   "cell_type": "markdown",
   "source": [
    "# Transductive Node Classification\n",
    "\n",
    "![Neo4j version](https://img.shields.io/badge/Neo4j->=4.4.9-brightgreen)\n",
    "![GDS version](https://img.shields.io/badge/GDS-2.3-brightgreen)\n",
    "![GDS Python Client version](https://img.shields.io/badge/GDS_Python_Client-1.6-brightgreen)\n",
    "\n",
    "__This notebook demonstrates how graph features can be used to improve Machine Learning accuracy__ in a transductive setting.\n",
    "In this example, we see accuracy increase by ~20% for supervised node classification.\n",
    "\n",
    "## Transductive Node classification\n",
    "In this application of graph machine learning we are provided a graph with partially missing node labels.  The goal is to train a model using the subset of labeled nodes and then to predict the missing node labels with the model. The entire graph is available during training, including the nodes with missing labels.\n",
    "We refer to this as *__transductive__* graph machine learning, and it is a very powerful approach to leverage knowledge graph and other network relationships to improve classifier performance.\n",
    "\n",
    "## Dataset\n",
    "The dataset we use to demonstrate is the [`ogbn-arxiv`](https://ogb.stanford.edu/docs/nodeprop/#ogbn-arxiv) citation graph which is composed of papers as nodes and citations between papers as relationships.  Each paper comes with a 128-dimensional floating point vector representing a word embedding of the paper's title and abstract.\n",
    "\n",
    "__Classification Task:__ The goal is to predict the paper subject, i.e. what the paper is about. There are 40 possible subjects.\n",
    "\n",
    "To reflect the transductive setting we will redact a random subset of node labels.\n",
    "\n",
    "## Models\n",
    "We will train two Machine Learning Models and compare their test set accuracy:\n",
    "\n",
    "- __Default Best Guess__: A really naive heuristic (predict by most frequent class in training set) to use as a sanity check. A model must do better than this to be useful.\n",
    "- __Non-Graph (NLP Only)__ : Use just the 128-dimensional word embeddings as feature inputs to a Neural Network classifier.\n",
    "- __Graph ML with FastRP Embeddings:__ Generate Fast Random Projection (FastRP) node embeddings with the word embeddings as weights. Use the FastRP embeddings as inputs to a Neural Network Classifier\n",
    "- __Graph ML with GraphSage Embeddings:__ train an unsupervised GraphSage model (a type of neural network) on a subset of the graph, using word embeddings as inputs, to generate node embeddings.  Use the Graph Sage model to predict node embeddings on the entire graph. Use the node embeddings as inputs to a Neural Network Classifier.\n"
   ],
   "metadata": {
    "collapsed": false
   }
  },
  {
   "cell_type": "code",
   "execution_count": 1,
   "outputs": [
    {
     "name": "stderr",
     "output_type": "stream",
     "text": [
      "WARNING:root:The OGB package is out of date. Your version is 1.3.4, while the latest version is 1.3.5.\n"
     ]
    }
   ],
   "source": [
    "import torch\n",
    "import pandas as pd\n",
    "import numpy as np\n",
    "from graphdatascience import GraphDataScience\n",
    "from dotenv import load_dotenv\n",
    "import os\n",
    "import benchmark.ogbn_arxiv as bm_ogbn_arxiv\n",
    "from graph_data.data_import import get_ogbn_arxiv_data"
   ],
   "metadata": {
    "collapsed": false
   }
  },
  {
   "cell_type": "markdown",
   "source": [
    "## Prepare Data\n",
    "Load source data, mask a proportion of node labels to reflect transductive setting, and create test and train set indexes."
   ],
   "metadata": {
    "collapsed": false
   }
  },
  {
   "cell_type": "code",
   "execution_count": 2,
   "outputs": [],
   "source": [
    "RANDOM_SEED = 7474\n",
    "MISSING_LABEL_PROPORTION = 0.15\n",
    "TEST_SET_PROPORTION = 0.2\n",
    "VALID_SET_PROPORTION = 0.25"
   ],
   "metadata": {
    "collapsed": false
   }
  },
  {
   "cell_type": "code",
   "execution_count": 3,
   "outputs": [
    {
     "data": {
      "text/plain": "        nodeId                                      textEmbedding  year  \\\n0            0  [-0.05794300138950348, -0.05253000184893608, -...  2013   \n1            1  [-0.12449999898672104, -0.07066500186920166, -...  2015   \n2            2  [-0.08024200052022934, -0.02332800067961216, -...  2014   \n3            3  [-0.1450439989566803, 0.05491499975323677, -0....  2014   \n4            4  [-0.07115399837493896, 0.07076600193977356, -0...  2014   \n...        ...                                                ...   ...   \n169338  169338  [-0.32135099172592163, -0.03933500126004219, -...  2020   \n169339  169339  [-0.15121200680732727, -0.12470199912786484, -...  2020   \n169340  169340  [-0.22053000330924988, -0.03656800091266632, -...  2020   \n169341  169341  [-0.13823600113391876, 0.04088500142097473, -0...  2020   \n169342  169342  [-0.029874999076128006, 0.26841700077056885, -...  2020   \n\n        subjectId  \n0               4  \n1               5  \n2              28  \n3               8  \n4              27  \n...           ...  \n169338          4  \n169339         24  \n169340         10  \n169341          4  \n169342          1  \n\n[169343 rows x 4 columns]",
      "text/html": "<div>\n<style scoped>\n    .dataframe tbody tr th:only-of-type {\n        vertical-align: middle;\n    }\n\n    .dataframe tbody tr th {\n        vertical-align: top;\n    }\n\n    .dataframe thead th {\n        text-align: right;\n    }\n</style>\n<table border=\"1\" class=\"dataframe\">\n  <thead>\n    <tr style=\"text-align: right;\">\n      <th></th>\n      <th>nodeId</th>\n      <th>textEmbedding</th>\n      <th>year</th>\n      <th>subjectId</th>\n    </tr>\n  </thead>\n  <tbody>\n    <tr>\n      <th>0</th>\n      <td>0</td>\n      <td>[-0.05794300138950348, -0.05253000184893608, -...</td>\n      <td>2013</td>\n      <td>4</td>\n    </tr>\n    <tr>\n      <th>1</th>\n      <td>1</td>\n      <td>[-0.12449999898672104, -0.07066500186920166, -...</td>\n      <td>2015</td>\n      <td>5</td>\n    </tr>\n    <tr>\n      <th>2</th>\n      <td>2</td>\n      <td>[-0.08024200052022934, -0.02332800067961216, -...</td>\n      <td>2014</td>\n      <td>28</td>\n    </tr>\n    <tr>\n      <th>3</th>\n      <td>3</td>\n      <td>[-0.1450439989566803, 0.05491499975323677, -0....</td>\n      <td>2014</td>\n      <td>8</td>\n    </tr>\n    <tr>\n      <th>4</th>\n      <td>4</td>\n      <td>[-0.07115399837493896, 0.07076600193977356, -0...</td>\n      <td>2014</td>\n      <td>27</td>\n    </tr>\n    <tr>\n      <th>...</th>\n      <td>...</td>\n      <td>...</td>\n      <td>...</td>\n      <td>...</td>\n    </tr>\n    <tr>\n      <th>169338</th>\n      <td>169338</td>\n      <td>[-0.32135099172592163, -0.03933500126004219, -...</td>\n      <td>2020</td>\n      <td>4</td>\n    </tr>\n    <tr>\n      <th>169339</th>\n      <td>169339</td>\n      <td>[-0.15121200680732727, -0.12470199912786484, -...</td>\n      <td>2020</td>\n      <td>24</td>\n    </tr>\n    <tr>\n      <th>169340</th>\n      <td>169340</td>\n      <td>[-0.22053000330924988, -0.03656800091266632, -...</td>\n      <td>2020</td>\n      <td>10</td>\n    </tr>\n    <tr>\n      <th>169341</th>\n      <td>169341</td>\n      <td>[-0.13823600113391876, 0.04088500142097473, -0...</td>\n      <td>2020</td>\n      <td>4</td>\n    </tr>\n    <tr>\n      <th>169342</th>\n      <td>169342</td>\n      <td>[-0.029874999076128006, 0.26841700077056885, -...</td>\n      <td>2020</td>\n      <td>1</td>\n    </tr>\n  </tbody>\n</table>\n<p>169343 rows × 4 columns</p>\n</div>"
     },
     "execution_count": 3,
     "metadata": {},
     "output_type": "execute_result"
    }
   ],
   "source": [
    "paper_source_df, citation_source_df = get_ogbn_arxiv_data()\n",
    "paper_source_df"
   ],
   "metadata": {
    "collapsed": false
   }
  },
  {
   "cell_type": "code",
   "execution_count": 4,
   "outputs": [
    {
     "name": "stdout",
     "output_type": "stream",
     "text": [
      "14.9997% of the papers are now masked as missing a subject\n",
      "16.9998% of the papers are assigned to the test set\n",
      "16.9998% of the papers are assigned to the validation set\n",
      "51.0006% of the papers are assigned to the train set\n",
      "100.0% of the papers are assigned to just one of the above sets\n"
     ]
    }
   ],
   "source": [
    "# Set some labels as missing to reflect transductive setting\n",
    "paper_df = paper_source_df.copy()\n",
    "missing_label_idx = paper_df.sample(frac=MISSING_LABEL_PROPORTION, random_state=RANDOM_SEED).nodeId\n",
    "paper_df.loc[paper_df.nodeId.isin(missing_label_idx), 'subjectId'] = np.NaN\n",
    "\n",
    "# randomly split test and training\n",
    "# we call this 'labels' to prepare for graph ingest\n",
    "test_idx = paper_df[~paper_df.nodeId.isin(missing_label_idx)].sample(frac=TEST_SET_PROPORTION, random_state=RANDOM_SEED).nodeId\n",
    "valid_idx = paper_df[(~paper_df.nodeId.isin(missing_label_idx)) & (~paper_df.nodeId.isin(test_idx))].sample(frac=VALID_SET_PROPORTION, random_state=RANDOM_SEED).nodeId\n",
    "train_idx = paper_df.nodeId[(~paper_df.nodeId.isin(missing_label_idx)) & (~paper_df.nodeId.isin(test_idx))& (~paper_df.nodeId.isin(valid_idx))]\n",
    "\n",
    "print(f'{100*sum(paper_df.subjectId.isna())/paper_df.shape[0]:.6}% of the papers are now masked as missing a subject')\n",
    "print(f'{100*len(test_idx)/paper_df.shape[0]:.6}% of the papers are assigned to the test set')\n",
    "print(f'{100*len(valid_idx)/paper_df.shape[0]:.6}% of the papers are assigned to the validation set')\n",
    "print(f'{100*len(train_idx)/paper_df.shape[0]:.6}% of the papers are assigned to the train set')\n",
    "print(f'{100*(len(train_idx) + len(test_idx) + len(valid_idx) + len(missing_label_idx))/paper_df.shape[0]}% of the papers are assigned to just one of the above sets')"
   ],
   "metadata": {
    "collapsed": false
   }
  },
  {
   "cell_type": "markdown",
   "source": [
    "## Default Best Guess\n",
    "As a dummy baseline - how good do we do if we predicted all examples as the most frequent class in the training set?\n",
    "A useful model must do better than this."
   ],
   "metadata": {
    "collapsed": false
   }
  },
  {
   "cell_type": "code",
   "execution_count": 5,
   "outputs": [
    {
     "name": "stdout",
     "output_type": "stream",
     "text": [
      "CPU times: user 23.9 ms, sys: 2.36 ms, total: 26.3 ms\n",
      "Wall time: 25.1 ms\n"
     ]
    },
    {
     "data": {
      "text/plain": "{'train_acc': 0.1608155987309821,\n 'valid_acc': 0.1653119355286925,\n 'test_acc': 0.16037932471863275}"
     },
     "execution_count": 5,
     "metadata": {},
     "output_type": "execute_result"
    }
   ],
   "source": [
    "%%time\n",
    "default_stats = bm_ogbn_arxiv.default_best_guess_benchmark(paper_df, train_idx, valid_idx, test_idx)\n",
    "default_stats"
   ],
   "metadata": {
    "collapsed": false
   }
  },
  {
   "cell_type": "markdown",
   "source": [
    "This performs horribly, as one may expect, with an accuracy of about 16%."
   ],
   "metadata": {
    "collapsed": false
   }
  },
  {
   "cell_type": "markdown",
   "source": [
    "## Non Graph (NLP Only)\n",
    "Use non-graph features only.  For a model with graph features to be useful, it must do better than this."
   ],
   "metadata": {
    "collapsed": false
   }
  },
  {
   "cell_type": "code",
   "execution_count": 6,
   "outputs": [],
   "source": [
    "# convert indexes to tensors for PyTorch\n",
    "train_idx = torch.tensor(train_idx.to_numpy(), dtype=torch.long)\n",
    "valid_idx = torch.tensor(valid_idx.to_numpy(), dtype=torch.long)\n",
    "test_idx = torch.tensor(test_idx.to_numpy(), dtype=torch.long)"
   ],
   "metadata": {
    "collapsed": false
   }
  },
  {
   "cell_type": "code",
   "execution_count": 7,
   "outputs": [
    {
     "name": "stdout",
     "output_type": "stream",
     "text": [
      "CPU times: user 16.8 s, sys: 5.18 s, total: 22 s\n",
      "Wall time: 8.15 s\n"
     ]
    }
   ],
   "source": [
    "%%time\n",
    "x=torch.tensor(np.stack(paper_df.textEmbedding), dtype=torch.float)\n",
    "y=torch.tensor(paper_df.subjectId.to_numpy(), dtype=torch.long)\n",
    "\n",
    "non_graph_benchmark, _ = bm_ogbn_arxiv.run_model(x, y, train_idx, valid_idx, test_idx,\n",
    "                                                     hidden_dims=[64], epochs=300, patience=3, verbose=False)"
   ],
   "metadata": {
    "collapsed": false
   }
  },
  {
   "cell_type": "code",
   "execution_count": 8,
   "outputs": [
    {
     "data": {
      "text/plain": "{'train': {'allZeroFeatureVec_Count': 0, 'allZeroFeatureVec_Percent': 0.0},\n 'valid': {'allZeroFeatureVec_Count': 0, 'allZeroFeatureVec_Percent': 0.0},\n 'test': {'allZeroFeatureVec_Count': 0, 'allZeroFeatureVec_Percent': 0.0}}"
     },
     "execution_count": 8,
     "metadata": {},
     "output_type": "execute_result"
    }
   ],
   "source": [
    "non_graph_benchmark.qualityChecks"
   ],
   "metadata": {
    "collapsed": false
   }
  },
  {
   "cell_type": "code",
   "execution_count": 9,
   "outputs": [
    {
     "data": {
      "text/plain": "{'epoch': 86,\n 'loss': 1.651861548423767,\n 'train_acc': 0.5499965264108562,\n 'valid_acc': 0.5484924274003057,\n 'test_acc': 0.5385229956926497}"
     },
     "execution_count": 9,
     "metadata": {},
     "output_type": "execute_result"
    }
   ],
   "source": [
    "non_graph_benchmark.bestStats"
   ],
   "metadata": {
    "collapsed": false
   }
  },
  {
   "cell_type": "markdown",
   "source": [
    "## Load Graph Into Neo4j for Feature Engineering"
   ],
   "metadata": {
    "collapsed": false
   }
  },
  {
   "cell_type": "code",
   "execution_count": 10,
   "outputs": [],
   "source": [
    "load_dotenv('db-credentials.env', override=True)\n",
    "\n",
    "# Use Neo4j URI and credentials according to our setup\n",
    "gds = GraphDataScience(\n",
    "    os.getenv('NEO4J_URI'),\n",
    "    auth=(os.getenv('NEO4J_USERNAME'),\n",
    "          os.getenv('NEO4J_PASSWORD')),\n",
    "    aura_ds=eval(os.getenv('AURA_DS').title()))\n",
    "\n",
    "# Necessary if you enabled Arrow on the db - this is true for AuraDS\n",
    "gds.set_database(\"neo4j\")\n",
    "PROJ_NAME = 'proj'"
   ],
   "metadata": {
    "collapsed": false
   }
  },
  {
   "cell_type": "code",
   "execution_count": 11,
   "outputs": [
    {
     "data": {
      "text/plain": "'2.3.0'"
     },
     "execution_count": 11,
     "metadata": {},
     "output_type": "execute_result"
    }
   ],
   "source": [
    "gds.version()"
   ],
   "metadata": {
    "collapsed": false
   }
  },
  {
   "cell_type": "code",
   "execution_count": 12,
   "outputs": [
    {
     "data": {
      "text/plain": "        nodeId                                      textEmbedding labels\n0            0  [-0.05794300138950348, -0.05253000184893608, -...  Paper\n1            1  [-0.12449999898672104, -0.07066500186920166, -...  Paper\n2            2  [-0.08024200052022934, -0.02332800067961216, -...  Paper\n3            3  [-0.1450439989566803, 0.05491499975323677, -0....  Paper\n4            4  [-0.07115399837493896, 0.07076600193977356, -0...  Paper\n...        ...                                                ...    ...\n169338  169338  [-0.32135099172592163, -0.03933500126004219, -...  Paper\n169339  169339  [-0.15121200680732727, -0.12470199912786484, -...  Paper\n169340  169340  [-0.22053000330924988, -0.03656800091266632, -...  Paper\n169341  169341  [-0.13823600113391876, 0.04088500142097473, -0...  Paper\n169342  169342  [-0.029874999076128006, 0.26841700077056885, -...  Paper\n\n[169343 rows x 3 columns]",
      "text/html": "<div>\n<style scoped>\n    .dataframe tbody tr th:only-of-type {\n        vertical-align: middle;\n    }\n\n    .dataframe tbody tr th {\n        vertical-align: top;\n    }\n\n    .dataframe thead th {\n        text-align: right;\n    }\n</style>\n<table border=\"1\" class=\"dataframe\">\n  <thead>\n    <tr style=\"text-align: right;\">\n      <th></th>\n      <th>nodeId</th>\n      <th>textEmbedding</th>\n      <th>labels</th>\n    </tr>\n  </thead>\n  <tbody>\n    <tr>\n      <th>0</th>\n      <td>0</td>\n      <td>[-0.05794300138950348, -0.05253000184893608, -...</td>\n      <td>Paper</td>\n    </tr>\n    <tr>\n      <th>1</th>\n      <td>1</td>\n      <td>[-0.12449999898672104, -0.07066500186920166, -...</td>\n      <td>Paper</td>\n    </tr>\n    <tr>\n      <th>2</th>\n      <td>2</td>\n      <td>[-0.08024200052022934, -0.02332800067961216, -...</td>\n      <td>Paper</td>\n    </tr>\n    <tr>\n      <th>3</th>\n      <td>3</td>\n      <td>[-0.1450439989566803, 0.05491499975323677, -0....</td>\n      <td>Paper</td>\n    </tr>\n    <tr>\n      <th>4</th>\n      <td>4</td>\n      <td>[-0.07115399837493896, 0.07076600193977356, -0...</td>\n      <td>Paper</td>\n    </tr>\n    <tr>\n      <th>...</th>\n      <td>...</td>\n      <td>...</td>\n      <td>...</td>\n    </tr>\n    <tr>\n      <th>169338</th>\n      <td>169338</td>\n      <td>[-0.32135099172592163, -0.03933500126004219, -...</td>\n      <td>Paper</td>\n    </tr>\n    <tr>\n      <th>169339</th>\n      <td>169339</td>\n      <td>[-0.15121200680732727, -0.12470199912786484, -...</td>\n      <td>Paper</td>\n    </tr>\n    <tr>\n      <th>169340</th>\n      <td>169340</td>\n      <td>[-0.22053000330924988, -0.03656800091266632, -...</td>\n      <td>Paper</td>\n    </tr>\n    <tr>\n      <th>169341</th>\n      <td>169341</td>\n      <td>[-0.13823600113391876, 0.04088500142097473, -0...</td>\n      <td>Paper</td>\n    </tr>\n    <tr>\n      <th>169342</th>\n      <td>169342</td>\n      <td>[-0.029874999076128006, 0.26841700077056885, -...</td>\n      <td>Paper</td>\n    </tr>\n  </tbody>\n</table>\n<p>169343 rows × 3 columns</p>\n</div>"
     },
     "execution_count": 12,
     "metadata": {},
     "output_type": "execute_result"
    }
   ],
   "source": [
    "node_df = paper_df.drop(columns=['subjectId', 'year'])\n",
    "node_df['labels'] = 'Paper'\n",
    "node_df"
   ],
   "metadata": {
    "collapsed": false
   }
  },
  {
   "cell_type": "code",
   "execution_count": 13,
   "outputs": [
    {
     "data": {
      "text/plain": "         sourceNodeId  targetNodeId relationshipType\n0              104447         13091            CITED\n1               15858         47283            CITED\n2              107156         69161            CITED\n3              107156        136440            CITED\n4              107156        107366            CITED\n...               ...           ...              ...\n1166238         45118         79124            CITED\n1166239         45118        147994            CITED\n1166240         45118        162473            CITED\n1166241         45118        162537            CITED\n1166242         45118         72717            CITED\n\n[1166243 rows x 3 columns]",
      "text/html": "<div>\n<style scoped>\n    .dataframe tbody tr th:only-of-type {\n        vertical-align: middle;\n    }\n\n    .dataframe tbody tr th {\n        vertical-align: top;\n    }\n\n    .dataframe thead th {\n        text-align: right;\n    }\n</style>\n<table border=\"1\" class=\"dataframe\">\n  <thead>\n    <tr style=\"text-align: right;\">\n      <th></th>\n      <th>sourceNodeId</th>\n      <th>targetNodeId</th>\n      <th>relationshipType</th>\n    </tr>\n  </thead>\n  <tbody>\n    <tr>\n      <th>0</th>\n      <td>104447</td>\n      <td>13091</td>\n      <td>CITED</td>\n    </tr>\n    <tr>\n      <th>1</th>\n      <td>15858</td>\n      <td>47283</td>\n      <td>CITED</td>\n    </tr>\n    <tr>\n      <th>2</th>\n      <td>107156</td>\n      <td>69161</td>\n      <td>CITED</td>\n    </tr>\n    <tr>\n      <th>3</th>\n      <td>107156</td>\n      <td>136440</td>\n      <td>CITED</td>\n    </tr>\n    <tr>\n      <th>4</th>\n      <td>107156</td>\n      <td>107366</td>\n      <td>CITED</td>\n    </tr>\n    <tr>\n      <th>...</th>\n      <td>...</td>\n      <td>...</td>\n      <td>...</td>\n    </tr>\n    <tr>\n      <th>1166238</th>\n      <td>45118</td>\n      <td>79124</td>\n      <td>CITED</td>\n    </tr>\n    <tr>\n      <th>1166239</th>\n      <td>45118</td>\n      <td>147994</td>\n      <td>CITED</td>\n    </tr>\n    <tr>\n      <th>1166240</th>\n      <td>45118</td>\n      <td>162473</td>\n      <td>CITED</td>\n    </tr>\n    <tr>\n      <th>1166241</th>\n      <td>45118</td>\n      <td>162537</td>\n      <td>CITED</td>\n    </tr>\n    <tr>\n      <th>1166242</th>\n      <td>45118</td>\n      <td>72717</td>\n      <td>CITED</td>\n    </tr>\n  </tbody>\n</table>\n<p>1166243 rows × 3 columns</p>\n</div>"
     },
     "execution_count": 13,
     "metadata": {},
     "output_type": "execute_result"
    }
   ],
   "source": [
    "rel_df = citation_source_df.rename(columns={'paper': 'sourceNodeId', 'citedPaper': 'targetNodeId'})\n",
    "rel_df['relationshipType'] = 'CITED'\n",
    "rel_df"
   ],
   "metadata": {
    "collapsed": false
   }
  },
  {
   "cell_type": "code",
   "execution_count": 14,
   "outputs": [],
   "source": [
    "if gds.graph.exists(PROJ_NAME)['exists']:\n",
    "    gds.graph.get(PROJ_NAME).drop()"
   ],
   "metadata": {
    "collapsed": false
   }
  },
  {
   "cell_type": "code",
   "execution_count": 15,
   "outputs": [
    {
     "data": {
      "text/plain": "Uploading Nodes:   0%|          | 0/169343 [00:00<?, ?Records/s]",
      "application/vnd.jupyter.widget-view+json": {
       "version_major": 2,
       "version_minor": 0,
       "model_id": "6270f47c8327468e9c0f2014899e91d9"
      }
     },
     "metadata": {},
     "output_type": "display_data"
    },
    {
     "data": {
      "text/plain": "Uploading Relationships:   0%|          | 0/1166243 [00:00<?, ?Records/s]",
      "application/vnd.jupyter.widget-view+json": {
       "version_major": 2,
       "version_minor": 0,
       "model_id": "92df4fd16d104a55a7e2744b68f1d354"
      }
     },
     "metadata": {},
     "output_type": "display_data"
    },
    {
     "name": "stdout",
     "output_type": "stream",
     "text": [
      "CPU times: user 939 ms, sys: 1.83 s, total: 2.77 s\n",
      "Wall time: 1min 15s\n"
     ]
    }
   ],
   "source": [
    "%%time\n",
    "g = gds.alpha.graph.construct(PROJ_NAME, node_df, rel_df, undirected_relationship_types = ['CITED'])"
   ],
   "metadata": {
    "collapsed": false
   }
  },
  {
   "cell_type": "code",
   "execution_count": 16,
   "outputs": [
    {
     "name": "stdout",
     "output_type": "stream",
     "text": [
      "Node Count: 169,343\n",
      "Relationship Count: 2,332,486\n"
     ]
    }
   ],
   "source": [
    "print(f'Node Count: {g.node_count():,}')\n",
    "print(f'Relationship Count: {g.relationship_count():,}')"
   ],
   "metadata": {
    "collapsed": false
   }
  },
  {
   "cell_type": "markdown",
   "source": [
    "## Graph ML with FastRP Embeddings"
   ],
   "metadata": {
    "collapsed": false
   }
  },
  {
   "cell_type": "code",
   "execution_count": 17,
   "outputs": [
    {
     "data": {
      "text/plain": "FastRP:   0%|          | 0/100 [00:00<?, ?%/s]",
      "application/vnd.jupyter.widget-view+json": {
       "version_major": 2,
       "version_minor": 0,
       "model_id": "b1e3879902a94b17aad396e73a50fb30"
      }
     },
     "metadata": {},
     "output_type": "display_data"
    },
    {
     "data": {
      "text/plain": "nodePropertiesWritten                                               169343\nmutateMillis                                                             0\nnodeCount                                                           169343\npreProcessingMillis                                                      0\ncomputeMillis                                                         1559\nconfiguration            {'nodeSelfInfluence': 0, 'propertyRatio': 0.5,...\nName: 0, dtype: object"
     },
     "execution_count": 17,
     "metadata": {},
     "output_type": "execute_result"
    }
   ],
   "source": [
    "# Create FastRP embeddings\n",
    "gds.fastRP.mutate(g, embeddingDimension=256, mutateProperty='fastrpEmb', featureProperties=['textEmbedding'],\n",
    "                  propertyRatio=0.5, randomSeed=RANDOM_SEED)"
   ],
   "metadata": {
    "collapsed": false
   }
  },
  {
   "cell_type": "code",
   "execution_count": 18,
   "outputs": [
    {
     "data": {
      "text/plain": "        nodeId  year  subjectId  \\\n0            0  2013        4.0   \n1            1  2015        5.0   \n2            2  2014       28.0   \n3            3  2014        8.0   \n4            4  2014       27.0   \n...        ...   ...        ...   \n169338  169338  2020        NaN   \n169339  169339  2020       24.0   \n169340  169340  2020       10.0   \n169341  169341  2020        4.0   \n169342  169342  2020        NaN   \n\n                                                fastrpEmb  \n0       [-0.010436784, 2.0225583e-05, -0.0057415017, 0...  \n1       [0.031432256, -0.0018280161, 0.010902237, -0.0...  \n2       [0.0007805123, 0.0008067958, 0.008566914, 0.01...  \n3       [0.01189787, -0.029362265, -0.013015488, -0.01...  \n4       [0.018842973, 0.007072161, -0.012446582, -0.00...  \n...                                                   ...  \n169338  [-0.008318075, -0.0039453013, -0.0050907666, 2...  \n169339  [-0.0048398594, -0.0017861046, 0.003423419, 0....  \n169340  [-0.00029355922, 0.0054876376, -0.0012249375, ...  \n169341  [-0.0060406476, 0.0008232696, -0.0027380043, 0...  \n169342  [-0.017460592, -0.001931214, 0.0037688117, -0....  \n\n[169343 rows x 4 columns]",
      "text/html": "<div>\n<style scoped>\n    .dataframe tbody tr th:only-of-type {\n        vertical-align: middle;\n    }\n\n    .dataframe tbody tr th {\n        vertical-align: top;\n    }\n\n    .dataframe thead th {\n        text-align: right;\n    }\n</style>\n<table border=\"1\" class=\"dataframe\">\n  <thead>\n    <tr style=\"text-align: right;\">\n      <th></th>\n      <th>nodeId</th>\n      <th>year</th>\n      <th>subjectId</th>\n      <th>fastrpEmb</th>\n    </tr>\n  </thead>\n  <tbody>\n    <tr>\n      <th>0</th>\n      <td>0</td>\n      <td>2013</td>\n      <td>4.0</td>\n      <td>[-0.010436784, 2.0225583e-05, -0.0057415017, 0...</td>\n    </tr>\n    <tr>\n      <th>1</th>\n      <td>1</td>\n      <td>2015</td>\n      <td>5.0</td>\n      <td>[0.031432256, -0.0018280161, 0.010902237, -0.0...</td>\n    </tr>\n    <tr>\n      <th>2</th>\n      <td>2</td>\n      <td>2014</td>\n      <td>28.0</td>\n      <td>[0.0007805123, 0.0008067958, 0.008566914, 0.01...</td>\n    </tr>\n    <tr>\n      <th>3</th>\n      <td>3</td>\n      <td>2014</td>\n      <td>8.0</td>\n      <td>[0.01189787, -0.029362265, -0.013015488, -0.01...</td>\n    </tr>\n    <tr>\n      <th>4</th>\n      <td>4</td>\n      <td>2014</td>\n      <td>27.0</td>\n      <td>[0.018842973, 0.007072161, -0.012446582, -0.00...</td>\n    </tr>\n    <tr>\n      <th>...</th>\n      <td>...</td>\n      <td>...</td>\n      <td>...</td>\n      <td>...</td>\n    </tr>\n    <tr>\n      <th>169338</th>\n      <td>169338</td>\n      <td>2020</td>\n      <td>NaN</td>\n      <td>[-0.008318075, -0.0039453013, -0.0050907666, 2...</td>\n    </tr>\n    <tr>\n      <th>169339</th>\n      <td>169339</td>\n      <td>2020</td>\n      <td>24.0</td>\n      <td>[-0.0048398594, -0.0017861046, 0.003423419, 0....</td>\n    </tr>\n    <tr>\n      <th>169340</th>\n      <td>169340</td>\n      <td>2020</td>\n      <td>10.0</td>\n      <td>[-0.00029355922, 0.0054876376, -0.0012249375, ...</td>\n    </tr>\n    <tr>\n      <th>169341</th>\n      <td>169341</td>\n      <td>2020</td>\n      <td>4.0</td>\n      <td>[-0.0060406476, 0.0008232696, -0.0027380043, 0...</td>\n    </tr>\n    <tr>\n      <th>169342</th>\n      <td>169342</td>\n      <td>2020</td>\n      <td>NaN</td>\n      <td>[-0.017460592, -0.001931214, 0.0037688117, -0....</td>\n    </tr>\n  </tbody>\n</table>\n<p>169343 rows × 4 columns</p>\n</div>"
     },
     "execution_count": 18,
     "metadata": {},
     "output_type": "execute_result"
    }
   ],
   "source": [
    "# stream embeddings and merge into other data\n",
    "fastrp_df = gds.graph.nodeProperties.stream(g, node_properties=['fastrpEmb'], separate_property_columns=True)\n",
    "fastrp_df = paper_df.merge(fastrp_df, on='nodeId').drop(columns=['textEmbedding'])\n",
    "fastrp_df"
   ],
   "metadata": {
    "collapsed": false
   }
  },
  {
   "cell_type": "code",
   "execution_count": 19,
   "outputs": [
    {
     "name": "stdout",
     "output_type": "stream",
     "text": [
      "CPU times: user 23.2 s, sys: 7.69 s, total: 30.9 s\n",
      "Wall time: 11 s\n"
     ]
    }
   ],
   "source": [
    "%%time\n",
    "x=torch.tensor(np.stack(fastrp_df.fastrpEmb), dtype=torch.float)\n",
    "y=torch.tensor(fastrp_df.subjectId.to_numpy(), dtype=torch.long)\n",
    "\n",
    "fastrp_benchmark, _= bm_ogbn_arxiv.run_model(x, y, train_idx, valid_idx, test_idx,\n",
    "                                                 hidden_dims=[64], epochs=300, patience=3, verbose=False)"
   ],
   "metadata": {
    "collapsed": false
   }
  },
  {
   "cell_type": "code",
   "execution_count": 20,
   "outputs": [
    {
     "data": {
      "text/plain": "{'train': {'allZeroFeatureVec_Count': 0, 'allZeroFeatureVec_Percent': 0.0},\n 'valid': {'allZeroFeatureVec_Count': 0, 'allZeroFeatureVec_Percent': 0.0},\n 'test': {'allZeroFeatureVec_Count': 0, 'allZeroFeatureVec_Percent': 0.0}}"
     },
     "execution_count": 20,
     "metadata": {},
     "output_type": "execute_result"
    }
   ],
   "source": [
    "fastrp_benchmark.qualityChecks"
   ],
   "metadata": {
    "collapsed": false
   }
  },
  {
   "cell_type": "code",
   "execution_count": 21,
   "outputs": [
    {
     "data": {
      "text/plain": "{'epoch': 67,\n 'loss': 1.104737639427185,\n 'train_acc': 0.6897505962994697,\n 'valid_acc': 0.6842781714603307,\n 'test_acc': 0.6795192441294984}"
     },
     "execution_count": 21,
     "metadata": {},
     "output_type": "execute_result"
    }
   ],
   "source": [
    "fastrp_benchmark.bestStats"
   ],
   "metadata": {
    "collapsed": false
   }
  },
  {
   "cell_type": "code",
   "execution_count": 22,
   "outputs": [
    {
     "data": {
      "text/plain": "graphName                   proj\nnodeProperties       [fastrpEmb]\npropertiesRemoved         169343\nName: 0, dtype: object"
     },
     "execution_count": 22,
     "metadata": {},
     "output_type": "execute_result"
    }
   ],
   "source": [
    "# clean the graph projection\n",
    "gds.graph.nodeProperties.drop(g, 'fastrpEmb')"
   ],
   "metadata": {
    "collapsed": false
   }
  },
  {
   "cell_type": "markdown",
   "source": [
    "## Graph ML with GraphSage Embeddings"
   ],
   "metadata": {
    "collapsed": false
   }
  },
  {
   "cell_type": "code",
   "execution_count": 23,
   "outputs": [
    {
     "data": {
      "text/plain": "Random walk with restarts sampling:   0%|          | 0/100 [00:00<?, ?%/s]",
      "application/vnd.jupyter.widget-view+json": {
       "version_major": 2,
       "version_minor": 0,
       "model_id": "511ac622e65e4328a6e14226d323852c"
      }
     },
     "metadata": {},
     "output_type": "display_data"
    }
   ],
   "source": [
    "# create a graph subsample to train graphSage. This will speed up computation\n",
    "if gds.graph.exists(PROJ_NAME + '_sample')['exists']:\n",
    "    gds.graph.get(PROJ_NAME + '_sample').drop()\n",
    "g_sample, _ = gds.alpha.graph.sample.rwr(PROJ_NAME + '_sample', g, samplingRatio=0.4,\n",
    "                                         restartProbability=0.05, concurrency=1, randomSeed=RANDOM_SEED)"
   ],
   "metadata": {
    "collapsed": false
   }
  },
  {
   "cell_type": "code",
   "execution_count": 24,
   "outputs": [
    {
     "data": {
      "text/plain": "(GraphSageModel({'modelInfo': {0: {'modelName': 'gsModel', 'modelType': 'graphSage', 'metrics': {'ranIterationsPerEpoch': [10, 10, 10, 10, 10, 10, 10, 10, 10, 10, 10, 10, 10, 10, 10, 10, 10, 10, 10, 10], 'iterationLossesPerEpoch': [[25.990710291134878, 25.284054177938096, 24.87264464276741, 23.36564632372362, 22.979104190158175, 21.109724708851353, 19.43509812234374, 19.309677713411965, 18.188368736570037, 16.54027878135621], [16.66206119471486, 17.65879630702002, 17.626914687481012, 17.072811829716365, 17.075401323594075, 17.24369978112747, 16.304216817174037, 16.19267271540229, 16.178919873941943, 15.583437476216588], [15.906564445072167, 17.20602711188626, 17.39985436674118, 17.861158531903456, 16.59074805266497, 16.565785453005283, 16.39429658944531, 16.074582979402113, 16.004782809136156, 15.52596174033766], [15.16432652532097, 17.228808211696872, 16.82976115328669, 15.969812854370025, 17.0671662025759, 16.2748804962936, 16.70824146852329, 15.418074858515217, 16.090494153009228, 15.778599319739342], [15.99676457352768, 17.350465994694957, 17.243012600530662, 17.533372435268696, 17.243417319746722, 17.24700695878888, 16.127071890616463, 15.946216762753483, 15.64260136745886, 16.14672138031786], [15.268330309538253, 16.180744013259247, 16.929308925375192, 17.566906795145876, 16.074393244099006, 16.42402479119452, 15.641685324204824, 16.517364393880833, 15.685593183545071, 15.612023495541962], [15.893019752947666, 18.062784377631026, 17.051251209796327, 17.898839559782026, 17.547025141161843, 17.19754203106583, 16.5424486761825, 16.335074823762653, 15.603518625019188, 15.303482027177784], [16.184462498908392, 16.510739870212515, 17.162809309651664, 17.13649704902998, 16.40963949650446, 17.272123190645928, 15.867667825530726, 15.729361890752747, 14.797347746110654, 15.442352277470054], [15.817380432349628, 16.633322152892887, 17.19392866473291, 16.507886898903088, 16.430887777381407, 16.575242084573908, 16.38390838082643, 15.362510945185951, 15.576891590125964, 16.447982996971362], [15.96536527220167, 17.615280088231334, 16.84456723270656, 17.065011958929947, 16.422190650350196, 16.713873599338736, 16.279987072113926, 15.498881337932744, 15.6536831768312, 16.24264645859443], [16.54241725957101, 16.973578251471306, 17.592179525904413, 17.581723229224952, 16.284777514068775, 17.03963249259153, 15.858862788085233, 16.09274818500694, 15.325215547422243, 15.068743339411588], [14.531137647200737, 15.937861757607328, 17.0427159943953, 17.199248271908125, 16.593847148225077, 16.436541827143106, 16.732808565567247, 16.724913162928253, 15.19954978888303, 15.892005986355901], [16.367870334253638, 17.514953512270694, 17.641778358897422, 16.368002351049046, 15.798202108871653, 15.521670139989533, 16.069038815729172, 15.489352972537063, 15.364538614197006, 15.239123246584333], [15.56040234217446, 16.747757190447885, 16.679047493127516, 17.683827523515525, 17.37778513074302, 16.08511807693516, 15.81170376103994, 15.760900318385836, 15.225051801568151, 14.960510492515471], [14.793588055582987, 16.805856671188376, 16.415849530244017, 16.833877748210657, 16.586130597745903, 15.614062739453232, 16.26755392007411, 16.03620582114776, 15.601095903394162, 15.936866087697064], [15.194023935209634, 16.10004965538363, 16.29370470331649, 16.735038755306014, 16.68412791406248, 16.31250158626968, 15.918286127892554, 14.858552150755099, 15.851356165323727, 16.2488787014359], [15.151890953796274, 15.371729083425596, 16.111367850559514, 17.00468057673989, 16.248612083316985, 15.734685366119425, 16.26981724949661, 15.50076768470971, 16.028860770292116, 15.438549390806191], [15.570691508850468, 17.679931864639826, 16.863289321322657, 16.512862611122735, 17.39030939229882, 16.019740703395154, 15.672896099200344, 16.101187212078795, 15.398473741869742, 16.00273110394634], [15.132890021503872, 16.016293933464723, 16.98511957838846, 16.53594095450588, 17.18187207394262, 15.743548181799905, 15.354697017210981, 15.620479421285186, 15.02097088746741, 16.181571079738813], [15.781503108855167, 17.19483735369341, 17.851483722440207, 17.462508473210875, 17.08866358155594, 16.70171507504041, 16.239505467515652, 16.54431038196477, 15.03595636734623, 15.136213310867143]], 'didConverge': False, 'ranEpochs': 20, 'epochLosses': [16.54027878135621, 15.583437476216588, 15.52596174033766, 15.778599319739342, 16.14672138031786, 15.612023495541962, 15.303482027177784, 15.442352277470054, 16.447982996971362, 16.24264645859443, 15.068743339411588, 15.892005986355901, 15.239123246584333, 14.960510492515471, 15.936866087697064, 16.2488787014359, 15.438549390806191, 16.00273110394634, 16.181571079738813, 15.136213310867143]}}}, 'trainConfig': {0: {'maxIterations': 10, 'negativeSampleWeight': 20, 'searchDepth': 20, 'aggregator': 'MEAN', 'activationFunction': 'RELU', 'penaltyL2': 0.0, 'learningRate': 0.001, 'concurrency': 4, 'randomSeed': 7474, 'jobId': 'f11a2dc9-e1f2-4217-b716-bac51e05ea07', 'modelName': 'gsModel', 'embeddingDimension': 256, 'nodeLabels': ['*'], 'sudo': False, 'featureProperties': ['textEmbedding'], 'sampleSizes': [30, 30], 'relationshipTypes': ['*'], 'batchSize': 10, 'epochs': 20, 'tolerance': 0.0001}}, 'graphSchema': {0: {'graphProperties': {}, 'relationships': {'CITED': {}}, 'nodes': {'Paper': {'textEmbedding': 'List of Float (DefaultValue(null), TRANSIENT)'}}}}, 'loaded': {0: True}, 'stored': {0: False}, 'creationTime': {0: neo4j.time.DateTime(2023, 1, 23, 0, 42, 46, 511975816, tzinfo=<StaticTzInfo 'Etc/UTC'>)}, 'shared': {0: False}}),\n modelInfo        {'modelName': 'gsModel', 'modelType': 'graphSa...\n configuration    {'maxIterations': 10, 'negativeSampleWeight': ...\n trainMillis                                                 106790\n Name: 0, dtype: object)"
     },
     "execution_count": 24,
     "metadata": {},
     "output_type": "execute_result"
    }
   ],
   "source": [
    "# train GraphSage\n",
    "gds.beta.graphSage.train(g_sample, modelName='gsModel', embeddingDimension=256, sampleSizes=[30, 30],\n",
    "                         searchDepth=20, epochs=20, learningRate=0.001, activationFunction='RELU',\n",
    "                         aggregator='MEAN', featureProperties=['textEmbedding'], randomSeed=RANDOM_SEED,\n",
    "                         batchSize=10)"
   ],
   "metadata": {
    "collapsed": false
   }
  },
  {
   "cell_type": "code",
   "execution_count": 25,
   "outputs": [
    {
     "data": {
      "text/plain": "GraphSage:   0%|          | 0/100 [00:00<?, ?%/s]",
      "application/vnd.jupyter.widget-view+json": {
       "version_major": 2,
       "version_minor": 0,
       "model_id": "b7e710c671c7448e88f6feefdad7c6d9"
      }
     },
     "metadata": {},
     "output_type": "display_data"
    },
    {
     "data": {
      "text/plain": "nodePropertiesWritten                                               169343\nmutateMillis                                                             0\nnodeCount                                                           169343\npreProcessingMillis                                                      0\ncomputeMillis                                                        34361\nconfiguration            {'jobId': 'b3de3da0-b792-4743-a9be-5291cdd9276...\nName: 0, dtype: object"
     },
     "execution_count": 25,
     "metadata": {},
     "output_type": "execute_result"
    }
   ],
   "source": [
    "# generate graphSage embeddings\n",
    "gds.beta.graphSage.mutate(g, modelName='gsModel', mutateProperty='graphSageEmb')"
   ],
   "metadata": {
    "collapsed": false
   }
  },
  {
   "cell_type": "code",
   "execution_count": 26,
   "outputs": [
    {
     "data": {
      "text/plain": "        nodeId  year  subjectId  \\\n0            0  2013        4.0   \n1            1  2015        5.0   \n2            2  2014       28.0   \n3            3  2014        8.0   \n4            4  2014       27.0   \n...        ...   ...        ...   \n169338  169338  2020        NaN   \n169339  169339  2020       24.0   \n169340  169340  2020       10.0   \n169341  169341  2020        4.0   \n169342  169342  2020        NaN   \n\n                                             graphSageEmb  \n0       [-0.005759144506133723, -0.004078297011198453,...  \n1       [-0.00420300212688539, -0.00583400407235607, -...  \n2       [-0.000851027726619688, -0.00466705959319111, ...  \n3       [-0.0012063443654581204, -0.001550210771127644...  \n4       [-0.0019912510476662666, -0.006279553423920565...  \n...                                                   ...  \n169338  [-0.01091124838158967, -0.009865168182162234, ...  \n169339  [-0.04382474807042934, -0.0021663353088544153,...  \n169340  [-0.011078653669222765, 0.008526905611005758, ...  \n169341  [-0.005614548899110106, -0.004550669226187732,...  \n169342  [0.1400162861765412, -0.0005869643463604316, -...  \n\n[169343 rows x 4 columns]",
      "text/html": "<div>\n<style scoped>\n    .dataframe tbody tr th:only-of-type {\n        vertical-align: middle;\n    }\n\n    .dataframe tbody tr th {\n        vertical-align: top;\n    }\n\n    .dataframe thead th {\n        text-align: right;\n    }\n</style>\n<table border=\"1\" class=\"dataframe\">\n  <thead>\n    <tr style=\"text-align: right;\">\n      <th></th>\n      <th>nodeId</th>\n      <th>year</th>\n      <th>subjectId</th>\n      <th>graphSageEmb</th>\n    </tr>\n  </thead>\n  <tbody>\n    <tr>\n      <th>0</th>\n      <td>0</td>\n      <td>2013</td>\n      <td>4.0</td>\n      <td>[-0.005759144506133723, -0.004078297011198453,...</td>\n    </tr>\n    <tr>\n      <th>1</th>\n      <td>1</td>\n      <td>2015</td>\n      <td>5.0</td>\n      <td>[-0.00420300212688539, -0.00583400407235607, -...</td>\n    </tr>\n    <tr>\n      <th>2</th>\n      <td>2</td>\n      <td>2014</td>\n      <td>28.0</td>\n      <td>[-0.000851027726619688, -0.00466705959319111, ...</td>\n    </tr>\n    <tr>\n      <th>3</th>\n      <td>3</td>\n      <td>2014</td>\n      <td>8.0</td>\n      <td>[-0.0012063443654581204, -0.001550210771127644...</td>\n    </tr>\n    <tr>\n      <th>4</th>\n      <td>4</td>\n      <td>2014</td>\n      <td>27.0</td>\n      <td>[-0.0019912510476662666, -0.006279553423920565...</td>\n    </tr>\n    <tr>\n      <th>...</th>\n      <td>...</td>\n      <td>...</td>\n      <td>...</td>\n      <td>...</td>\n    </tr>\n    <tr>\n      <th>169338</th>\n      <td>169338</td>\n      <td>2020</td>\n      <td>NaN</td>\n      <td>[-0.01091124838158967, -0.009865168182162234, ...</td>\n    </tr>\n    <tr>\n      <th>169339</th>\n      <td>169339</td>\n      <td>2020</td>\n      <td>24.0</td>\n      <td>[-0.04382474807042934, -0.0021663353088544153,...</td>\n    </tr>\n    <tr>\n      <th>169340</th>\n      <td>169340</td>\n      <td>2020</td>\n      <td>10.0</td>\n      <td>[-0.011078653669222765, 0.008526905611005758, ...</td>\n    </tr>\n    <tr>\n      <th>169341</th>\n      <td>169341</td>\n      <td>2020</td>\n      <td>4.0</td>\n      <td>[-0.005614548899110106, -0.004550669226187732,...</td>\n    </tr>\n    <tr>\n      <th>169342</th>\n      <td>169342</td>\n      <td>2020</td>\n      <td>NaN</td>\n      <td>[0.1400162861765412, -0.0005869643463604316, -...</td>\n    </tr>\n  </tbody>\n</table>\n<p>169343 rows × 4 columns</p>\n</div>"
     },
     "execution_count": 26,
     "metadata": {},
     "output_type": "execute_result"
    }
   ],
   "source": [
    "# stream embeddings and merge into other data\n",
    "graphsage_df = gds.graph.nodeProperties.stream(g, node_properties=['graphSageEmb'], separate_property_columns=True)\n",
    "graphsage_df = paper_df.merge(graphsage_df, on='nodeId').drop(columns=['textEmbedding'])\n",
    "graphsage_df"
   ],
   "metadata": {
    "collapsed": false
   }
  },
  {
   "cell_type": "code",
   "execution_count": 27,
   "outputs": [
    {
     "name": "stdout",
     "output_type": "stream",
     "text": [
      "CPU times: user 19.3 s, sys: 6.22 s, total: 25.5 s\n",
      "Wall time: 9.14 s\n"
     ]
    }
   ],
   "source": [
    "%%time\n",
    "x=torch.tensor(np.stack(graphsage_df.graphSageEmb), dtype=torch.float)\n",
    "y=torch.tensor(graphsage_df.subjectId.to_numpy(), dtype=torch.long)\n",
    "\n",
    "gs_benchmark, _ = bm_ogbn_arxiv.run_model(x, y, train_idx, valid_idx, test_idx,\n",
    "                                             hidden_dims=[64], epochs=300, patience=3, verbose=False)"
   ],
   "metadata": {
    "collapsed": false
   }
  },
  {
   "cell_type": "code",
   "execution_count": 28,
   "outputs": [
    {
     "data": {
      "text/plain": "{'train': {'allZeroFeatureVec_Count': 0, 'allZeroFeatureVec_Percent': 0.0},\n 'valid': {'allZeroFeatureVec_Count': 0, 'allZeroFeatureVec_Percent': 0.0},\n 'test': {'allZeroFeatureVec_Count': 0, 'allZeroFeatureVec_Percent': 0.0}}"
     },
     "execution_count": 28,
     "metadata": {},
     "output_type": "execute_result"
    }
   ],
   "source": [
    "gs_benchmark.qualityChecks"
   ],
   "metadata": {
    "collapsed": false
   }
  },
  {
   "cell_type": "code",
   "execution_count": 29,
   "outputs": [
    {
     "data": {
      "text/plain": "{'epoch': 102,\n 'loss': 1.2033071517944336,\n 'train_acc': 0.6709005858787023,\n 'valid_acc': 0.6583993330554397,\n 'test_acc': 0.6537793525079895}"
     },
     "execution_count": 29,
     "metadata": {},
     "output_type": "execute_result"
    }
   ],
   "source": [
    "gs_benchmark.bestStats"
   ],
   "metadata": {
    "collapsed": false
   }
  },
  {
   "cell_type": "code",
   "execution_count": 30,
   "outputs": [
    {
     "data": {
      "text/plain": "graphName                      proj\nnodeProperties       [graphSageEmb]\npropertiesRemoved            169343\nName: 0, dtype: object"
     },
     "execution_count": 30,
     "metadata": {},
     "output_type": "execute_result"
    }
   ],
   "source": [
    "# clean the graph projections\n",
    "g_sample.drop()\n",
    "gds.graph.nodeProperties.drop(g, 'graphSageEmb')"
   ],
   "metadata": {
    "collapsed": false
   }
  },
  {
   "cell_type": "markdown",
   "source": [
    "## Results"
   ],
   "metadata": {
    "collapsed": false
   }
  },
  {
   "cell_type": "code",
   "execution_count": 31,
   "outputs": [
    {
     "name": "stdout",
     "output_type": "stream",
     "text": [
      "====== Model Results =========\n"
     ]
    },
    {
     "data": {
      "text/plain": "                                Model  Test Set Accuracy  \\\n0                Non Graph (NLP Only)              0.539   \n1     Graph ML with FastRP Embeddings              0.680   \n2  Graph ML with GraphSAGE Embeddings              0.654   \n\n  % Improvement Over Non-Graph  \n0                            .  \n1                       26.18%  \n2                       21.40%  ",
      "text/html": "<div>\n<style scoped>\n    .dataframe tbody tr th:only-of-type {\n        vertical-align: middle;\n    }\n\n    .dataframe tbody tr th {\n        vertical-align: top;\n    }\n\n    .dataframe thead th {\n        text-align: right;\n    }\n</style>\n<table border=\"1\" class=\"dataframe\">\n  <thead>\n    <tr style=\"text-align: right;\">\n      <th></th>\n      <th>Model</th>\n      <th>Test Set Accuracy</th>\n      <th>% Improvement Over Non-Graph</th>\n    </tr>\n  </thead>\n  <tbody>\n    <tr>\n      <th>0</th>\n      <td>Non Graph (NLP Only)</td>\n      <td>0.539</td>\n      <td>.</td>\n    </tr>\n    <tr>\n      <th>1</th>\n      <td>Graph ML with FastRP Embeddings</td>\n      <td>0.680</td>\n      <td>26.18%</td>\n    </tr>\n    <tr>\n      <th>2</th>\n      <td>Graph ML with GraphSAGE Embeddings</td>\n      <td>0.654</td>\n      <td>21.40%</td>\n    </tr>\n  </tbody>\n</table>\n</div>"
     },
     "execution_count": 31,
     "metadata": {},
     "output_type": "execute_result"
    }
   ],
   "source": [
    "non_graph_acc = non_graph_benchmark.bestStats['test_acc']\n",
    "fastrp_acc = fastrp_benchmark.bestStats['test_acc']\n",
    "gs_acc = gs_benchmark.bestStats['test_acc']\n",
    "\n",
    "print(f'====== Model Results =========')\n",
    "pd.DataFrame({'Model': ['Non Graph (NLP Only)', 'Graph ML with FastRP Embeddings', 'Graph ML with GraphSAGE Embeddings'],\n",
    "    'Test Set Accuracy': [round(non_graph_acc,3), round(fastrp_acc, 3), round(gs_acc, 3)],\n",
    "    '% Improvement Over Non-Graph': ['.', f'{(fastrp_acc - non_graph_acc)/non_graph_acc:.2%}', f'{(gs_acc - non_graph_acc)/non_graph_acc:.2%}']})"
   ],
   "metadata": {
    "collapsed": false
   }
  },
  {
   "cell_type": "markdown",
   "source": [
    "# Cleanup"
   ],
   "metadata": {
    "collapsed": false
   }
  },
  {
   "cell_type": "code",
   "execution_count": 32,
   "outputs": [],
   "source": [
    "if gds.beta.model.exists('gsModel')['exists']:\n",
    "    gds.model.get('gsModel').drop()"
   ],
   "metadata": {
    "collapsed": false
   }
  },
  {
   "cell_type": "code",
   "execution_count": 33,
   "outputs": [
    {
     "data": {
      "text/plain": "graphName                                                             proj\ndatabase                                                             neo4j\nmemoryUsage                                                               \nsizeInBytes                                                             -1\nnodeCount                                                           169343\nrelationshipCount                                                  2332486\nconfiguration                                                           {}\ndensity                                                           0.000081\ncreationTime                           2023-01-23T00:40:36.088904449+00:00\nmodificationTime                       2023-01-23T00:43:40.798960598+00:00\nschema                   {'graphProperties': {}, 'relationships': {'CIT...\nschemaWithOrientation    {'graphProperties': {}, 'relationships': {'CIT...\nName: 0, dtype: object"
     },
     "execution_count": 33,
     "metadata": {},
     "output_type": "execute_result"
    }
   ],
   "source": [
    "g.drop()"
   ],
   "metadata": {
    "collapsed": false
   }
  }
 ],
 "metadata": {
  "kernelspec": {
   "display_name": "Python 3",
   "language": "python",
   "name": "python3"
  },
  "language_info": {
   "codemirror_mode": {
    "name": "ipython",
    "version": 2
   },
   "file_extension": ".py",
   "mimetype": "text/x-python",
   "name": "python",
   "nbconvert_exporter": "python",
   "pygments_lexer": "ipython2",
   "version": "2.7.6"
  }
 },
 "nbformat": 4,
 "nbformat_minor": 0
}
