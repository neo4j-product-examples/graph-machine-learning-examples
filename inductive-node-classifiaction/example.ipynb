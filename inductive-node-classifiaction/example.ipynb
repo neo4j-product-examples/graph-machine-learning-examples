{
 "cells": [
  {
   "cell_type": "markdown",
   "source": [
    "# Inductive Node Classification\n",
    "\n",
    "![Neo4j version](https://img.shields.io/badge/Neo4j->=4.4.9-brightgreen)\n",
    "![GDS version](https://img.shields.io/badge/GDS-2.3-brightgreen)\n",
    "![GDS Python Client version](https://img.shields.io/badge/GDS_Python_Client-1.6-brightgreen)\n",
    "\n",
    "__This notebook demonstrates how graph features can be used to improve Machine Learning accuracy__ in an inductive setting.\n",
    "In this example, we see accuracy increase by ~25% for supervised node classification.\n",
    "\n",
    "## Inductive Node classification\n",
    "In this application of graph machine learning we are provided a graph where some nodes have a target label that we wish to predict.  The goal is to train a model on the graph for one of two purposes:\n",
    "1. Predict the target label of new nodes as new data is added to the graph\n",
    "2. Predict target labels of nodes on a separate similar graph\n",
    "\n",
    "We refer to this as *__inductive__* graph machine learning. It is a very useful approach for leveraging relationships to improve ML in situations where you must reuse the same model to predict on new, unseen, data.\n",
    "\n",
    "## Dataset\n",
    "The dataset we use to demonstrate is the [`ogbn-arxiv`](https://ogb.stanford.edu/docs/nodeprop/#ogbn-arxiv) citation graph which is composed of papers as nodes and citations between papers as relationships.  Each paper comes with a 128-dimensional floating point vector representing a word embedding of the paper's title and abstract.\n",
    "\n",
    "- __Classification Task:__ The goal is to predict the paper subject, i.e. what the paper is about. There are 40 possible subjects.\n",
    "\n",
    "- __Data Spliting__: To reflect the inductive setting, we want to mirror a realistic scenario where the model is trained on current data then used to predict on new, unseen, future data. To accomplish this we will split train, validation, and test sets by the publication date. Training papers will be those published through 2017, validation will be papers published in 2018, and test will be papers published in 2019.\n",
    "\n",
    "\n",
    "## Models\n",
    "We will train 4 Machine Learning Models and compare their test set accuracy:\n",
    "\n",
    "- __Default Best Guess__: A really naive heuristic (predict by most frequent class in training set) to use as a sanity check. A model must do better than this to be useful.\n",
    "- __Non-Graph (NLP Only)__ : Use just the 128-dimensional word embeddings as feature inputs to a Neural Network classifier.\n",
    "- __Graph ML with FastRP Embeddings:__ Generate Fast Random Projection (FastRP) node embeddings with the word embeddings as weights. Use the FastRP embeddings as inputs to a Neural Network Classifier\n",
    "- __Graph ML with GraphSage Embeddings:__ train an unsupervised GraphSage model (a type of neural network) on a subset of the graph, using word embeddings as inputs, to generate node embeddings.  Use the Graph Sage model to predict node embeddings on the entire graph. Use the node embeddings as inputs to a Neural Network Classifier.\n",
    "\n",
    "\n"
   ],
   "metadata": {
    "collapsed": false
   }
  },
  {
   "cell_type": "code",
   "execution_count": 47,
   "outputs": [],
   "source": [
    "import torch\n",
    "import pandas as pd\n",
    "import numpy as np\n",
    "from graphdatascience import GraphDataScience\n",
    "from dotenv import load_dotenv\n",
    "import os\n",
    "import benchmark.ogbn_arxiv as bm_ogbn_arxiv\n",
    "from graph_data.data_import import get_ogbn_arxiv_data"
   ],
   "metadata": {
    "collapsed": false
   }
  },
  {
   "cell_type": "markdown",
   "source": [
    "## Prepare Data\n",
    "Load source data, mask a proportion of node labels to reflect transductive setting, and create test and train set indexes."
   ],
   "metadata": {
    "collapsed": false
   }
  },
  {
   "cell_type": "code",
   "execution_count": 48,
   "outputs": [],
   "source": [
    "VALID_YEAR = 2018"
   ],
   "metadata": {
    "collapsed": false
   }
  },
  {
   "cell_type": "code",
   "execution_count": 49,
   "outputs": [
    {
     "data": {
      "text/plain": "        nodeId                                      textEmbedding  year  \\\n0            0  [-0.05794300138950348, -0.05253000184893608, -...  2013   \n1            1  [-0.12449999898672104, -0.07066500186920166, -...  2015   \n2            2  [-0.08024200052022934, -0.02332800067961216, -...  2014   \n3            3  [-0.1450439989566803, 0.05491499975323677, -0....  2014   \n4            4  [-0.07115399837493896, 0.07076600193977356, -0...  2014   \n...        ...                                                ...   ...   \n169338  169338  [-0.32135099172592163, -0.03933500126004219, -...  2020   \n169339  169339  [-0.15121200680732727, -0.12470199912786484, -...  2020   \n169340  169340  [-0.22053000330924988, -0.03656800091266632, -...  2020   \n169341  169341  [-0.13823600113391876, 0.04088500142097473, -0...  2020   \n169342  169342  [-0.029874999076128006, 0.26841700077056885, -...  2020   \n\n        subjectId  \n0               4  \n1               5  \n2              28  \n3               8  \n4              27  \n...           ...  \n169338          4  \n169339         24  \n169340         10  \n169341          4  \n169342          1  \n\n[169343 rows x 4 columns]",
      "text/html": "<div>\n<style scoped>\n    .dataframe tbody tr th:only-of-type {\n        vertical-align: middle;\n    }\n\n    .dataframe tbody tr th {\n        vertical-align: top;\n    }\n\n    .dataframe thead th {\n        text-align: right;\n    }\n</style>\n<table border=\"1\" class=\"dataframe\">\n  <thead>\n    <tr style=\"text-align: right;\">\n      <th></th>\n      <th>nodeId</th>\n      <th>textEmbedding</th>\n      <th>year</th>\n      <th>subjectId</th>\n    </tr>\n  </thead>\n  <tbody>\n    <tr>\n      <th>0</th>\n      <td>0</td>\n      <td>[-0.05794300138950348, -0.05253000184893608, -...</td>\n      <td>2013</td>\n      <td>4</td>\n    </tr>\n    <tr>\n      <th>1</th>\n      <td>1</td>\n      <td>[-0.12449999898672104, -0.07066500186920166, -...</td>\n      <td>2015</td>\n      <td>5</td>\n    </tr>\n    <tr>\n      <th>2</th>\n      <td>2</td>\n      <td>[-0.08024200052022934, -0.02332800067961216, -...</td>\n      <td>2014</td>\n      <td>28</td>\n    </tr>\n    <tr>\n      <th>3</th>\n      <td>3</td>\n      <td>[-0.1450439989566803, 0.05491499975323677, -0....</td>\n      <td>2014</td>\n      <td>8</td>\n    </tr>\n    <tr>\n      <th>4</th>\n      <td>4</td>\n      <td>[-0.07115399837493896, 0.07076600193977356, -0...</td>\n      <td>2014</td>\n      <td>27</td>\n    </tr>\n    <tr>\n      <th>...</th>\n      <td>...</td>\n      <td>...</td>\n      <td>...</td>\n      <td>...</td>\n    </tr>\n    <tr>\n      <th>169338</th>\n      <td>169338</td>\n      <td>[-0.32135099172592163, -0.03933500126004219, -...</td>\n      <td>2020</td>\n      <td>4</td>\n    </tr>\n    <tr>\n      <th>169339</th>\n      <td>169339</td>\n      <td>[-0.15121200680732727, -0.12470199912786484, -...</td>\n      <td>2020</td>\n      <td>24</td>\n    </tr>\n    <tr>\n      <th>169340</th>\n      <td>169340</td>\n      <td>[-0.22053000330924988, -0.03656800091266632, -...</td>\n      <td>2020</td>\n      <td>10</td>\n    </tr>\n    <tr>\n      <th>169341</th>\n      <td>169341</td>\n      <td>[-0.13823600113391876, 0.04088500142097473, -0...</td>\n      <td>2020</td>\n      <td>4</td>\n    </tr>\n    <tr>\n      <th>169342</th>\n      <td>169342</td>\n      <td>[-0.029874999076128006, 0.26841700077056885, -...</td>\n      <td>2020</td>\n      <td>1</td>\n    </tr>\n  </tbody>\n</table>\n<p>169343 rows × 4 columns</p>\n</div>"
     },
     "execution_count": 49,
     "metadata": {},
     "output_type": "execute_result"
    }
   ],
   "source": [
    "paper_source_df, citation_source_df = get_ogbn_arxiv_data()\n",
    "paper_source_df"
   ],
   "metadata": {
    "collapsed": false
   }
  },
  {
   "cell_type": "code",
   "execution_count": 50,
   "outputs": [
    {
     "name": "stdout",
     "output_type": "stream",
     "text": [
      "53.7022% of the papers are assigned to the train set\n",
      "17.5968% of the papers are assigned to the validation set\n",
      "28.7009% of the papers are assigned to the test set\n",
      "100.0% of the papers are assigned to just one of the above sets\n"
     ]
    }
   ],
   "source": [
    "# Set some labels as missing to reflect transductive setting\n",
    "paper_df = paper_source_df.copy()\n",
    "\n",
    "\n",
    "# split train, valid and test by year to reflect inductive setting\n",
    "train_idx = paper_df[paper_df.year < VALID_YEAR].nodeId\n",
    "valid_idx = paper_df[paper_df.year == VALID_YEAR].nodeId\n",
    "test_idx = paper_df[paper_df.year > VALID_YEAR].nodeId\n",
    "\n",
    "print(f'{100*len(train_idx)/paper_df.shape[0]:.6}% of the papers are assigned to the train set')\n",
    "print(f'{100*len(valid_idx)/paper_df.shape[0]:.6}% of the papers are assigned to the validation set')\n",
    "print(f'{100*len(test_idx)/paper_df.shape[0]:.6}% of the papers are assigned to the test set')\n",
    "\n",
    "print(f'{100*(len(train_idx) + len(test_idx) + len(valid_idx))/paper_df.shape[0]}% of the papers are assigned to just one of the above sets')"
   ],
   "metadata": {
    "collapsed": false
   }
  },
  {
   "cell_type": "markdown",
   "source": [
    "## Default Best Guess\n",
    "As a dummy baseline - how good do we do if we predicted all examples as the most frequent class in the training set?\n",
    "A useful model must do better than this."
   ],
   "metadata": {
    "collapsed": false
   }
  },
  {
   "cell_type": "code",
   "execution_count": 51,
   "outputs": [
    {
     "name": "stdout",
     "output_type": "stream",
     "text": [
      "CPU times: user 22.7 ms, sys: 1.82 ms, total: 24.5 ms\n",
      "Wall time: 23.6 ms\n"
     ]
    },
    {
     "data": {
      "text/plain": "{'train_acc': 0.17906114953651267,\n 'valid_acc': 0.07627772744051814,\n 'test_acc': 0.05861778079542415}"
     },
     "execution_count": 51,
     "metadata": {},
     "output_type": "execute_result"
    }
   ],
   "source": [
    "%%time\n",
    "default_stats = bm_ogbn_arxiv.default_best_guess_benchmark(paper_df, train_idx, valid_idx, test_idx)\n",
    "default_stats"
   ],
   "metadata": {
    "collapsed": false
   }
  },
  {
   "cell_type": "markdown",
   "source": [
    "This performs horribly, as one may expect, with an accuracy of about 16% in training and it gets worse in validation and test.\n",
    "The drop in accuracy going from train -> valid -> test is an example of the data drifting over time.  __Data drift is a common issue in inductive settings__."
   ],
   "metadata": {
    "collapsed": false
   }
  },
  {
   "cell_type": "markdown",
   "source": [
    "## Non Graph (NLP Only)\n",
    "Use non-graph features only.  For a model with graph features to be useful, it must do better than this."
   ],
   "metadata": {
    "collapsed": false
   }
  },
  {
   "cell_type": "code",
   "execution_count": 52,
   "outputs": [],
   "source": [
    "# convert indexes to tensors for PyTorch\n",
    "train_idx = torch.tensor(train_idx.to_numpy(), dtype=torch.long)\n",
    "valid_idx = torch.tensor(valid_idx.to_numpy(), dtype=torch.long)\n",
    "test_idx = torch.tensor(test_idx.to_numpy(), dtype=torch.long)"
   ],
   "metadata": {
    "collapsed": false
   }
  },
  {
   "cell_type": "code",
   "execution_count": 53,
   "outputs": [
    {
     "name": "stdout",
     "output_type": "stream",
     "text": [
      "CPU times: user 17.4 s, sys: 5.86 s, total: 23.3 s\n",
      "Wall time: 8.48 s\n"
     ]
    }
   ],
   "source": [
    "%%time\n",
    "x=torch.tensor(np.stack(paper_df.textEmbedding), dtype=torch.float)\n",
    "y=torch.tensor(paper_df.subjectId.to_numpy(), dtype=torch.long)\n",
    "\n",
    "non_graph_benchmark, _ = bm_ogbn_arxiv.run_model(x, y, train_idx, valid_idx, test_idx,\n",
    "                                                     hidden_dims=[64], epochs=300, patience=3, verbose=False)"
   ],
   "metadata": {
    "collapsed": false
   }
  },
  {
   "cell_type": "code",
   "execution_count": 54,
   "outputs": [
    {
     "data": {
      "text/plain": "{'train': {'allZeroFeatureVec_Count': 0, 'allZeroFeatureVec_Percent': 0.0},\n 'valid': {'allZeroFeatureVec_Count': 0, 'allZeroFeatureVec_Percent': 0.0},\n 'test': {'allZeroFeatureVec_Count': 0, 'allZeroFeatureVec_Percent': 0.0}}"
     },
     "execution_count": 54,
     "metadata": {},
     "output_type": "execute_result"
    }
   ],
   "source": [
    "non_graph_benchmark.qualityChecks"
   ],
   "metadata": {
    "collapsed": false
   }
  },
  {
   "cell_type": "code",
   "execution_count": 55,
   "outputs": [
    {
     "data": {
      "text/plain": "{'epoch': 98,\n 'loss': 1.6757088899612427,\n 'train_acc': 0.5501478980877712,\n 'valid_acc': 0.5436424041075204,\n 'test_acc': 0.5174989198197643}"
     },
     "execution_count": 55,
     "metadata": {},
     "output_type": "execute_result"
    }
   ],
   "source": [
    "non_graph_benchmark.bestStats"
   ],
   "metadata": {
    "collapsed": false
   }
  },
  {
   "cell_type": "markdown",
   "source": [
    "## Load Graph Into Neo4j for Feature Engineering"
   ],
   "metadata": {
    "collapsed": false
   }
  },
  {
   "cell_type": "code",
   "execution_count": 56,
   "outputs": [],
   "source": [
    "load_dotenv('db-credentials.env', override=True)\n",
    "\n",
    "# Use Neo4j URI and credentials according to our setup\n",
    "gds = GraphDataScience(\n",
    "    os.getenv('NEO4J_URI'),\n",
    "    auth=(os.getenv('NEO4J_USERNAME'),\n",
    "          os.getenv('NEO4J_PASSWORD')),\n",
    "    aura_ds=eval(os.getenv('AURA_DS').title()))\n",
    "\n",
    "# Necessary if you enabled Arrow on the db - this is true for AuraDS\n",
    "gds.set_database(\"neo4j\")\n",
    "PROJ_NAME = 'proj'"
   ],
   "metadata": {
    "collapsed": false
   }
  },
  {
   "cell_type": "code",
   "execution_count": 57,
   "outputs": [
    {
     "data": {
      "text/plain": "'2.3.0'"
     },
     "execution_count": 57,
     "metadata": {},
     "output_type": "execute_result"
    }
   ],
   "source": [
    "gds.version()"
   ],
   "metadata": {
    "collapsed": false
   }
  },
  {
   "cell_type": "code",
   "execution_count": 58,
   "outputs": [
    {
     "data": {
      "text/plain": "        nodeId                                      textEmbedding  year  \\\n0            0  [-0.05794300138950348, -0.05253000184893608, -...  2013   \n1            1  [-0.12449999898672104, -0.07066500186920166, -...  2015   \n2            2  [-0.08024200052022934, -0.02332800067961216, -...  2014   \n3            3  [-0.1450439989566803, 0.05491499975323677, -0....  2014   \n4            4  [-0.07115399837493896, 0.07076600193977356, -0...  2014   \n...        ...                                                ...   ...   \n169338  169338  [-0.32135099172592163, -0.03933500126004219, -...  2020   \n169339  169339  [-0.15121200680732727, -0.12470199912786484, -...  2020   \n169340  169340  [-0.22053000330924988, -0.03656800091266632, -...  2020   \n169341  169341  [-0.13823600113391876, 0.04088500142097473, -0...  2020   \n169342  169342  [-0.029874999076128006, 0.26841700077056885, -...  2020   \n\n                labels  \n0       [Paper, Train]  \n1       [Paper, Train]  \n2       [Paper, Train]  \n3       [Paper, Train]  \n4       [Paper, Train]  \n...                ...  \n169338   [Paper, Test]  \n169339   [Paper, Test]  \n169340   [Paper, Test]  \n169341   [Paper, Test]  \n169342   [Paper, Test]  \n\n[169343 rows x 4 columns]",
      "text/html": "<div>\n<style scoped>\n    .dataframe tbody tr th:only-of-type {\n        vertical-align: middle;\n    }\n\n    .dataframe tbody tr th {\n        vertical-align: top;\n    }\n\n    .dataframe thead th {\n        text-align: right;\n    }\n</style>\n<table border=\"1\" class=\"dataframe\">\n  <thead>\n    <tr style=\"text-align: right;\">\n      <th></th>\n      <th>nodeId</th>\n      <th>textEmbedding</th>\n      <th>year</th>\n      <th>labels</th>\n    </tr>\n  </thead>\n  <tbody>\n    <tr>\n      <th>0</th>\n      <td>0</td>\n      <td>[-0.05794300138950348, -0.05253000184893608, -...</td>\n      <td>2013</td>\n      <td>[Paper, Train]</td>\n    </tr>\n    <tr>\n      <th>1</th>\n      <td>1</td>\n      <td>[-0.12449999898672104, -0.07066500186920166, -...</td>\n      <td>2015</td>\n      <td>[Paper, Train]</td>\n    </tr>\n    <tr>\n      <th>2</th>\n      <td>2</td>\n      <td>[-0.08024200052022934, -0.02332800067961216, -...</td>\n      <td>2014</td>\n      <td>[Paper, Train]</td>\n    </tr>\n    <tr>\n      <th>3</th>\n      <td>3</td>\n      <td>[-0.1450439989566803, 0.05491499975323677, -0....</td>\n      <td>2014</td>\n      <td>[Paper, Train]</td>\n    </tr>\n    <tr>\n      <th>4</th>\n      <td>4</td>\n      <td>[-0.07115399837493896, 0.07076600193977356, -0...</td>\n      <td>2014</td>\n      <td>[Paper, Train]</td>\n    </tr>\n    <tr>\n      <th>...</th>\n      <td>...</td>\n      <td>...</td>\n      <td>...</td>\n      <td>...</td>\n    </tr>\n    <tr>\n      <th>169338</th>\n      <td>169338</td>\n      <td>[-0.32135099172592163, -0.03933500126004219, -...</td>\n      <td>2020</td>\n      <td>[Paper, Test]</td>\n    </tr>\n    <tr>\n      <th>169339</th>\n      <td>169339</td>\n      <td>[-0.15121200680732727, -0.12470199912786484, -...</td>\n      <td>2020</td>\n      <td>[Paper, Test]</td>\n    </tr>\n    <tr>\n      <th>169340</th>\n      <td>169340</td>\n      <td>[-0.22053000330924988, -0.03656800091266632, -...</td>\n      <td>2020</td>\n      <td>[Paper, Test]</td>\n    </tr>\n    <tr>\n      <th>169341</th>\n      <td>169341</td>\n      <td>[-0.13823600113391876, 0.04088500142097473, -0...</td>\n      <td>2020</td>\n      <td>[Paper, Test]</td>\n    </tr>\n    <tr>\n      <th>169342</th>\n      <td>169342</td>\n      <td>[-0.029874999076128006, 0.26841700077056885, -...</td>\n      <td>2020</td>\n      <td>[Paper, Test]</td>\n    </tr>\n  </tbody>\n</table>\n<p>169343 rows × 4 columns</p>\n</div>"
     },
     "execution_count": 58,
     "metadata": {},
     "output_type": "execute_result"
    }
   ],
   "source": [
    "# Use node labels to demarcate test, valid, train split\n",
    "node_df = paper_df.drop(columns=['subjectId'])\n",
    "def label_nodes_from_year(x):\n",
    "    given_node_labels = ['Paper']\n",
    "    res = given_node_labels.copy()\n",
    "    if x < VALID_YEAR:\n",
    "        res.append('Train')\n",
    "    elif x == VALID_YEAR:\n",
    "        res.append('Valid')\n",
    "    else:\n",
    "        res.append('Test')\n",
    "    return res\n",
    "node_df['labels'] = node_df.year.apply(label_nodes_from_year)\n",
    "node_df"
   ],
   "metadata": {
    "collapsed": false
   }
  },
  {
   "cell_type": "code",
   "execution_count": 59,
   "outputs": [
    {
     "data": {
      "text/plain": "         sourceNodeId  targetNodeId relationshipType\n0              104447         13091            CITED\n1               15858         47283            CITED\n2              107156         69161            CITED\n3              107156        136440            CITED\n4              107156        107366            CITED\n...               ...           ...              ...\n1166238         45118         79124            CITED\n1166239         45118        147994            CITED\n1166240         45118        162473            CITED\n1166241         45118        162537            CITED\n1166242         45118         72717            CITED\n\n[1166243 rows x 3 columns]",
      "text/html": "<div>\n<style scoped>\n    .dataframe tbody tr th:only-of-type {\n        vertical-align: middle;\n    }\n\n    .dataframe tbody tr th {\n        vertical-align: top;\n    }\n\n    .dataframe thead th {\n        text-align: right;\n    }\n</style>\n<table border=\"1\" class=\"dataframe\">\n  <thead>\n    <tr style=\"text-align: right;\">\n      <th></th>\n      <th>sourceNodeId</th>\n      <th>targetNodeId</th>\n      <th>relationshipType</th>\n    </tr>\n  </thead>\n  <tbody>\n    <tr>\n      <th>0</th>\n      <td>104447</td>\n      <td>13091</td>\n      <td>CITED</td>\n    </tr>\n    <tr>\n      <th>1</th>\n      <td>15858</td>\n      <td>47283</td>\n      <td>CITED</td>\n    </tr>\n    <tr>\n      <th>2</th>\n      <td>107156</td>\n      <td>69161</td>\n      <td>CITED</td>\n    </tr>\n    <tr>\n      <th>3</th>\n      <td>107156</td>\n      <td>136440</td>\n      <td>CITED</td>\n    </tr>\n    <tr>\n      <th>4</th>\n      <td>107156</td>\n      <td>107366</td>\n      <td>CITED</td>\n    </tr>\n    <tr>\n      <th>...</th>\n      <td>...</td>\n      <td>...</td>\n      <td>...</td>\n    </tr>\n    <tr>\n      <th>1166238</th>\n      <td>45118</td>\n      <td>79124</td>\n      <td>CITED</td>\n    </tr>\n    <tr>\n      <th>1166239</th>\n      <td>45118</td>\n      <td>147994</td>\n      <td>CITED</td>\n    </tr>\n    <tr>\n      <th>1166240</th>\n      <td>45118</td>\n      <td>162473</td>\n      <td>CITED</td>\n    </tr>\n    <tr>\n      <th>1166241</th>\n      <td>45118</td>\n      <td>162537</td>\n      <td>CITED</td>\n    </tr>\n    <tr>\n      <th>1166242</th>\n      <td>45118</td>\n      <td>72717</td>\n      <td>CITED</td>\n    </tr>\n  </tbody>\n</table>\n<p>1166243 rows × 3 columns</p>\n</div>"
     },
     "execution_count": 59,
     "metadata": {},
     "output_type": "execute_result"
    }
   ],
   "source": [
    "rel_df = citation_source_df.rename(columns={'paper': 'sourceNodeId', 'citedPaper': 'targetNodeId'})\n",
    "rel_df['relationshipType'] = 'CITED'\n",
    "rel_df"
   ],
   "metadata": {
    "collapsed": false
   }
  },
  {
   "cell_type": "code",
   "execution_count": 60,
   "outputs": [],
   "source": [
    "if gds.graph.exists(PROJ_NAME)['exists']:\n",
    "    gds.graph.get(PROJ_NAME).drop()"
   ],
   "metadata": {
    "collapsed": false
   }
  },
  {
   "cell_type": "code",
   "execution_count": 61,
   "outputs": [
    {
     "data": {
      "text/plain": "Uploading Nodes:   0%|          | 0/169343 [00:00<?, ?Records/s]",
      "application/vnd.jupyter.widget-view+json": {
       "version_major": 2,
       "version_minor": 0,
       "model_id": "5cdeaea32d4344e7ae59821cafb24f7e"
      }
     },
     "metadata": {},
     "output_type": "display_data"
    },
    {
     "data": {
      "text/plain": "Uploading Relationships:   0%|          | 0/1166243 [00:00<?, ?Records/s]",
      "application/vnd.jupyter.widget-view+json": {
       "version_major": 2,
       "version_minor": 0,
       "model_id": "c9d7a1b394cc4049b1c379d108ddae74"
      }
     },
     "metadata": {},
     "output_type": "display_data"
    },
    {
     "name": "stdout",
     "output_type": "stream",
     "text": [
      "CPU times: user 880 ms, sys: 1.41 s, total: 2.29 s\n",
      "Wall time: 1min 18s\n"
     ]
    }
   ],
   "source": [
    "%%time\n",
    "g = gds.alpha.graph.construct(PROJ_NAME, node_df, rel_df, undirected_relationship_types = ['CITED'])"
   ],
   "metadata": {
    "collapsed": false
   }
  },
  {
   "cell_type": "code",
   "execution_count": 62,
   "outputs": [
    {
     "name": "stdout",
     "output_type": "stream",
     "text": [
      "Node Count: 169,343\n",
      "Relationship Count: 2,332,486\n"
     ]
    }
   ],
   "source": [
    "print(f'Node Count: {g.node_count():,}')\n",
    "print(f'Relationship Count: {g.relationship_count():,}')"
   ],
   "metadata": {
    "collapsed": false
   }
  },
  {
   "cell_type": "markdown",
   "source": [
    "## Graph ML with FastRP Embeddings"
   ],
   "metadata": {
    "collapsed": false
   }
  },
  {
   "cell_type": "markdown",
   "source": [
    "### Generating Embeddings\n",
    "To reflect the inductive setting, we can only use the data available at the time within each data split.  This means that\n",
    "1. The training set embeddings cannot use nodes and relationships from the validation and test sets (a.k.a. papers published after 2017)\n",
    "2. The validation set cannot use nodes and relationships fromm the test set (a.k.a. papers published after 2018)\n",
    "\n",
    "Violating the above would be a form of [data leakage](https://en.wikipedia.org/wiki/Leakage_(machine_learning)). To accomplish this filtering we can use the `nodeLabels` parameter to filter out data splits when creating embeddings for each set.\n"
   ],
   "metadata": {
    "collapsed": false
   }
  },
  {
   "cell_type": "code",
   "execution_count": 63,
   "outputs": [],
   "source": [
    "RANDOM_SEED = 7474"
   ],
   "metadata": {
    "collapsed": false
   }
  },
  {
   "cell_type": "code",
   "execution_count": 64,
   "outputs": [
    {
     "data": {
      "text/plain": "FastRP:   0%|          | 0/100 [00:00<?, ?%/s]",
      "application/vnd.jupyter.widget-view+json": {
       "version_major": 2,
       "version_minor": 0,
       "model_id": "6c147acebd6e40a58773a938f542afb4"
      }
     },
     "metadata": {},
     "output_type": "display_data"
    },
    {
     "data": {
      "text/plain": "nodePropertiesWritten    90941\ncomputeMillis             1004\nName: 0, dtype: object"
     },
     "execution_count": 64,
     "metadata": {},
     "output_type": "execute_result"
    }
   ],
   "source": [
    "stats = gds.fastRP.mutate(g, embeddingDimension=256, mutateProperty='trainFastrp', nodeLabels=['Train'],\n",
    "                  featureProperties=['textEmbedding'], propertyRatio=0.5, randomSeed=RANDOM_SEED)\n",
    "stats[['nodePropertiesWritten', 'computeMillis']]"
   ],
   "metadata": {
    "collapsed": false
   }
  },
  {
   "cell_type": "code",
   "execution_count": 65,
   "outputs": [
    {
     "data": {
      "text/plain": "FastRP:   0%|          | 0/100 [00:00<?, ?%/s]",
      "application/vnd.jupyter.widget-view+json": {
       "version_major": 2,
       "version_minor": 0,
       "model_id": "40b5f69a8ab0443b8c79d8126c08e222"
      }
     },
     "metadata": {},
     "output_type": "display_data"
    },
    {
     "data": {
      "text/plain": "nodePropertiesWritten    120740\ncomputeMillis              1442\nName: 0, dtype: object"
     },
     "execution_count": 65,
     "metadata": {},
     "output_type": "execute_result"
    }
   ],
   "source": [
    "stats = gds.fastRP.mutate(g, embeddingDimension=256, mutateProperty='validFastrp', nodeLabels=['Train', 'Valid'],\n",
    "                  featureProperties=['textEmbedding'], propertyRatio=0.5, randomSeed=RANDOM_SEED)\n",
    "stats[['nodePropertiesWritten', 'computeMillis']]"
   ],
   "metadata": {
    "collapsed": false
   }
  },
  {
   "cell_type": "code",
   "execution_count": 66,
   "outputs": [
    {
     "data": {
      "text/plain": "FastRP:   0%|          | 0/100 [00:00<?, ?%/s]",
      "application/vnd.jupyter.widget-view+json": {
       "version_major": 2,
       "version_minor": 0,
       "model_id": "e151dc67a2574305b3857e65c3ba7445"
      }
     },
     "metadata": {},
     "output_type": "display_data"
    },
    {
     "data": {
      "text/plain": "nodePropertiesWritten    169343\ncomputeMillis              1570\nName: 0, dtype: object"
     },
     "execution_count": 66,
     "metadata": {},
     "output_type": "execute_result"
    }
   ],
   "source": [
    "stats = gds.fastRP.mutate(g, embeddingDimension=256, mutateProperty='testFastrp',\n",
    "                  featureProperties=['textEmbedding'], propertyRatio=0.5, randomSeed=RANDOM_SEED)\n",
    "stats[['nodePropertiesWritten', 'computeMillis']]"
   ],
   "metadata": {
    "collapsed": false
   }
  },
  {
   "cell_type": "code",
   "execution_count": 67,
   "outputs": [
    {
     "data": {
      "text/plain": "        nodeId  year  subjectId  \\\n0            0  2013          4   \n1            1  2015          5   \n2            2  2014         28   \n3            3  2014          8   \n4            4  2014         27   \n...        ...   ...        ...   \n169338  169338  2020          4   \n169339  169339  2020         24   \n169340  169340  2020         10   \n169341  169341  2020          4   \n169342  169342  2020          1   \n\n                                                fastrpEmb  \n0       [-0.018001456, 0.002976255, -0.0039167125, 0.0...  \n1       [0.03180246, -0.0023662215, 0.010938041, -0.01...  \n2       [-0.0033430415, -0.00047625753, 0.008955019, 0...  \n3       [0.04108315, -0.020637406, 0.0030388825, -0.00...  \n4       [0.030352138, 0.0052911597, -0.026630275, -0.0...  \n...                                                   ...  \n169338  [-0.008318075, -0.0039453013, -0.0050907657, 2...  \n169339  [-0.0048398594, -0.0017861046, 0.003423419, 0....  \n169340  [-0.00029355925, 0.0054876376, -0.0012249375, ...  \n169341  [-0.006040647, 0.0008232696, -0.0027380046, 0....  \n169342  [-0.01746059, -0.001931214, 0.003768812, -0.00...  \n\n[169343 rows x 4 columns]",
      "text/html": "<div>\n<style scoped>\n    .dataframe tbody tr th:only-of-type {\n        vertical-align: middle;\n    }\n\n    .dataframe tbody tr th {\n        vertical-align: top;\n    }\n\n    .dataframe thead th {\n        text-align: right;\n    }\n</style>\n<table border=\"1\" class=\"dataframe\">\n  <thead>\n    <tr style=\"text-align: right;\">\n      <th></th>\n      <th>nodeId</th>\n      <th>year</th>\n      <th>subjectId</th>\n      <th>fastrpEmb</th>\n    </tr>\n  </thead>\n  <tbody>\n    <tr>\n      <th>0</th>\n      <td>0</td>\n      <td>2013</td>\n      <td>4</td>\n      <td>[-0.018001456, 0.002976255, -0.0039167125, 0.0...</td>\n    </tr>\n    <tr>\n      <th>1</th>\n      <td>1</td>\n      <td>2015</td>\n      <td>5</td>\n      <td>[0.03180246, -0.0023662215, 0.010938041, -0.01...</td>\n    </tr>\n    <tr>\n      <th>2</th>\n      <td>2</td>\n      <td>2014</td>\n      <td>28</td>\n      <td>[-0.0033430415, -0.00047625753, 0.008955019, 0...</td>\n    </tr>\n    <tr>\n      <th>3</th>\n      <td>3</td>\n      <td>2014</td>\n      <td>8</td>\n      <td>[0.04108315, -0.020637406, 0.0030388825, -0.00...</td>\n    </tr>\n    <tr>\n      <th>4</th>\n      <td>4</td>\n      <td>2014</td>\n      <td>27</td>\n      <td>[0.030352138, 0.0052911597, -0.026630275, -0.0...</td>\n    </tr>\n    <tr>\n      <th>...</th>\n      <td>...</td>\n      <td>...</td>\n      <td>...</td>\n      <td>...</td>\n    </tr>\n    <tr>\n      <th>169338</th>\n      <td>169338</td>\n      <td>2020</td>\n      <td>4</td>\n      <td>[-0.008318075, -0.0039453013, -0.0050907657, 2...</td>\n    </tr>\n    <tr>\n      <th>169339</th>\n      <td>169339</td>\n      <td>2020</td>\n      <td>24</td>\n      <td>[-0.0048398594, -0.0017861046, 0.003423419, 0....</td>\n    </tr>\n    <tr>\n      <th>169340</th>\n      <td>169340</td>\n      <td>2020</td>\n      <td>10</td>\n      <td>[-0.00029355925, 0.0054876376, -0.0012249375, ...</td>\n    </tr>\n    <tr>\n      <th>169341</th>\n      <td>169341</td>\n      <td>2020</td>\n      <td>4</td>\n      <td>[-0.006040647, 0.0008232696, -0.0027380046, 0....</td>\n    </tr>\n    <tr>\n      <th>169342</th>\n      <td>169342</td>\n      <td>2020</td>\n      <td>1</td>\n      <td>[-0.01746059, -0.001931214, 0.003768812, -0.00...</td>\n    </tr>\n  </tbody>\n</table>\n<p>169343 rows × 4 columns</p>\n</div>"
     },
     "execution_count": 67,
     "metadata": {},
     "output_type": "execute_result"
    }
   ],
   "source": [
    "# retrieve embeddings and merge into other data\n",
    "fastrp_train_df = gds.graph.nodeProperties.stream(g, node_properties=['trainFastrp'], node_labels=['Train'],\n",
    "                                               separate_property_columns=True).rename(columns={'trainFastrp': 'fastrpEmb'})\n",
    "fastrp_valid_df = gds.graph.nodeProperties.stream(g, node_properties=['validFastrp'], node_labels=['Valid'],\n",
    "                                               separate_property_columns=True).rename(columns={'validFastrp': 'fastrpEmb'})\n",
    "fastrp_test_df = gds.graph.nodeProperties.stream(g, node_properties=['testFastrp'], node_labels=['Test'],\n",
    "                                              separate_property_columns=True).rename(columns={'testFastrp': 'fastrpEmb'})\n",
    "fastrp_df = pd.concat([fastrp_train_df, fastrp_valid_df, fastrp_test_df]).reset_index(drop=True)\n",
    "fastrp_df = paper_df.merge(fastrp_df, on='nodeId').drop(columns=['textEmbedding'])\n",
    "fastrp_df"
   ],
   "metadata": {
    "collapsed": false
   }
  },
  {
   "cell_type": "markdown",
   "source": [
    "### Train Model with FastRP Embeddings"
   ],
   "metadata": {
    "collapsed": false
   }
  },
  {
   "cell_type": "code",
   "execution_count": 68,
   "outputs": [
    {
     "name": "stdout",
     "output_type": "stream",
     "text": [
      "CPU times: user 19.8 s, sys: 6.62 s, total: 26.4 s\n",
      "Wall time: 9.24 s\n"
     ]
    }
   ],
   "source": [
    "%%time\n",
    "x=torch.tensor(np.stack(fastrp_df.fastrpEmb), dtype=torch.float)\n",
    "y=torch.tensor(fastrp_df.subjectId.to_numpy(), dtype=torch.long)\n",
    "\n",
    "fastrp_benchmark, _= bm_ogbn_arxiv.run_model(x, y, train_idx, valid_idx, test_idx,\n",
    "                                                 hidden_dims=[64], epochs=300, patience=3, verbose=False)"
   ],
   "metadata": {
    "collapsed": false
   }
  },
  {
   "cell_type": "code",
   "execution_count": 69,
   "outputs": [
    {
     "data": {
      "text/plain": "{'train': {'allZeroFeatureVec_Count': 3342,\n  'allZeroFeatureVec_Percent': 0.036749101065526},\n 'valid': {'allZeroFeatureVec_Count': 1339,\n  'allZeroFeatureVec_Percent': 0.044934393771603076},\n 'test': {'allZeroFeatureVec_Count': 0, 'allZeroFeatureVec_Percent': 0.0}}"
     },
     "execution_count": 69,
     "metadata": {},
     "output_type": "execute_result"
    }
   ],
   "source": [
    "fastrp_benchmark.qualityChecks"
   ],
   "metadata": {
    "collapsed": false
   }
  },
  {
   "cell_type": "code",
   "execution_count": 70,
   "outputs": [
    {
     "data": {
      "text/plain": "{'epoch': 100,\n 'loss': 1.1686692237854004,\n 'train_acc': 0.6832011963800706,\n 'valid_acc': 0.6505251854089064,\n 'test_acc': 0.6654527498302574}"
     },
     "execution_count": 70,
     "metadata": {},
     "output_type": "execute_result"
    }
   ],
   "source": [
    "fastrp_benchmark.bestStats"
   ],
   "metadata": {
    "collapsed": false
   }
  },
  {
   "cell_type": "code",
   "execution_count": 71,
   "outputs": [
    {
     "data": {
      "text/plain": "graphName                                              proj\nnodeProperties       [testFastrp, trainFastrp, validFastrp]\npropertiesRemoved                                    381024\nName: 0, dtype: object"
     },
     "execution_count": 71,
     "metadata": {},
     "output_type": "execute_result"
    }
   ],
   "source": [
    "# clean the graph projection\n",
    "gds.graph.nodeProperties.drop(g, ['trainFastrp', 'validFastrp', 'testFastrp'])"
   ],
   "metadata": {
    "collapsed": false
   }
  },
  {
   "cell_type": "markdown",
   "source": [
    "## Graph ML with GraphSage Embeddings"
   ],
   "metadata": {
    "collapsed": false
   }
  },
  {
   "cell_type": "markdown",
   "source": [
    "### Generating Embeddings\n",
    "Like we did with FastRP, we will need to use the `nodeLabels` parameter to filter to the appropriate data split(s) when generating embeddings so-as to avoid any potential data leakage. In addition, for GraphSAGE, we will also need to make sure that we only sample from the training set when creating a subragraph for training."
   ],
   "metadata": {
    "collapsed": false
   }
  },
  {
   "cell_type": "code",
   "execution_count": 72,
   "outputs": [
    {
     "data": {
      "text/plain": "Random walk with restarts sampling:   0%|          | 0/100 [00:00<?, ?%/s]",
      "application/vnd.jupyter.widget-view+json": {
       "version_major": 2,
       "version_minor": 0,
       "model_id": "f4c48acf9d1d46f395843fdf8ecbe1b0"
      }
     },
     "metadata": {},
     "output_type": "display_data"
    }
   ],
   "source": [
    "# create a graph subsample to train graphSage. This will speed up computation\n",
    "if gds.graph.exists(PROJ_NAME + '_sample')['exists']:\n",
    "    gds.graph.get(PROJ_NAME + '_sample').drop()\n",
    "g_sample, _ = gds.alpha.graph.sample.rwr(PROJ_NAME + '_sample', g, nodeLabels=['Train'], samplingRatio=0.5,\n",
    "                                         restartProbability=0.05, concurrency=1, randomSeed=RANDOM_SEED)"
   ],
   "metadata": {
    "collapsed": false
   }
  },
  {
   "cell_type": "code",
   "execution_count": 73,
   "outputs": [
    {
     "data": {
      "text/plain": "(GraphSageModel({'modelInfo': {0: {'modelName': 'gsModel', 'modelType': 'graphSage', 'metrics': {'ranIterationsPerEpoch': [10, 10, 10, 10, 10, 10, 10, 10, 10, 10, 10, 10, 10, 10, 10, 10, 10, 10, 10, 10], 'iterationLossesPerEpoch': [[25.791606997865387, 25.114036037415012, 24.375698489073265, 23.092969808841165, 20.908147085065416, 20.11745489430456, 19.614694880398794, 18.16501598766947, 17.461258242101753, 17.811124640310517], [15.974288570042626, 16.68824702498322, 17.0807047504146, 16.758503383307772, 16.29289904352825, 16.04885266306575, 16.108261032916104, 16.22598518354161, 16.499142604490693, 15.82853004672163], [15.916939146288438, 16.64429836677249, 17.274962391115928, 16.293324827535205, 16.503968911663517, 17.138665891338245, 16.451237916505356, 16.42754990374648, 16.296662875259795, 15.554955869252575], [15.429310096682144, 16.628391177029304, 16.97519335026579, 16.933382472716467, 16.406737242337364, 17.21787291214148, 16.007909225133552, 15.988575019748092, 15.729841221047408, 15.28025917953616], [14.951651698702364, 16.2718867223857, 16.668224715710075, 16.485968976280315, 17.024394716303227, 16.465921382172535, 16.366531373245934, 16.403887316528717, 16.0058534395716, 15.294377091543875], [15.532321067486048, 16.337593254647228, 17.414308521903177, 16.319125367461144, 17.154420994478023, 16.80660179523338, 16.26238696287526, 16.09996537695724, 15.641546346380874, 15.560846538251718], [15.242812406752293, 15.903296045311809, 15.843354234809103, 16.093710375872387, 15.975477452649022, 15.847696623772993, 15.524652218647455, 16.039554466170085, 15.23828095834306, 16.127888305575773], [15.311867881101003, 16.489511817202573, 17.040830403119948, 16.843563427256402, 16.14512296515429, 16.37716536967137, 16.10497522207459, 15.810804225969552, 16.095673180590467, 15.396564560776477], [15.459379496620352, 15.929093949825361, 16.587099223989945, 17.138291354241595, 16.69344456482856, 16.61220646437426, 16.449029830578922, 15.269072095910158, 15.245341859219058, 14.979391746486504], [16.386589034919105, 16.69650628539017, 16.210119401915968, 16.82992094536787, 16.157707612880213, 16.742543060692125, 16.719373806921784, 15.563636332917984, 15.970968256555832, 15.39923864796583], [14.47085068605701, 15.713239483171515, 16.505721321959047, 16.625733880973694, 16.112192885572547, 16.027375881277592, 16.0313005363832, 16.68322657783089, 15.74244565089277, 15.734595055108596], [15.363402281692037, 17.207412314597264, 16.593876478960564, 17.555419800924145, 16.857039714935297, 16.37019022352593, 15.993600393937347, 16.083382316887775, 15.0281915890092, 15.643617902139884], [16.14751826992694, 17.29849273011749, 16.504537627828853, 17.455982649950833, 16.833407965235004, 16.596314104992487, 16.51402241544491, 16.2401965923853, 16.838449197324415, 15.91208928775634], [15.144765860013322, 16.70608034391903, 17.39612705966286, 16.985092846657643, 16.11898680191295, 15.479547282540073, 15.838550274929355, 15.561068385531993, 15.686227055293212, 16.03378724167977], [15.121696762045577, 17.012043992817986, 16.792305399895987, 16.527127618784924, 16.144523711225638, 16.35031663535159, 16.134656951744375, 14.891970389492958, 15.431528970725092, 15.476250433808469], [15.568264663738427, 16.424225024514698, 16.707929027173584, 16.631221895186084, 16.583500299070494, 16.985217792522917, 16.22462624293349, 16.559769609201204, 15.928233920473463, 15.340960044971396], [15.011502585118, 16.975568414955355, 16.920344992572787, 17.32300308127444, 16.40681604148795, 16.00813382102209, 16.273277370114947, 16.066137680821605, 14.88118870969688, 16.251732960512374], [15.461733816770106, 16.748467603539645, 15.994168041526194, 16.710285293309575, 15.995563592814971, 15.828142044293093, 16.63031838456511, 16.302235606118792, 15.650708977430574, 15.887313641902022], [15.446626427586665, 16.467100367797826, 16.355968814244186, 17.331814660571286, 15.956229934195738, 15.893157730992133, 15.248025857121965, 15.369771259024262, 15.19834198951122, 16.00931804992363], [15.967859685589488, 16.442694684309078, 17.099478545506123, 16.522474765518137, 16.06141040247409, 16.907634817810976, 15.89388751799785, 15.364010080625638, 15.784566351046061, 15.220126219619527]], 'didConverge': False, 'ranEpochs': 20, 'epochLosses': [17.811124640310517, 15.82853004672163, 15.554955869252575, 15.28025917953616, 15.294377091543875, 15.560846538251718, 16.127888305575773, 15.396564560776477, 14.979391746486504, 15.39923864796583, 15.734595055108596, 15.643617902139884, 15.91208928775634, 16.03378724167977, 15.476250433808469, 15.340960044971396, 16.251732960512374, 15.887313641902022, 16.00931804992363, 15.220126219619527]}}}, 'trainConfig': {0: {'maxIterations': 10, 'negativeSampleWeight': 20, 'searchDepth': 20, 'aggregator': 'MEAN', 'activationFunction': 'RELU', 'penaltyL2': 0.0, 'learningRate': 0.001, 'concurrency': 4, 'randomSeed': 7474, 'jobId': '1b50df08-ea6e-4d15-bf53-df0548498dbb', 'modelName': 'gsModel', 'embeddingDimension': 256, 'nodeLabels': ['*'], 'sudo': False, 'featureProperties': ['textEmbedding'], 'sampleSizes': [30, 30], 'relationshipTypes': ['*'], 'batchSize': 10, 'epochs': 20, 'tolerance': 0.0001}}, 'graphSchema': {0: {'graphProperties': {}, 'relationships': {'CITED': {}}, 'nodes': {'Paper': {'textEmbedding': 'List of Float (DefaultValue(null), TRANSIENT)', 'year': 'Integer (DefaultValue(-9223372036854775808), TRANSIENT)'}, 'Train': {'textEmbedding': 'List of Float (DefaultValue(null), TRANSIENT)', 'year': 'Integer (DefaultValue(-9223372036854775808), TRANSIENT)'}}}}, 'loaded': {0: True}, 'stored': {0: False}, 'creationTime': {0: neo4j.time.DateTime(2023, 1, 23, 2, 31, 6, 926966041, tzinfo=<StaticTzInfo 'Etc/UTC'>)}, 'shared': {0: False}}),\n modelInfo        {'modelName': 'gsModel', 'modelType': 'graphSa...\n configuration    {'maxIterations': 10, 'negativeSampleWeight': ...\n trainMillis                                                  58397\n Name: 0, dtype: object)"
     },
     "execution_count": 73,
     "metadata": {},
     "output_type": "execute_result"
    }
   ],
   "source": [
    "# train GraphSage\n",
    "if gds.beta.model.exists('gsModel')['exists']:\n",
    "    gds.model.get('gsModel').drop()\n",
    "gds.beta.graphSage.train(g_sample, modelName='gsModel', embeddingDimension=256, sampleSizes=[30, 30],\n",
    "                         searchDepth=20, epochs=20, learningRate=0.001, activationFunction='RELU',\n",
    "                         aggregator='MEAN', featureProperties=['textEmbedding'], randomSeed=RANDOM_SEED,\n",
    "                         batchSize=10)"
   ],
   "metadata": {
    "collapsed": false
   }
  },
  {
   "cell_type": "code",
   "execution_count": 74,
   "outputs": [
    {
     "data": {
      "text/plain": "GraphSage:   0%|          | 0/100 [00:00<?, ?%/s]",
      "application/vnd.jupyter.widget-view+json": {
       "version_major": 2,
       "version_minor": 0,
       "model_id": "c9443e9300e0457bba17195c1499353e"
      }
     },
     "metadata": {},
     "output_type": "display_data"
    },
    {
     "data": {
      "text/plain": "nodePropertiesWritten    90941\ncomputeMillis            15434\nName: 0, dtype: object"
     },
     "execution_count": 74,
     "metadata": {},
     "output_type": "execute_result"
    }
   ],
   "source": [
    "# generate graphSage embeddings\n",
    "stats = gds.beta.graphSage.mutate(g, modelName='gsModel', nodeLabels=['Train'], mutateProperty='trainGraphSageEmb')\n",
    "stats[['nodePropertiesWritten', 'computeMillis']]"
   ],
   "metadata": {
    "collapsed": false
   }
  },
  {
   "cell_type": "code",
   "execution_count": 75,
   "outputs": [
    {
     "data": {
      "text/plain": "GraphSage:   0%|          | 0/100 [00:00<?, ?%/s]",
      "application/vnd.jupyter.widget-view+json": {
       "version_major": 2,
       "version_minor": 0,
       "model_id": "80dfe810cc624c958800986919c3f6cd"
      }
     },
     "metadata": {},
     "output_type": "display_data"
    },
    {
     "data": {
      "text/plain": "nodePropertiesWritten    120740\ncomputeMillis             23842\nName: 0, dtype: object"
     },
     "execution_count": 75,
     "metadata": {},
     "output_type": "execute_result"
    }
   ],
   "source": [
    "stats = gds.beta.graphSage.mutate(g, modelName='gsModel', nodeLabels=['Train', 'Valid'],mutateProperty='validGraphSageEmb')\n",
    "stats[['nodePropertiesWritten', 'computeMillis']]"
   ],
   "metadata": {
    "collapsed": false
   }
  },
  {
   "cell_type": "code",
   "execution_count": 76,
   "outputs": [
    {
     "data": {
      "text/plain": "GraphSage:   0%|          | 0/100 [00:00<?, ?%/s]",
      "application/vnd.jupyter.widget-view+json": {
       "version_major": 2,
       "version_minor": 0,
       "model_id": "6fa16b5e419842e3943ae45794faa4d2"
      }
     },
     "metadata": {},
     "output_type": "display_data"
    },
    {
     "data": {
      "text/plain": "nodePropertiesWritten    169343\ncomputeMillis             37295\nName: 0, dtype: object"
     },
     "execution_count": 76,
     "metadata": {},
     "output_type": "execute_result"
    }
   ],
   "source": [
    "stats = gds.beta.graphSage.mutate(g, modelName='gsModel', mutateProperty='testGraphSageEmb')\n",
    "stats[['nodePropertiesWritten', 'computeMillis']]"
   ],
   "metadata": {
    "collapsed": false
   }
  },
  {
   "cell_type": "code",
   "execution_count": 77,
   "outputs": [
    {
     "data": {
      "text/plain": "        nodeId  year  subjectId  \\\n0            0  2013          4   \n1            1  2015          5   \n2            2  2014         28   \n3            3  2014          8   \n4            4  2014         27   \n...        ...   ...        ...   \n169338  169338  2020          4   \n169339  169339  2020         24   \n169340  169340  2020         10   \n169341  169341  2020          4   \n169342  169342  2020          1   \n\n                                             graphSageEmb  \n0       [-0.005992484327022294, -0.005962161298943747,...  \n1       [-0.008038558263026806, -0.007251417085306731,...  \n2       [-0.012396935589389924, -0.019481974472033814,...  \n3       [-0.0029723242472047863, -0.001560210898866543...  \n4       [-0.0037868415162238406, -0.002975725965524208...  \n...                                                   ...  \n169338  [-0.013385240564853875, -0.018195681974958553,...  \n169339  [-0.015074901577559354, -0.017700057011142297,...  \n169340  [-0.03498560267038506, -0.0393931385640612, -0...  \n169341  [-0.00911268037011832, -0.011591528839730993, ...  \n169342  [0.15544144508747862, -0.0012551015974991257, ...  \n\n[169343 rows x 4 columns]",
      "text/html": "<div>\n<style scoped>\n    .dataframe tbody tr th:only-of-type {\n        vertical-align: middle;\n    }\n\n    .dataframe tbody tr th {\n        vertical-align: top;\n    }\n\n    .dataframe thead th {\n        text-align: right;\n    }\n</style>\n<table border=\"1\" class=\"dataframe\">\n  <thead>\n    <tr style=\"text-align: right;\">\n      <th></th>\n      <th>nodeId</th>\n      <th>year</th>\n      <th>subjectId</th>\n      <th>graphSageEmb</th>\n    </tr>\n  </thead>\n  <tbody>\n    <tr>\n      <th>0</th>\n      <td>0</td>\n      <td>2013</td>\n      <td>4</td>\n      <td>[-0.005992484327022294, -0.005962161298943747,...</td>\n    </tr>\n    <tr>\n      <th>1</th>\n      <td>1</td>\n      <td>2015</td>\n      <td>5</td>\n      <td>[-0.008038558263026806, -0.007251417085306731,...</td>\n    </tr>\n    <tr>\n      <th>2</th>\n      <td>2</td>\n      <td>2014</td>\n      <td>28</td>\n      <td>[-0.012396935589389924, -0.019481974472033814,...</td>\n    </tr>\n    <tr>\n      <th>3</th>\n      <td>3</td>\n      <td>2014</td>\n      <td>8</td>\n      <td>[-0.0029723242472047863, -0.001560210898866543...</td>\n    </tr>\n    <tr>\n      <th>4</th>\n      <td>4</td>\n      <td>2014</td>\n      <td>27</td>\n      <td>[-0.0037868415162238406, -0.002975725965524208...</td>\n    </tr>\n    <tr>\n      <th>...</th>\n      <td>...</td>\n      <td>...</td>\n      <td>...</td>\n      <td>...</td>\n    </tr>\n    <tr>\n      <th>169338</th>\n      <td>169338</td>\n      <td>2020</td>\n      <td>4</td>\n      <td>[-0.013385240564853875, -0.018195681974958553,...</td>\n    </tr>\n    <tr>\n      <th>169339</th>\n      <td>169339</td>\n      <td>2020</td>\n      <td>24</td>\n      <td>[-0.015074901577559354, -0.017700057011142297,...</td>\n    </tr>\n    <tr>\n      <th>169340</th>\n      <td>169340</td>\n      <td>2020</td>\n      <td>10</td>\n      <td>[-0.03498560267038506, -0.0393931385640612, -0...</td>\n    </tr>\n    <tr>\n      <th>169341</th>\n      <td>169341</td>\n      <td>2020</td>\n      <td>4</td>\n      <td>[-0.00911268037011832, -0.011591528839730993, ...</td>\n    </tr>\n    <tr>\n      <th>169342</th>\n      <td>169342</td>\n      <td>2020</td>\n      <td>1</td>\n      <td>[0.15544144508747862, -0.0012551015974991257, ...</td>\n    </tr>\n  </tbody>\n</table>\n<p>169343 rows × 4 columns</p>\n</div>"
     },
     "execution_count": 77,
     "metadata": {},
     "output_type": "execute_result"
    }
   ],
   "source": [
    "# retrieve embeddings and merge into other data\n",
    "gs_train_df = gds.graph.nodeProperties.stream(g, node_properties=['trainGraphSageEmb'], node_labels=['Train'],\n",
    "                                               separate_property_columns=True).rename(columns={'trainGraphSageEmb': 'graphSageEmb'})\n",
    "\n",
    "gs_valid_df = gds.graph.nodeProperties.stream(g, node_properties=['validGraphSageEmb'], node_labels=['Valid'],\n",
    "                                               separate_property_columns=True).rename(columns={'validGraphSageEmb': 'graphSageEmb'})\n",
    "\n",
    "gs_test_df = gds.graph.nodeProperties.stream(g, node_properties=['testGraphSageEmb'], node_labels=['Test'],\n",
    "                                              separate_property_columns=True).rename(columns={'testGraphSageEmb': 'graphSageEmb'})\n",
    "\n",
    "graphsage_df = pd.concat([gs_train_df, gs_valid_df, gs_test_df]).reset_index(drop=True)\n",
    "graphsage_df = paper_df.merge(graphsage_df, on='nodeId').drop(columns=['textEmbedding'])\n",
    "graphsage_df"
   ],
   "metadata": {
    "collapsed": false
   }
  },
  {
   "cell_type": "code",
   "execution_count": 78,
   "outputs": [
    {
     "name": "stdout",
     "output_type": "stream",
     "text": [
      "CPU times: user 25.4 s, sys: 8.27 s, total: 33.7 s\n",
      "Wall time: 12.2 s\n"
     ]
    }
   ],
   "source": [
    "%%time\n",
    "x=torch.tensor(np.stack(graphsage_df.graphSageEmb), dtype=torch.float)\n",
    "y=torch.tensor(graphsage_df.subjectId.to_numpy(), dtype=torch.long)\n",
    "\n",
    "gs_benchmark, _ = bm_ogbn_arxiv.run_model(x, y, train_idx, valid_idx, test_idx,\n",
    "                                             hidden_dims=[64], epochs=300, patience=3, verbose=False)"
   ],
   "metadata": {
    "collapsed": false
   }
  },
  {
   "cell_type": "code",
   "execution_count": 79,
   "outputs": [
    {
     "data": {
      "text/plain": "{'train': {'allZeroFeatureVec_Count': 0, 'allZeroFeatureVec_Percent': 0.0},\n 'valid': {'allZeroFeatureVec_Count': 0, 'allZeroFeatureVec_Percent': 0.0},\n 'test': {'allZeroFeatureVec_Count': 0, 'allZeroFeatureVec_Percent': 0.0}}"
     },
     "execution_count": 79,
     "metadata": {},
     "output_type": "execute_result"
    }
   ],
   "source": [
    "gs_benchmark.qualityChecks"
   ],
   "metadata": {
    "collapsed": false
   }
  },
  {
   "cell_type": "code",
   "execution_count": 80,
   "outputs": [
    {
     "data": {
      "text/plain": "{'epoch': 128,\n 'loss': 1.2998781204223633,\n 'train_acc': 0.6511694395267261,\n 'valid_acc': 0.6334440753045404,\n 'test_acc': 0.6413801617184124}"
     },
     "execution_count": 80,
     "metadata": {},
     "output_type": "execute_result"
    }
   ],
   "source": [
    "gs_benchmark.bestStats"
   ],
   "metadata": {
    "collapsed": false
   }
  },
  {
   "cell_type": "code",
   "execution_count": 81,
   "outputs": [
    {
     "data": {
      "text/plain": "graphName                                                         proj\nnodeProperties       [testGraphSageEmb, trainGraphSageEmb, validGra...\npropertiesRemoved                                               381024\nName: 0, dtype: object"
     },
     "execution_count": 81,
     "metadata": {},
     "output_type": "execute_result"
    }
   ],
   "source": [
    "# clean the graph projections\n",
    "g_sample.drop()\n",
    "gds.graph.nodeProperties.drop(g, ['trainGraphSageEmb', 'validGraphSageEmb', 'testGraphSageEmb'])"
   ],
   "metadata": {
    "collapsed": false
   }
  },
  {
   "cell_type": "markdown",
   "source": [
    "## Results"
   ],
   "metadata": {
    "collapsed": false
   }
  },
  {
   "cell_type": "code",
   "execution_count": 82,
   "outputs": [
    {
     "name": "stdout",
     "output_type": "stream",
     "text": [
      "====== Model Results =========\n"
     ]
    },
    {
     "data": {
      "text/plain": "                                Model  Test Set Accuracy  \\\n0                Non Graph (NLP Only)              0.517   \n1     Graph ML with FastRP Embeddings              0.665   \n2  Graph ML with GraphSAGE Embeddings              0.641   \n\n  % Improvement Over Non-Graph  \n0                            .  \n1                       28.59%  \n2                       23.94%  ",
      "text/html": "<div>\n<style scoped>\n    .dataframe tbody tr th:only-of-type {\n        vertical-align: middle;\n    }\n\n    .dataframe tbody tr th {\n        vertical-align: top;\n    }\n\n    .dataframe thead th {\n        text-align: right;\n    }\n</style>\n<table border=\"1\" class=\"dataframe\">\n  <thead>\n    <tr style=\"text-align: right;\">\n      <th></th>\n      <th>Model</th>\n      <th>Test Set Accuracy</th>\n      <th>% Improvement Over Non-Graph</th>\n    </tr>\n  </thead>\n  <tbody>\n    <tr>\n      <th>0</th>\n      <td>Non Graph (NLP Only)</td>\n      <td>0.517</td>\n      <td>.</td>\n    </tr>\n    <tr>\n      <th>1</th>\n      <td>Graph ML with FastRP Embeddings</td>\n      <td>0.665</td>\n      <td>28.59%</td>\n    </tr>\n    <tr>\n      <th>2</th>\n      <td>Graph ML with GraphSAGE Embeddings</td>\n      <td>0.641</td>\n      <td>23.94%</td>\n    </tr>\n  </tbody>\n</table>\n</div>"
     },
     "execution_count": 82,
     "metadata": {},
     "output_type": "execute_result"
    }
   ],
   "source": [
    "non_graph_acc = non_graph_benchmark.bestStats['test_acc']\n",
    "fastrp_acc = fastrp_benchmark.bestStats['test_acc']\n",
    "gs_acc = gs_benchmark.bestStats['test_acc']\n",
    "\n",
    "print(f'====== Model Results =========')\n",
    "pd.DataFrame({'Model': ['Non Graph (NLP Only)', 'Graph ML with FastRP Embeddings', 'Graph ML with GraphSAGE Embeddings'],\n",
    "    'Test Set Accuracy': [round(non_graph_acc,3), round(fastrp_acc, 3), round(gs_acc, 3)],\n",
    "    '% Improvement Over Non-Graph': ['.', f'{(fastrp_acc - non_graph_acc)/non_graph_acc:.2%}', f'{(gs_acc - non_graph_acc)/non_graph_acc:.2%}']})"
   ],
   "metadata": {
    "collapsed": false
   }
  },
  {
   "cell_type": "markdown",
   "source": [
    "# Cleanup"
   ],
   "metadata": {
    "collapsed": false
   }
  },
  {
   "cell_type": "code",
   "execution_count": 83,
   "outputs": [],
   "source": [
    "if gds.beta.model.exists('gsModel')['exists']:\n",
    "    gds.model.get('gsModel').drop()"
   ],
   "metadata": {
    "collapsed": false
   }
  },
  {
   "cell_type": "code",
   "execution_count": 84,
   "outputs": [
    {
     "data": {
      "text/plain": "graphName                                                             proj\ndatabase                                                             neo4j\nmemoryUsage                                                               \nsizeInBytes                                                             -1\nnodeCount                                                           169343\nrelationshipCount                                                  2332486\nconfiguration                                                           {}\ndensity                                                           0.000081\ncreationTime                           2023-01-23T02:29:42.748771399+00:00\nmodificationTime                       2023-01-23T02:32:47.532329610+00:00\nschema                   {'graphProperties': {}, 'relationships': {'CIT...\nschemaWithOrientation    {'graphProperties': {}, 'relationships': {'CIT...\nName: 0, dtype: object"
     },
     "execution_count": 84,
     "metadata": {},
     "output_type": "execute_result"
    }
   ],
   "source": [
    "g.drop()"
   ],
   "metadata": {
    "collapsed": false
   }
  },
  {
   "cell_type": "code",
   "execution_count": 84,
   "outputs": [],
   "source": [],
   "metadata": {
    "collapsed": false
   }
  }
 ],
 "metadata": {
  "kernelspec": {
   "display_name": "Python 3",
   "language": "python",
   "name": "python3"
  },
  "language_info": {
   "codemirror_mode": {
    "name": "ipython",
    "version": 2
   },
   "file_extension": ".py",
   "mimetype": "text/x-python",
   "name": "python",
   "nbconvert_exporter": "python",
   "pygments_lexer": "ipython2",
   "version": "2.7.6"
  }
 },
 "nbformat": 4,
 "nbformat_minor": 0
}
