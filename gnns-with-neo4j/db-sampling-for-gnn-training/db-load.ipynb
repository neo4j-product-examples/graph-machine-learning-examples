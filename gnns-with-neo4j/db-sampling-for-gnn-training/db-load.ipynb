{
 "cells": [
  {
   "cell_type": "markdown",
   "metadata": {},
   "source": [
    "# Load [`ogbn-arxiv`](https://ogb.stanford.edu/docs/nodeprop/#ogbn-arxiv) Graph Into Neo4j Database (~5 Min)\n",
    "![Neo4j version](https://img.shields.io/badge/Neo4j->=4.4.9-brightgreen)\n",
    "![GDS version](https://img.shields.io/badge/GDS-2.3-brightgreen)\n",
    "![GDS Python Client version](https://img.shields.io/badge/GDS_Python_Client-1.6-brightgreen)\n",
    "\n",
    "This notebook is a prerequisite to [`pyg-gnn.ipynb` - \"Sampling a Graph Database to Train a GNN Model\"](https://github.com/neo4j-product-examples/graph-machine-learning-examples/blob/main/gnns-with-neo4j/db-sampling-for-gnn-training/pyg-gnn.ipynb)"
   ]
  },
  {
   "cell_type": "markdown",
   "metadata": {},
   "source": [
    "## Setup"
   ]
  },
  {
   "cell_type": "code",
   "execution_count": 1,
   "metadata": {
    "collapsed": false,
    "jupyter": {
     "outputs_hidden": false
    }
   },
   "outputs": [
    {
     "name": "stdout",
     "output_type": "stream",
     "text": [
      "Requirement already satisfied: graphdatascience in /opt/conda/lib/python3.7/site-packages (1.6)\n",
      "Requirement already satisfied: python-dotenv in /opt/conda/lib/python3.7/site-packages (0.21.1)\n",
      "Requirement already satisfied: ogb in /opt/conda/lib/python3.7/site-packages (1.3.5)\n",
      "Requirement already satisfied: multimethod<2.0,>=1.0 in /opt/conda/lib/python3.7/site-packages (from graphdatascience) (1.9.1)\n",
      "Requirement already satisfied: tqdm<5.0,>=4.0 in /opt/conda/lib/python3.7/site-packages (from graphdatascience) (4.64.1)\n",
      "Requirement already satisfied: pyarrow<11.0,>=4.0 in /opt/conda/lib/python3.7/site-packages (from graphdatascience) (7.0.0)\n",
      "Requirement already satisfied: neo4j<6.0,>=4.4.2 in /opt/conda/lib/python3.7/site-packages (from graphdatascience) (5.6.0)\n",
      "Requirement already satisfied: pandas<2.0,>=1.0 in /opt/conda/lib/python3.7/site-packages (from graphdatascience) (1.3.5)\n",
      "Requirement already satisfied: scikit-learn>=0.20.0 in /opt/conda/lib/python3.7/site-packages (from ogb) (1.0.2)\n",
      "Requirement already satisfied: numpy>=1.16.0 in /opt/conda/lib/python3.7/site-packages (from ogb) (1.21.6)\n",
      "Requirement already satisfied: outdated>=0.2.0 in /opt/conda/lib/python3.7/site-packages (from ogb) (0.2.2)\n",
      "Requirement already satisfied: six>=1.12.0 in /opt/conda/lib/python3.7/site-packages (from ogb) (1.16.0)\n",
      "Requirement already satisfied: urllib3>=1.24.0 in /opt/conda/lib/python3.7/site-packages (from ogb) (1.26.14)\n",
      "Requirement already satisfied: torch>=1.6.0 in /opt/conda/lib/python3.7/site-packages (from ogb) (1.13.1)\n",
      "Requirement already satisfied: pytz in /opt/conda/lib/python3.7/site-packages (from neo4j<6.0,>=4.4.2->graphdatascience) (2022.7.1)\n",
      "Requirement already satisfied: setuptools>=44 in /opt/conda/lib/python3.7/site-packages (from outdated>=0.2.0->ogb) (66.1.1)\n",
      "Requirement already satisfied: littleutils in /opt/conda/lib/python3.7/site-packages (from outdated>=0.2.0->ogb) (0.2.2)\n",
      "Requirement already satisfied: requests in /opt/conda/lib/python3.7/site-packages (from outdated>=0.2.0->ogb) (2.28.2)\n",
      "Requirement already satisfied: python-dateutil>=2.7.3 in /opt/conda/lib/python3.7/site-packages (from pandas<2.0,>=1.0->graphdatascience) (2.8.2)\n",
      "Requirement already satisfied: threadpoolctl>=2.0.0 in /opt/conda/lib/python3.7/site-packages (from scikit-learn>=0.20.0->ogb) (3.1.0)\n",
      "Requirement already satisfied: joblib>=0.11 in /opt/conda/lib/python3.7/site-packages (from scikit-learn>=0.20.0->ogb) (1.2.0)\n",
      "Requirement already satisfied: scipy>=1.1.0 in /opt/conda/lib/python3.7/site-packages (from scikit-learn>=0.20.0->ogb) (1.7.3)\n",
      "Requirement already satisfied: nvidia-cublas-cu11==11.10.3.66 in /opt/conda/lib/python3.7/site-packages (from torch>=1.6.0->ogb) (11.10.3.66)\n",
      "Requirement already satisfied: nvidia-cuda-nvrtc-cu11==11.7.99 in /opt/conda/lib/python3.7/site-packages (from torch>=1.6.0->ogb) (11.7.99)\n",
      "Requirement already satisfied: typing-extensions in /opt/conda/lib/python3.7/site-packages (from torch>=1.6.0->ogb) (4.4.0)\n",
      "Requirement already satisfied: nvidia-cuda-runtime-cu11==11.7.99 in /opt/conda/lib/python3.7/site-packages (from torch>=1.6.0->ogb) (11.7.99)\n",
      "Requirement already satisfied: nvidia-cudnn-cu11==8.5.0.96 in /opt/conda/lib/python3.7/site-packages (from torch>=1.6.0->ogb) (8.5.0.96)\n",
      "Requirement already satisfied: wheel in /opt/conda/lib/python3.7/site-packages (from nvidia-cublas-cu11==11.10.3.66->torch>=1.6.0->ogb) (0.38.4)\n",
      "Requirement already satisfied: charset-normalizer<4,>=2 in /opt/conda/lib/python3.7/site-packages (from requests->outdated>=0.2.0->ogb) (2.1.1)\n",
      "Requirement already satisfied: certifi>=2017.4.17 in /opt/conda/lib/python3.7/site-packages (from requests->outdated>=0.2.0->ogb) (2022.12.7)\n",
      "Requirement already satisfied: idna<4,>=2.5 in /opt/conda/lib/python3.7/site-packages (from requests->outdated>=0.2.0->ogb) (3.4)\n",
      "Note: you may need to restart the kernel to use updated packages.\n"
     ]
    }
   ],
   "source": [
    "%pip install graphdatascience python-dotenv ogb"
   ]
  },
  {
   "cell_type": "code",
   "execution_count": 2,
   "metadata": {
    "collapsed": false,
    "jupyter": {
     "outputs_hidden": false
    }
   },
   "outputs": [],
   "source": [
    "import pandas as pd\n",
    "import numpy as np\n",
    "from graphdatascience import GraphDataScience\n",
    "from dotenv import load_dotenv\n",
    "import os\n",
    "from graph_data.data_import import get_ogbn_arxiv_data, chunks, load_nodes, load_rels\n",
    "from numpy.typing import ArrayLike"
   ]
  },
  {
   "cell_type": "code",
   "execution_count": 3,
   "metadata": {
    "collapsed": false,
    "jupyter": {
     "outputs_hidden": false
    }
   },
   "outputs": [],
   "source": [
    "load_dotenv('db-credentials.env', override=True)\n",
    "\n",
    "# Use Neo4j URI and credentials according to our setup\n",
    "gds = GraphDataScience(\n",
    "    os.getenv('NEO4J_URI'),\n",
    "    auth=(os.getenv('NEO4J_USERNAME'),\n",
    "          os.getenv('NEO4J_PASSWORD')),\n",
    "    aura_ds=eval(os.getenv('AURA_DS').title()))\n",
    "\n",
    "# Necessary if you enabled Arrow on the db - this is true for AuraDS\n",
    "gds.set_database(\"neo4j\")"
   ]
  },
  {
   "cell_type": "markdown",
   "metadata": {},
   "source": [
    "## Get Source Data\n",
    "Including raw text for titles, abstracts, and subjects"
   ]
  },
  {
   "cell_type": "code",
   "execution_count": 4,
   "metadata": {
    "collapsed": false,
    "jupyter": {
     "outputs_hidden": false
    }
   },
   "outputs": [
    {
     "name": "stdout",
     "output_type": "stream",
     "text": [
      "Downloading http://snap.stanford.edu/ogb/data/nodeproppred/arxiv.zip\n"
     ]
    },
    {
     "name": "stderr",
     "output_type": "stream",
     "text": [
      "Downloaded 0.08 GB: 100%|██████████| 81/81 [00:02<00:00, 34.92it/s]\n"
     ]
    },
    {
     "name": "stdout",
     "output_type": "stream",
     "text": [
      "Extracting dataset/arxiv.zip\n",
      "Loading necessary files...\n",
      "This might take a while.\n",
      "Processing graphs...\n"
     ]
    },
    {
     "name": "stderr",
     "output_type": "stream",
     "text": [
      "100%|██████████| 1/1 [00:00<00:00, 7557.30it/s]"
     ]
    },
    {
     "name": "stdout",
     "output_type": "stream",
     "text": [
      "Saving...\n"
     ]
    },
    {
     "name": "stderr",
     "output_type": "stream",
     "text": [
      "\n"
     ]
    },
    {
     "data": {
      "text/html": [
       "<div>\n",
       "<style scoped>\n",
       "    .dataframe tbody tr th:only-of-type {\n",
       "        vertical-align: middle;\n",
       "    }\n",
       "\n",
       "    .dataframe tbody tr th {\n",
       "        vertical-align: top;\n",
       "    }\n",
       "\n",
       "    .dataframe thead th {\n",
       "        text-align: right;\n",
       "    }\n",
       "</style>\n",
       "<table border=\"1\" class=\"dataframe\">\n",
       "  <thead>\n",
       "    <tr style=\"text-align: right;\">\n",
       "      <th></th>\n",
       "      <th>paperId</th>\n",
       "      <th>title</th>\n",
       "      <th>abstract</th>\n",
       "      <th>ogbId</th>\n",
       "      <th>textEmbedding</th>\n",
       "      <th>year</th>\n",
       "      <th>subjectId</th>\n",
       "      <th>subjectLabel</th>\n",
       "    </tr>\n",
       "  </thead>\n",
       "  <tbody>\n",
       "    <tr>\n",
       "      <th>0</th>\n",
       "      <td>630234</td>\n",
       "      <td>spreadsheets on the move an evaluation of mobi...</td>\n",
       "      <td>The power of mobile devices has increased dram...</td>\n",
       "      <td>104447</td>\n",
       "      <td>[0.010079000145196915, -0.028968000784516335, ...</td>\n",
       "      <td>2011</td>\n",
       "      <td>6</td>\n",
       "      <td>arxiv cs hc</td>\n",
       "    </tr>\n",
       "    <tr>\n",
       "      <th>1</th>\n",
       "      <td>16868154</td>\n",
       "      <td>factors influencing the quality of the user ex...</td>\n",
       "      <td>The use of mobile devices and the rapid growth...</td>\n",
       "      <td>126951</td>\n",
       "      <td>[-0.14517700672149658, -0.04205799847841263, -...</td>\n",
       "      <td>2014</td>\n",
       "      <td>6</td>\n",
       "      <td>arxiv cs hc</td>\n",
       "    </tr>\n",
       "    <tr>\n",
       "      <th>2</th>\n",
       "      <td>30955769</td>\n",
       "      <td>a comprehensive model of usability</td>\n",
       "      <td>Usability is a key quality attribute of succes...</td>\n",
       "      <td>160133</td>\n",
       "      <td>[-0.13881300389766693, 0.0757559984922409, -0....</td>\n",
       "      <td>2008</td>\n",
       "      <td>6</td>\n",
       "      <td>arxiv cs hc</td>\n",
       "    </tr>\n",
       "    <tr>\n",
       "      <th>3</th>\n",
       "      <td>54410545</td>\n",
       "      <td>planning in the wild modeling tools for pddl</td>\n",
       "      <td>Even though there are sophisticated AI plannin...</td>\n",
       "      <td>148334</td>\n",
       "      <td>[-0.09789499640464783, -0.0002640000020619482,...</td>\n",
       "      <td>2014</td>\n",
       "      <td>6</td>\n",
       "      <td>arxiv cs hc</td>\n",
       "    </tr>\n",
       "    <tr>\n",
       "      <th>4</th>\n",
       "      <td>62732812</td>\n",
       "      <td>low cost eye trackers useful for information s...</td>\n",
       "      <td>Research investigating cognitive aspects of in...</td>\n",
       "      <td>6449</td>\n",
       "      <td>[-0.26364800333976746, -0.016287999227643013, ...</td>\n",
       "      <td>2014</td>\n",
       "      <td>6</td>\n",
       "      <td>arxiv cs hc</td>\n",
       "    </tr>\n",
       "    <tr>\n",
       "      <th>...</th>\n",
       "      <td>...</td>\n",
       "      <td>...</td>\n",
       "      <td>...</td>\n",
       "      <td>...</td>\n",
       "      <td>...</td>\n",
       "      <td>...</td>\n",
       "      <td>...</td>\n",
       "      <td>...</td>\n",
       "    </tr>\n",
       "    <tr>\n",
       "      <th>169338</th>\n",
       "      <td>3010964174</td>\n",
       "      <td>latent space subdivision stable and controllab...</td>\n",
       "      <td>We propose an end-to-end trained neural networ...</td>\n",
       "      <td>146977</td>\n",
       "      <td>[-0.11292299628257751, -0.029922999441623688, ...</td>\n",
       "      <td>2020</td>\n",
       "      <td>17</td>\n",
       "      <td>arxiv cs gr</td>\n",
       "    </tr>\n",
       "    <tr>\n",
       "      <th>169339</th>\n",
       "      <td>3011546779</td>\n",
       "      <td>enabling viewpoint learning through dynamic la...</td>\n",
       "      <td>Optimal viewpoint prediction is an essential t...</td>\n",
       "      <td>6443</td>\n",
       "      <td>[-0.23396000266075134, 0.022811999544501305, -...</td>\n",
       "      <td>2020</td>\n",
       "      <td>17</td>\n",
       "      <td>arxiv cs gr</td>\n",
       "    </tr>\n",
       "    <tr>\n",
       "      <th>169340</th>\n",
       "      <td>3011610898</td>\n",
       "      <td>real time image smoothing via iterative least ...</td>\n",
       "      <td>Edge-preserving image smoothing is a fundament...</td>\n",
       "      <td>113754</td>\n",
       "      <td>[-0.06525000184774399, 0.1853809952735901, -0....</td>\n",
       "      <td>2020</td>\n",
       "      <td>17</td>\n",
       "      <td>arxiv cs gr</td>\n",
       "    </tr>\n",
       "    <tr>\n",
       "      <th>169341</th>\n",
       "      <td>3011917630</td>\n",
       "      <td>geodesic distance field based curved layer vol...</td>\n",
       "      <td>This paper presents a new curved layer volume ...</td>\n",
       "      <td>132336</td>\n",
       "      <td>[0.020333999767899513, 0.17771199345588684, -0...</td>\n",
       "      <td>2020</td>\n",
       "      <td>17</td>\n",
       "      <td>arxiv cs gr</td>\n",
       "    </tr>\n",
       "    <tr>\n",
       "      <th>169342</th>\n",
       "      <td>3012106147</td>\n",
       "      <td>fusion aware point convolution for online sema...</td>\n",
       "      <td>Online semantic 3D segmentation in company wit...</td>\n",
       "      <td>95286</td>\n",
       "      <td>[-0.04813800007104874, 0.20483699440956116, -0...</td>\n",
       "      <td>2020</td>\n",
       "      <td>17</td>\n",
       "      <td>arxiv cs gr</td>\n",
       "    </tr>\n",
       "  </tbody>\n",
       "</table>\n",
       "<p>169343 rows × 8 columns</p>\n",
       "</div>"
      ],
      "text/plain": [
       "           paperId                                              title  \\\n",
       "0           630234  spreadsheets on the move an evaluation of mobi...   \n",
       "1         16868154  factors influencing the quality of the user ex...   \n",
       "2         30955769                 a comprehensive model of usability   \n",
       "3         54410545       planning in the wild modeling tools for pddl   \n",
       "4         62732812  low cost eye trackers useful for information s...   \n",
       "...            ...                                                ...   \n",
       "169338  3010964174  latent space subdivision stable and controllab...   \n",
       "169339  3011546779  enabling viewpoint learning through dynamic la...   \n",
       "169340  3011610898  real time image smoothing via iterative least ...   \n",
       "169341  3011917630  geodesic distance field based curved layer vol...   \n",
       "169342  3012106147  fusion aware point convolution for online sema...   \n",
       "\n",
       "                                                 abstract   ogbId  \\\n",
       "0       The power of mobile devices has increased dram...  104447   \n",
       "1       The use of mobile devices and the rapid growth...  126951   \n",
       "2       Usability is a key quality attribute of succes...  160133   \n",
       "3       Even though there are sophisticated AI plannin...  148334   \n",
       "4       Research investigating cognitive aspects of in...    6449   \n",
       "...                                                   ...     ...   \n",
       "169338  We propose an end-to-end trained neural networ...  146977   \n",
       "169339  Optimal viewpoint prediction is an essential t...    6443   \n",
       "169340  Edge-preserving image smoothing is a fundament...  113754   \n",
       "169341  This paper presents a new curved layer volume ...  132336   \n",
       "169342  Online semantic 3D segmentation in company wit...   95286   \n",
       "\n",
       "                                            textEmbedding  year  subjectId  \\\n",
       "0       [0.010079000145196915, -0.028968000784516335, ...  2011          6   \n",
       "1       [-0.14517700672149658, -0.04205799847841263, -...  2014          6   \n",
       "2       [-0.13881300389766693, 0.0757559984922409, -0....  2008          6   \n",
       "3       [-0.09789499640464783, -0.0002640000020619482,...  2014          6   \n",
       "4       [-0.26364800333976746, -0.016287999227643013, ...  2014          6   \n",
       "...                                                   ...   ...        ...   \n",
       "169338  [-0.11292299628257751, -0.029922999441623688, ...  2020         17   \n",
       "169339  [-0.23396000266075134, 0.022811999544501305, -...  2020         17   \n",
       "169340  [-0.06525000184774399, 0.1853809952735901, -0....  2020         17   \n",
       "169341  [0.020333999767899513, 0.17771199345588684, -0...  2020         17   \n",
       "169342  [-0.04813800007104874, 0.20483699440956116, -0...  2020         17   \n",
       "\n",
       "       subjectLabel  \n",
       "0       arxiv cs hc  \n",
       "1       arxiv cs hc  \n",
       "2       arxiv cs hc  \n",
       "3       arxiv cs hc  \n",
       "4       arxiv cs hc  \n",
       "...             ...  \n",
       "169338  arxiv cs gr  \n",
       "169339  arxiv cs gr  \n",
       "169340  arxiv cs gr  \n",
       "169341  arxiv cs gr  \n",
       "169342  arxiv cs gr  \n",
       "\n",
       "[169343 rows x 8 columns]"
      ]
     },
     "execution_count": 4,
     "metadata": {},
     "output_type": "execute_result"
    }
   ],
   "source": [
    "paper_source_df, citation_source_df = get_ogbn_arxiv_data(map_txt_properties=True, node_id_col_name='ogbId')\n",
    "paper_source_df"
   ]
  },
  {
   "cell_type": "markdown",
   "metadata": {},
   "source": [
    "## Load Nodes and Relationships"
   ]
  },
  {
   "cell_type": "code",
   "execution_count": 5,
   "metadata": {
    "collapsed": false,
    "jupyter": {
     "outputs_hidden": false
    }
   },
   "outputs": [
    {
     "data": {
      "text/html": [
       "<div>\n",
       "<style scoped>\n",
       "    .dataframe tbody tr th:only-of-type {\n",
       "        vertical-align: middle;\n",
       "    }\n",
       "\n",
       "    .dataframe tbody tr th {\n",
       "        vertical-align: top;\n",
       "    }\n",
       "\n",
       "    .dataframe thead th {\n",
       "        text-align: right;\n",
       "    }\n",
       "</style>\n",
       "<table border=\"1\" class=\"dataframe\">\n",
       "  <thead>\n",
       "    <tr style=\"text-align: right;\">\n",
       "      <th></th>\n",
       "    </tr>\n",
       "  </thead>\n",
       "  <tbody>\n",
       "  </tbody>\n",
       "</table>\n",
       "</div>"
      ],
      "text/plain": [
       "Empty DataFrame\n",
       "Columns: []\n",
       "Index: []"
      ]
     },
     "execution_count": 5,
     "metadata": {},
     "output_type": "execute_result"
    }
   ],
   "source": [
    "# Don't forget to create that index :)\n",
    "gds.run_cypher('CREATE CONSTRAINT unique_ogb_id IF NOT EXISTS FOR (n:Paper) REQUIRE n.ogbId IS UNIQUE')"
   ]
  },
  {
   "cell_type": "code",
   "execution_count": 6,
   "metadata": {
    "collapsed": false,
    "jupyter": {
     "outputs_hidden": false
    }
   },
   "outputs": [
    {
     "name": "stdout",
     "output_type": "stream",
     "text": [
      "======  loading Paper nodes  ======\n",
      "staging 169,343 records\n",
      "Loaded 2,000 of 169,343 nodes\n",
      "Loaded 4,000 of 169,343 nodes\n",
      "Loaded 6,000 of 169,343 nodes\n",
      "Loaded 8,000 of 169,343 nodes\n",
      "Loaded 10,000 of 169,343 nodes\n",
      "Loaded 12,000 of 169,343 nodes\n",
      "Loaded 14,000 of 169,343 nodes\n",
      "Loaded 16,000 of 169,343 nodes\n",
      "Loaded 18,000 of 169,343 nodes\n",
      "Loaded 20,000 of 169,343 nodes\n",
      "Loaded 22,000 of 169,343 nodes\n",
      "Loaded 24,000 of 169,343 nodes\n",
      "Loaded 26,000 of 169,343 nodes\n",
      "Loaded 28,000 of 169,343 nodes\n",
      "Loaded 30,000 of 169,343 nodes\n",
      "Loaded 32,000 of 169,343 nodes\n",
      "Loaded 34,000 of 169,343 nodes\n",
      "Loaded 36,000 of 169,343 nodes\n",
      "Loaded 38,000 of 169,343 nodes\n",
      "Loaded 40,000 of 169,343 nodes\n",
      "Loaded 42,000 of 169,343 nodes\n",
      "Loaded 44,000 of 169,343 nodes\n",
      "Loaded 46,000 of 169,343 nodes\n",
      "Loaded 48,000 of 169,343 nodes\n",
      "Loaded 50,000 of 169,343 nodes\n",
      "Loaded 52,000 of 169,343 nodes\n",
      "Loaded 54,000 of 169,343 nodes\n",
      "Loaded 56,000 of 169,343 nodes\n",
      "Loaded 58,000 of 169,343 nodes\n",
      "Loaded 60,000 of 169,343 nodes\n",
      "Loaded 62,000 of 169,343 nodes\n",
      "Loaded 64,000 of 169,343 nodes\n",
      "Loaded 66,000 of 169,343 nodes\n",
      "Loaded 68,000 of 169,343 nodes\n",
      "Loaded 70,000 of 169,343 nodes\n",
      "Loaded 72,000 of 169,343 nodes\n",
      "Loaded 74,000 of 169,343 nodes\n",
      "Loaded 76,000 of 169,343 nodes\n",
      "Loaded 78,000 of 169,343 nodes\n",
      "Loaded 80,000 of 169,343 nodes\n",
      "Loaded 82,000 of 169,343 nodes\n",
      "Loaded 84,000 of 169,343 nodes\n",
      "Loaded 86,000 of 169,343 nodes\n",
      "Loaded 88,000 of 169,343 nodes\n",
      "Loaded 90,000 of 169,343 nodes\n",
      "Loaded 92,000 of 169,343 nodes\n",
      "Loaded 94,000 of 169,343 nodes\n",
      "Loaded 96,000 of 169,343 nodes\n",
      "Loaded 98,000 of 169,343 nodes\n",
      "Loaded 100,000 of 169,343 nodes\n",
      "Loaded 102,000 of 169,343 nodes\n",
      "Loaded 104,000 of 169,343 nodes\n",
      "Loaded 106,000 of 169,343 nodes\n",
      "Loaded 108,000 of 169,343 nodes\n",
      "Loaded 110,000 of 169,343 nodes\n",
      "Loaded 112,000 of 169,343 nodes\n",
      "Loaded 114,000 of 169,343 nodes\n",
      "Loaded 116,000 of 169,343 nodes\n",
      "Loaded 118,000 of 169,343 nodes\n",
      "Loaded 120,000 of 169,343 nodes\n",
      "Loaded 122,000 of 169,343 nodes\n",
      "Loaded 124,000 of 169,343 nodes\n",
      "Loaded 126,000 of 169,343 nodes\n",
      "Loaded 128,000 of 169,343 nodes\n",
      "Loaded 130,000 of 169,343 nodes\n",
      "Loaded 132,000 of 169,343 nodes\n",
      "Loaded 134,000 of 169,343 nodes\n",
      "Loaded 136,000 of 169,343 nodes\n",
      "Loaded 138,000 of 169,343 nodes\n",
      "Loaded 140,000 of 169,343 nodes\n",
      "Loaded 142,000 of 169,343 nodes\n",
      "Loaded 144,000 of 169,343 nodes\n",
      "Loaded 146,000 of 169,343 nodes\n",
      "Loaded 148,000 of 169,343 nodes\n",
      "Loaded 150,000 of 169,343 nodes\n",
      "Loaded 152,000 of 169,343 nodes\n",
      "Loaded 154,000 of 169,343 nodes\n",
      "Loaded 156,000 of 169,343 nodes\n",
      "Loaded 158,000 of 169,343 nodes\n",
      "Loaded 160,000 of 169,343 nodes\n",
      "Loaded 162,000 of 169,343 nodes\n",
      "Loaded 164,000 of 169,343 nodes\n",
      "Loaded 166,000 of 169,343 nodes\n",
      "Loaded 168,000 of 169,343 nodes\n",
      "Loaded 169,343 of 169,343 nodes\n",
      "CPU times: user 1min, sys: 305 ms, total: 1min 1s\n",
      "Wall time: 2min 9s\n"
     ]
    }
   ],
   "source": [
    "%%time\n",
    "# using reduced chunk size for loading large raw text abstracts\n",
    "load_nodes(gds, paper_source_df, 'ogbId', 'Paper', chunk_size=2_000)"
   ]
  },
  {
   "cell_type": "code",
   "execution_count": null,
   "metadata": {
    "collapsed": false,
    "jupyter": {
     "outputs_hidden": false
    }
   },
   "outputs": [
    {
     "name": "stdout",
     "output_type": "stream",
     "text": [
      "======  loading CITES relationships  ======\n",
      "staging 1,166,243 records\n",
      "Loaded 50,000 of 1,166,243 relationships\n",
      "Loaded 100,000 of 1,166,243 relationships\n",
      "Loaded 150,000 of 1,166,243 relationships\n",
      "Loaded 200,000 of 1,166,243 relationships\n",
      "Loaded 250,000 of 1,166,243 relationships\n",
      "Loaded 300,000 of 1,166,243 relationships\n",
      "Loaded 350,000 of 1,166,243 relationships\n",
      "Loaded 400,000 of 1,166,243 relationships\n",
      "Loaded 450,000 of 1,166,243 relationships\n",
      "Loaded 500,000 of 1,166,243 relationships\n",
      "Loaded 550,000 of 1,166,243 relationships\n",
      "Loaded 600,000 of 1,166,243 relationships\n",
      "Loaded 650,000 of 1,166,243 relationships\n",
      "Loaded 700,000 of 1,166,243 relationships\n",
      "Loaded 750,000 of 1,166,243 relationships\n",
      "Loaded 800,000 of 1,166,243 relationships\n",
      "Loaded 850,000 of 1,166,243 relationships\n"
     ]
    }
   ],
   "source": [
    "%%time\n",
    "load_rels(gds, citation_source_df, 'Paper', 'Paper', ('ogbId', 'paper'), ('ogbId', 'citedPaper'), 'CITES')"
   ]
  },
  {
   "cell_type": "markdown",
   "metadata": {},
   "source": [
    "# Set Data Splitting Labels"
   ]
  },
  {
   "cell_type": "code",
   "execution_count": null,
   "metadata": {
    "collapsed": false,
    "jupyter": {
     "outputs_hidden": false
    }
   },
   "outputs": [],
   "source": [
    "gds.run_cypher('CREATE INDEX year_ind IF NOT EXISTS FOR (n:Paper) ON n.year')"
   ]
  },
  {
   "cell_type": "code",
   "execution_count": null,
   "metadata": {
    "collapsed": false,
    "jupyter": {
     "outputs_hidden": false
    }
   },
   "outputs": [],
   "source": [
    "VALID_YEAR = 2018"
   ]
  },
  {
   "cell_type": "code",
   "execution_count": null,
   "metadata": {
    "collapsed": false,
    "jupyter": {
     "outputs_hidden": false
    }
   },
   "outputs": [],
   "source": [
    "gds.run_cypher('''\n",
    "    MATCH(n:Paper) WHERE n.year < $validYear\n",
    "    SET n:Train\n",
    "    RETURN count(n) AS trainSetCount\n",
    "    ''', params={'validYear': VALID_YEAR})"
   ]
  },
  {
   "cell_type": "code",
   "execution_count": null,
   "metadata": {
    "collapsed": false,
    "jupyter": {
     "outputs_hidden": false
    }
   },
   "outputs": [],
   "source": [
    "gds.run_cypher('''\n",
    "    MATCH(n:Paper) WHERE n.year = $validYear\n",
    "    SET n:Valid\n",
    "    RETURN count(n) AS validSetCount\n",
    "    ''', params={'validYear': VALID_YEAR})"
   ]
  },
  {
   "cell_type": "code",
   "execution_count": null,
   "metadata": {
    "collapsed": false,
    "jupyter": {
     "outputs_hidden": false
    }
   },
   "outputs": [],
   "source": [
    "gds.run_cypher('''\n",
    "    MATCH(n:Paper) WHERE n.year > $validYear\n",
    "    SET n:Test\n",
    "    RETURN count(n) AS TestSetCount\n",
    "    ''', params={'validYear': VALID_YEAR})"
   ]
  },
  {
   "cell_type": "code",
   "execution_count": null,
   "metadata": {
    "collapsed": false,
    "jupyter": {
     "outputs_hidden": false
    }
   },
   "outputs": [],
   "source": [
    "gds.close()"
   ]
  }
 ],
 "metadata": {
  "environment": {
   "kernel": "python3",
   "name": "pytorch-gpu.1-13.m103",
   "type": "gcloud",
   "uri": "gcr.io/deeplearning-platform-release/pytorch-gpu.1-13:m103"
  },
  "kernelspec": {
   "display_name": "Python 3 (ipykernel)",
   "language": "python",
   "name": "python3"
  },
  "language_info": {
   "codemirror_mode": {
    "name": "ipython",
    "version": 3
   },
   "file_extension": ".py",
   "mimetype": "text/x-python",
   "name": "python",
   "nbconvert_exporter": "python",
   "pygments_lexer": "ipython3",
   "version": "3.7.12"
  }
 },
 "nbformat": 4,
 "nbformat_minor": 4
}
