{
 "cells": [
  {
   "cell_type": "markdown",
   "metadata": {},
   "source": [
    "# GNNs and Neo4j\n",
    "\n",
    "![Neo4j version](https://img.shields.io/badge/Neo4j->=4.4.9-brightgreen)\n",
    "![GDS version](https://img.shields.io/badge/GDS-2.3-brightgreen)\n",
    "![GDS Python Client version](https://img.shields.io/badge/GDS_Python_Client-1.6-brightgreen)\n"
   ]
  },
  {
   "cell_type": "code",
   "execution_count": 2,
   "metadata": {},
   "outputs": [
    {
     "name": "stdout",
     "output_type": "stream",
     "text": [
      "Requirement already satisfied: graphdatascience in /opt/conda/lib/python3.7/site-packages (1.6)\n",
      "Collecting python-dotenv\n",
      "  Downloading python_dotenv-0.21.1-py3-none-any.whl (19 kB)\n",
      "Requirement already satisfied: neo4j<6.0,>=4.4.2 in /opt/conda/lib/python3.7/site-packages (from graphdatascience) (5.6.0)\n",
      "Requirement already satisfied: tqdm<5.0,>=4.0 in /opt/conda/lib/python3.7/site-packages (from graphdatascience) (4.64.1)\n",
      "Requirement already satisfied: pandas<2.0,>=1.0 in /opt/conda/lib/python3.7/site-packages (from graphdatascience) (1.3.5)\n",
      "Requirement already satisfied: pyarrow<11.0,>=4.0 in /opt/conda/lib/python3.7/site-packages (from graphdatascience) (7.0.0)\n",
      "Requirement already satisfied: multimethod<2.0,>=1.0 in /opt/conda/lib/python3.7/site-packages (from graphdatascience) (1.9.1)\n",
      "Requirement already satisfied: pytz in /opt/conda/lib/python3.7/site-packages (from neo4j<6.0,>=4.4.2->graphdatascience) (2022.7.1)\n",
      "Requirement already satisfied: numpy>=1.17.3 in /opt/conda/lib/python3.7/site-packages (from pandas<2.0,>=1.0->graphdatascience) (1.21.6)\n",
      "Requirement already satisfied: python-dateutil>=2.7.3 in /opt/conda/lib/python3.7/site-packages (from pandas<2.0,>=1.0->graphdatascience) (2.8.2)\n",
      "Requirement already satisfied: six>=1.5 in /opt/conda/lib/python3.7/site-packages (from python-dateutil>=2.7.3->pandas<2.0,>=1.0->graphdatascience) (1.16.0)\n",
      "Installing collected packages: python-dotenv\n",
      "Successfully installed python-dotenv-0.21.1\n",
      "Note: you may need to restart the kernel to use updated packages.\n"
     ]
    }
   ],
   "source": [
    "%pip install graphdatascience python-dotenv"
   ]
  },
  {
   "cell_type": "code",
   "execution_count": 3,
   "metadata": {},
   "outputs": [
    {
     "name": "stdout",
     "output_type": "stream",
     "text": [
      "1.13.1+cu117\n"
     ]
    }
   ],
   "source": [
    "import torch\n",
    "TORCH_CUDA = torch.__version__\n",
    "print(TORCH_CUDA)"
   ]
  },
  {
   "cell_type": "code",
   "execution_count": 4,
   "metadata": {},
   "outputs": [
    {
     "name": "stdout",
     "output_type": "stream",
     "text": [
      "Looking in links: https://data.pyg.org/whl/torch-1.13.1+cu117.html\n",
      "Requirement already satisfied: pyg_lib in /opt/conda/lib/python3.7/site-packages (0.1.0+pt113cu117)\n",
      "Requirement already satisfied: torch_scatter in /opt/conda/lib/python3.7/site-packages (2.1.0+pt113cu117)\n",
      "Requirement already satisfied: torch_sparse in /opt/conda/lib/python3.7/site-packages (0.6.16+pt113cu117)\n",
      "Requirement already satisfied: scipy in /opt/conda/lib/python3.7/site-packages (from torch_sparse) (1.7.3)\n",
      "Requirement already satisfied: numpy<1.23.0,>=1.16.5 in /opt/conda/lib/python3.7/site-packages (from scipy->torch_sparse) (1.21.6)\n",
      "Note: you may need to restart the kernel to use updated packages.\n",
      "Requirement already satisfied: torch-geometric in /opt/conda/lib/python3.7/site-packages (2.2.0)\n",
      "Requirement already satisfied: pyparsing in /opt/conda/lib/python3.7/site-packages (from torch-geometric) (3.0.9)\n",
      "Requirement already satisfied: scikit-learn in /opt/conda/lib/python3.7/site-packages (from torch-geometric) (1.0.2)\n",
      "Requirement already satisfied: requests in /opt/conda/lib/python3.7/site-packages (from torch-geometric) (2.28.2)\n",
      "Requirement already satisfied: numpy in /opt/conda/lib/python3.7/site-packages (from torch-geometric) (1.21.6)\n",
      "Requirement already satisfied: tqdm in /opt/conda/lib/python3.7/site-packages (from torch-geometric) (4.64.1)\n",
      "Requirement already satisfied: psutil>=5.8.0 in /opt/conda/lib/python3.7/site-packages (from torch-geometric) (5.9.3)\n",
      "Requirement already satisfied: scipy in /opt/conda/lib/python3.7/site-packages (from torch-geometric) (1.7.3)\n",
      "Requirement already satisfied: jinja2 in /opt/conda/lib/python3.7/site-packages (from torch-geometric) (3.1.2)\n",
      "Requirement already satisfied: MarkupSafe>=2.0 in /opt/conda/lib/python3.7/site-packages (from jinja2->torch-geometric) (2.1.2)\n",
      "Requirement already satisfied: certifi>=2017.4.17 in /opt/conda/lib/python3.7/site-packages (from requests->torch-geometric) (2022.12.7)\n",
      "Requirement already satisfied: urllib3<1.27,>=1.21.1 in /opt/conda/lib/python3.7/site-packages (from requests->torch-geometric) (1.26.14)\n",
      "Requirement already satisfied: charset-normalizer<4,>=2 in /opt/conda/lib/python3.7/site-packages (from requests->torch-geometric) (2.1.1)\n",
      "Requirement already satisfied: idna<4,>=2.5 in /opt/conda/lib/python3.7/site-packages (from requests->torch-geometric) (3.4)\n",
      "Requirement already satisfied: threadpoolctl>=2.0.0 in /opt/conda/lib/python3.7/site-packages (from scikit-learn->torch-geometric) (3.1.0)\n",
      "Requirement already satisfied: joblib>=0.11 in /opt/conda/lib/python3.7/site-packages (from scikit-learn->torch-geometric) (1.2.0)\n",
      "Note: you may need to restart the kernel to use updated packages.\n"
     ]
    }
   ],
   "source": [
    "%pip install pyg_lib torch_scatter torch_sparse -f https://data.pyg.org/whl/torch-1.13.1+cu117.html\n",
    "%pip install torch-geometric"
   ]
  },
  {
   "cell_type": "code",
   "execution_count": 5,
   "metadata": {
    "collapsed": false,
    "jupyter": {
     "outputs_hidden": false
    }
   },
   "outputs": [],
   "source": [
    "import torch\n",
    "import pandas as pd\n",
    "import numpy as np\n",
    "import os\n",
    "from dotenv import load_dotenv\n",
    "from torch_geometric.datasets import OGB_MAG\n",
    "from graphdatascience import GraphDataScience"
   ]
  },
  {
   "cell_type": "markdown",
   "metadata": {},
   "source": [
    "## Prepare Data\n",
    "Load source data via graph construct"
   ]
  },
  {
   "cell_type": "code",
   "execution_count": 6,
   "metadata": {},
   "outputs": [],
   "source": [
    "from torch_geometric.datasets import OGB_MAG\n",
    "\n",
    "dataset = OGB_MAG(root='./data', preprocess='metapath2vec')\n",
    "data = dataset[0]"
   ]
  },
  {
   "cell_type": "code",
   "execution_count": 7,
   "metadata": {},
   "outputs": [],
   "source": [
    "def camel_case(s):\n",
    "    ss = s.split('_')\n",
    "    return ''.join(st.title() for st in ss)\n",
    "\n",
    "def make_node_df(node_tensor, node_label, id_offset=0):\n",
    "    df = pd.DataFrame(range(node_tensor.shape[0]), columns=['orgInd'])\n",
    "    df['nodeId'] = df['orgInd'] + id_offset\n",
    "    df['labels'] = node_label\n",
    "    df['wordEmbedding'] = list(node_tensor.numpy())\n",
    "    return df\n",
    "\n",
    "def make_node_dfs_with_id_offset(graph_data):\n",
    "    id_offset=0\n",
    "    node_dfs = []\n",
    "    id_offset_map = {}\n",
    "    for node_type in graph_data.node_types:\n",
    "        node_label = camel_case(node_type)\n",
    "        id_offset_map[node_label] = id_offset\n",
    "        node_df = make_node_df(graph_data[node_type].x, node_label, id_offset)\n",
    "        id_offset += node_df.shape[0]\n",
    "        node_dfs.append(node_df)\n",
    "    return pd.concat(node_dfs), id_offset_map\n",
    "\n",
    "def make_rel_df(rel_tensor, rel_type, source_id_offset, target_id_offset):\n",
    "    rel_df = pd.DataFrame(rel_tensor.edge_index.T.numpy(), columns=['sourceNodeId','targetNodeId'])\n",
    "    rel_df['sourceNodeId'] = rel_df['sourceNodeId'] + source_id_offset\n",
    "    rel_df['targetNodeId'] = rel_df['targetNodeId'] + target_id_offset\n",
    "    rel_df['relationshipType'] = rel_type\n",
    "    return rel_df\n",
    "\n",
    "def make_rel_dfs(graph_data, id_offset_map):\n",
    "    rel_dfs = []\n",
    "    for edge_type in graph_data.edge_types:\n",
    "        rel_dfs.append(make_rel_df(graph_data[edge_type],\n",
    "                                 edge_type[1].upper(),\n",
    "                                 id_offset_map[camel_case(edge_type[0])],\n",
    "                                 id_offset_map[camel_case(edge_type[2])]))\n",
    "    return pd.concat(rel_dfs)"
   ]
  },
  {
   "cell_type": "code",
   "execution_count": 8,
   "metadata": {},
   "outputs": [],
   "source": [
    "node_df, id_offset_map = make_node_dfs_with_id_offset(data)"
   ]
  },
  {
   "cell_type": "code",
   "execution_count": 9,
   "metadata": {},
   "outputs": [
    {
     "data": {
      "text/html": [
       "<div>\n",
       "<style scoped>\n",
       "    .dataframe tbody tr th:only-of-type {\n",
       "        vertical-align: middle;\n",
       "    }\n",
       "\n",
       "    .dataframe tbody tr th {\n",
       "        vertical-align: top;\n",
       "    }\n",
       "\n",
       "    .dataframe thead th {\n",
       "        text-align: right;\n",
       "    }\n",
       "</style>\n",
       "<table border=\"1\" class=\"dataframe\">\n",
       "  <thead>\n",
       "    <tr style=\"text-align: right;\">\n",
       "      <th></th>\n",
       "      <th>orgInd</th>\n",
       "      <th>nodeId</th>\n",
       "      <th>labels</th>\n",
       "      <th>wordEmbedding</th>\n",
       "    </tr>\n",
       "  </thead>\n",
       "  <tbody>\n",
       "    <tr>\n",
       "      <th>0</th>\n",
       "      <td>0</td>\n",
       "      <td>0</td>\n",
       "      <td>Paper</td>\n",
       "      <td>[-0.095379, 0.040758, -0.210948, -0.064362, -0...</td>\n",
       "    </tr>\n",
       "    <tr>\n",
       "      <th>1</th>\n",
       "      <td>1</td>\n",
       "      <td>1</td>\n",
       "      <td>Paper</td>\n",
       "      <td>[-0.151047, -0.107315, -0.221964, -0.034725, 0...</td>\n",
       "    </tr>\n",
       "    <tr>\n",
       "      <th>2</th>\n",
       "      <td>2</td>\n",
       "      <td>2</td>\n",
       "      <td>Paper</td>\n",
       "      <td>[-0.114799, -0.175982, -0.260556, 0.01192, -0....</td>\n",
       "    </tr>\n",
       "    <tr>\n",
       "      <th>3</th>\n",
       "      <td>3</td>\n",
       "      <td>3</td>\n",
       "      <td>Paper</td>\n",
       "      <td>[0.004506, 0.042368, -0.178465, -0.138479, -0....</td>\n",
       "    </tr>\n",
       "    <tr>\n",
       "      <th>4</th>\n",
       "      <td>4</td>\n",
       "      <td>4</td>\n",
       "      <td>Paper</td>\n",
       "      <td>[-0.094474, -0.080044, -0.222468, -0.158952, -...</td>\n",
       "    </tr>\n",
       "    <tr>\n",
       "      <th>...</th>\n",
       "      <td>...</td>\n",
       "      <td>...</td>\n",
       "      <td>...</td>\n",
       "      <td>...</td>\n",
       "    </tr>\n",
       "    <tr>\n",
       "      <th>59960</th>\n",
       "      <td>59960</td>\n",
       "      <td>1939738</td>\n",
       "      <td>FieldOfStudy</td>\n",
       "      <td>[-0.6320879, 0.13672572, -0.3656389, 0.9023778...</td>\n",
       "    </tr>\n",
       "    <tr>\n",
       "      <th>59961</th>\n",
       "      <td>59961</td>\n",
       "      <td>1939739</td>\n",
       "      <td>FieldOfStudy</td>\n",
       "      <td>[-0.31150684, -0.38850185, 0.0430072, 0.111707...</td>\n",
       "    </tr>\n",
       "    <tr>\n",
       "      <th>59962</th>\n",
       "      <td>59962</td>\n",
       "      <td>1939740</td>\n",
       "      <td>FieldOfStudy</td>\n",
       "      <td>[-0.31353936, 0.8047326, 0.094272844, -0.21214...</td>\n",
       "    </tr>\n",
       "    <tr>\n",
       "      <th>59963</th>\n",
       "      <td>59963</td>\n",
       "      <td>1939741</td>\n",
       "      <td>FieldOfStudy</td>\n",
       "      <td>[-0.5500094, 0.17063577, -0.37380353, -0.29022...</td>\n",
       "    </tr>\n",
       "    <tr>\n",
       "      <th>59964</th>\n",
       "      <td>59964</td>\n",
       "      <td>1939742</td>\n",
       "      <td>FieldOfStudy</td>\n",
       "      <td>[0.07990172, -0.2259414, -0.23080239, -0.22801...</td>\n",
       "    </tr>\n",
       "  </tbody>\n",
       "</table>\n",
       "<p>1939743 rows × 4 columns</p>\n",
       "</div>"
      ],
      "text/plain": [
       "       orgInd   nodeId        labels  \\\n",
       "0           0        0         Paper   \n",
       "1           1        1         Paper   \n",
       "2           2        2         Paper   \n",
       "3           3        3         Paper   \n",
       "4           4        4         Paper   \n",
       "...       ...      ...           ...   \n",
       "59960   59960  1939738  FieldOfStudy   \n",
       "59961   59961  1939739  FieldOfStudy   \n",
       "59962   59962  1939740  FieldOfStudy   \n",
       "59963   59963  1939741  FieldOfStudy   \n",
       "59964   59964  1939742  FieldOfStudy   \n",
       "\n",
       "                                           wordEmbedding  \n",
       "0      [-0.095379, 0.040758, -0.210948, -0.064362, -0...  \n",
       "1      [-0.151047, -0.107315, -0.221964, -0.034725, 0...  \n",
       "2      [-0.114799, -0.175982, -0.260556, 0.01192, -0....  \n",
       "3      [0.004506, 0.042368, -0.178465, -0.138479, -0....  \n",
       "4      [-0.094474, -0.080044, -0.222468, -0.158952, -...  \n",
       "...                                                  ...  \n",
       "59960  [-0.6320879, 0.13672572, -0.3656389, 0.9023778...  \n",
       "59961  [-0.31150684, -0.38850185, 0.0430072, 0.111707...  \n",
       "59962  [-0.31353936, 0.8047326, 0.094272844, -0.21214...  \n",
       "59963  [-0.5500094, 0.17063577, -0.37380353, -0.29022...  \n",
       "59964  [0.07990172, -0.2259414, -0.23080239, -0.22801...  \n",
       "\n",
       "[1939743 rows x 4 columns]"
      ]
     },
     "execution_count": 9,
     "metadata": {},
     "output_type": "execute_result"
    }
   ],
   "source": [
    "node_df"
   ]
  },
  {
   "cell_type": "code",
   "execution_count": 10,
   "metadata": {},
   "outputs": [],
   "source": [
    "rel_df = make_rel_dfs(data, id_offset_map)"
   ]
  },
  {
   "cell_type": "code",
   "execution_count": 11,
   "metadata": {},
   "outputs": [
    {
     "data": {
      "text/html": [
       "<div>\n",
       "<style scoped>\n",
       "    .dataframe tbody tr th:only-of-type {\n",
       "        vertical-align: middle;\n",
       "    }\n",
       "\n",
       "    .dataframe tbody tr th {\n",
       "        vertical-align: top;\n",
       "    }\n",
       "\n",
       "    .dataframe thead th {\n",
       "        text-align: right;\n",
       "    }\n",
       "</style>\n",
       "<table border=\"1\" class=\"dataframe\">\n",
       "  <thead>\n",
       "    <tr style=\"text-align: right;\">\n",
       "      <th></th>\n",
       "      <th>sourceNodeId</th>\n",
       "      <th>targetNodeId</th>\n",
       "      <th>relationshipType</th>\n",
       "    </tr>\n",
       "  </thead>\n",
       "  <tbody>\n",
       "    <tr>\n",
       "      <th>0</th>\n",
       "      <td>736389</td>\n",
       "      <td>1871883</td>\n",
       "      <td>AFFILIATED_WITH</td>\n",
       "    </tr>\n",
       "    <tr>\n",
       "      <th>1</th>\n",
       "      <td>736390</td>\n",
       "      <td>1872034</td>\n",
       "      <td>AFFILIATED_WITH</td>\n",
       "    </tr>\n",
       "    <tr>\n",
       "      <th>2</th>\n",
       "      <td>736391</td>\n",
       "      <td>1874235</td>\n",
       "      <td>AFFILIATED_WITH</td>\n",
       "    </tr>\n",
       "    <tr>\n",
       "      <th>3</th>\n",
       "      <td>736391</td>\n",
       "      <td>1877171</td>\n",
       "      <td>AFFILIATED_WITH</td>\n",
       "    </tr>\n",
       "    <tr>\n",
       "      <th>4</th>\n",
       "      <td>736391</td>\n",
       "      <td>1877782</td>\n",
       "      <td>AFFILIATED_WITH</td>\n",
       "    </tr>\n",
       "    <tr>\n",
       "      <th>...</th>\n",
       "      <td>...</td>\n",
       "      <td>...</td>\n",
       "      <td>...</td>\n",
       "    </tr>\n",
       "    <tr>\n",
       "      <th>7505073</th>\n",
       "      <td>736388</td>\n",
       "      <td>1893417</td>\n",
       "      <td>HAS_TOPIC</td>\n",
       "    </tr>\n",
       "    <tr>\n",
       "      <th>7505074</th>\n",
       "      <td>736388</td>\n",
       "      <td>1893833</td>\n",
       "      <td>HAS_TOPIC</td>\n",
       "    </tr>\n",
       "    <tr>\n",
       "      <th>7505075</th>\n",
       "      <td>736388</td>\n",
       "      <td>1901236</td>\n",
       "      <td>HAS_TOPIC</td>\n",
       "    </tr>\n",
       "    <tr>\n",
       "      <th>7505076</th>\n",
       "      <td>736388</td>\n",
       "      <td>1902061</td>\n",
       "      <td>HAS_TOPIC</td>\n",
       "    </tr>\n",
       "    <tr>\n",
       "      <th>7505077</th>\n",
       "      <td>736388</td>\n",
       "      <td>1911712</td>\n",
       "      <td>HAS_TOPIC</td>\n",
       "    </tr>\n",
       "  </tbody>\n",
       "</table>\n",
       "<p>21111007 rows × 3 columns</p>\n",
       "</div>"
      ],
      "text/plain": [
       "         sourceNodeId  targetNodeId relationshipType\n",
       "0              736389       1871883  AFFILIATED_WITH\n",
       "1              736390       1872034  AFFILIATED_WITH\n",
       "2              736391       1874235  AFFILIATED_WITH\n",
       "3              736391       1877171  AFFILIATED_WITH\n",
       "4              736391       1877782  AFFILIATED_WITH\n",
       "...               ...           ...              ...\n",
       "7505073        736388       1893417        HAS_TOPIC\n",
       "7505074        736388       1893833        HAS_TOPIC\n",
       "7505075        736388       1901236        HAS_TOPIC\n",
       "7505076        736388       1902061        HAS_TOPIC\n",
       "7505077        736388       1911712        HAS_TOPIC\n",
       "\n",
       "[21111007 rows x 3 columns]"
      ]
     },
     "execution_count": 11,
     "metadata": {},
     "output_type": "execute_result"
    }
   ],
   "source": [
    "rel_df"
   ]
  },
  {
   "cell_type": "code",
   "execution_count": 13,
   "metadata": {
    "collapsed": false,
    "jupyter": {
     "outputs_hidden": false
    }
   },
   "outputs": [],
   "source": [
    "load_dotenv('db-credentials.env', override=True)\n",
    "\n",
    "# Use Neo4j URI and credentials according to our setup\n",
    "gds = GraphDataScience(\n",
    "    os.getenv('NEO4J_URI'),\n",
    "    auth=(os.getenv('NEO4J_USERNAME'),\n",
    "          os.getenv('NEO4J_PASSWORD')),\n",
    "    aura_ds=eval(os.getenv('AURA_DS').title()))\n",
    "\n",
    "# Necessary if you enabled Arrow on the db - this is true for AuraDS\n",
    "gds.set_database(\"neo4j\")"
   ]
  },
  {
   "cell_type": "code",
   "execution_count": 18,
   "metadata": {},
   "outputs": [],
   "source": [
    "all_rel_types = list(rel_df.relationshipType.unique())"
   ]
  },
  {
   "cell_type": "code",
   "execution_count": 19,
   "metadata": {
    "collapsed": false,
    "jupyter": {
     "outputs_hidden": false
    }
   },
   "outputs": [
    {
     "data": {
      "application/vnd.jupyter.widget-view+json": {
       "model_id": "2d4b0c9c68a949ee8ad5e0cf71192499",
       "version_major": 2,
       "version_minor": 0
      },
      "text/plain": [
       "Uploading Nodes:   0%|          | 0/1939743 [00:00<?, ?Records/s]"
      ]
     },
     "metadata": {},
     "output_type": "display_data"
    },
    {
     "data": {
      "application/vnd.jupyter.widget-view+json": {
       "model_id": "e6e105ee55554610bb0406d36bf2ef1a",
       "version_major": 2,
       "version_minor": 0
      },
      "text/plain": [
       "Uploading Relationships:   0%|          | 0/21111007 [00:00<?, ?Records/s]"
      ]
     },
     "metadata": {},
     "output_type": "display_data"
    },
    {
     "name": "stdout",
     "output_type": "stream",
     "text": [
      "CPU times: user 5.16 s, sys: 1.43 s, total: 6.58 s\n",
      "Wall time: 17.9 s\n"
     ]
    }
   ],
   "source": [
    "%%time\n",
    "g = gds.alpha.graph.construct(\n",
    "    \"ogbn-mag\",\n",
    "    node_df,\n",
    "    rel_df,\n",
    "    undirected_relationship_types = all_rel_types\n",
    ")"
   ]
  },
  {
   "cell_type": "code",
   "execution_count": 16,
   "metadata": {},
   "outputs": [
    {
     "data": {
      "text/plain": [
       "['AFFILIATED_WITH', 'WRITES', 'CITES', 'HAS_TOPIC']"
      ]
     },
     "execution_count": 16,
     "metadata": {},
     "output_type": "execute_result"
    }
   ],
   "source": [
    "list(rel_df.relationshipType.unique())"
   ]
  },
  {
   "cell_type": "code",
   "execution_count": null,
   "metadata": {},
   "outputs": [],
   "source": []
  }
 ],
 "metadata": {
  "environment": {
   "kernel": "python3",
   "name": "pytorch-gpu.1-13.m103",
   "type": "gcloud",
   "uri": "gcr.io/deeplearning-platform-release/pytorch-gpu.1-13:m103"
  },
  "kernelspec": {
   "display_name": "Python 3 (ipykernel)",
   "language": "python",
   "name": "python3"
  },
  "language_info": {
   "codemirror_mode": {
    "name": "ipython",
    "version": 3
   },
   "file_extension": ".py",
   "mimetype": "text/x-python",
   "name": "python",
   "nbconvert_exporter": "python",
   "pygments_lexer": "ipython3",
   "version": "3.7.12"
  }
 },
 "nbformat": 4,
 "nbformat_minor": 4
}
