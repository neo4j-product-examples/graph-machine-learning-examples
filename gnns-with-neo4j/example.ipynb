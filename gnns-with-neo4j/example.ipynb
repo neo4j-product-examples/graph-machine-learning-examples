{
 "cells": [
  {
   "cell_type": "markdown",
   "source": [
    "# GNNs and Neo4j\n",
    "\n",
    "![Neo4j version](https://img.shields.io/badge/Neo4j->=4.4.9-brightgreen)\n",
    "![GDS version](https://img.shields.io/badge/GDS-2.3-brightgreen)\n",
    "![GDS Python Client version](https://img.shields.io/badge/GDS_Python_Client-1.6-brightgreen)\n"
   ],
   "metadata": {
    "collapsed": false
   }
  },
  {
   "cell_type": "code",
   "execution_count": 1,
   "outputs": [],
   "source": [
    "import torch\n",
    "import pandas as pd\n",
    "import numpy as np\n",
    "from dotenv import load_dotenv\n",
    "import os\n",
    "from ogb.nodeproppred import NodePropPredDataset\n",
    "from graphdatascience import GraphDataScience"
   ],
   "metadata": {
    "collapsed": false
   }
  },
  {
   "cell_type": "markdown",
   "source": [
    "## Prepare Data\n",
    "Load source data via graph construct"
   ],
   "metadata": {
    "collapsed": false
   }
  },
  {
   "cell_type": "code",
   "execution_count": 2,
   "outputs": [
    {
     "name": "stderr",
     "output_type": "stream",
     "text": [
      "WARNING:root:The OGB package is out of date. Your version is 1.3.4, while the latest version is 1.3.5.\n"
     ]
    },
    {
     "name": "stdout",
     "output_type": "stream",
     "text": [
      "Downloading http://snap.stanford.edu/ogb/data/nodeproppred/mag.zip\n"
     ]
    },
    {
     "name": "stderr",
     "output_type": "stream",
     "text": [
      "Downloaded 0.40 GB: 100%|██████████| 413/413 [00:31<00:00, 13.20it/s]\n"
     ]
    },
    {
     "name": "stdout",
     "output_type": "stream",
     "text": [
      "Extracting dataset/mag.zip\n",
      "Loading necessary files...\n",
      "This might take a while.\n",
      "Processing graphs...\n"
     ]
    },
    {
     "name": "stderr",
     "output_type": "stream",
     "text": [
      "100%|██████████| 1/1 [00:00<00:00, 27776.85it/s]"
     ]
    },
    {
     "name": "stdout",
     "output_type": "stream",
     "text": [
      "Saving...\n"
     ]
    },
    {
     "name": "stderr",
     "output_type": "stream",
     "text": [
      "\n"
     ]
    }
   ],
   "source": [
    "dataset = NodePropPredDataset(name = 'ogbn-mag')\n",
    "\n",
    "split_idx = dataset.get_idx_split()\n",
    "train_idx, valid_idx, test_idx = split_idx[\"train\"], split_idx[\"valid\"], split_idx[\"test\"]\n",
    "graph, label = dataset[0] # graph: library-agnostic graph object"
   ],
   "metadata": {
    "collapsed": false
   }
  },
  {
   "cell_type": "code",
   "execution_count": 16,
   "outputs": [],
   "source": [
    "def camel_case(s):\n",
    "    ss = s.split('_')\n",
    "    return ''.join(st.title() for st in ss)\n",
    "\n",
    "# get node ids with df & ogbId mapping -> involves offset strategy\n",
    "def make_node_id_arrays(ogb_graph):\n",
    "    res = {}\n",
    "    for triple, edge_index in ogb_graph['edge_index_dict'].items():\n",
    "        for i in [0,1]:\n",
    "            node_label = camel_case(triple[i*2])\n",
    "            if node_label not in res:\n",
    "                res[node_label] = np.unique(edge_index[i,:])\n",
    "            else:\n",
    "                res[node_label] = np.union1d(res[node_label],edge_index[i,:])\n",
    "    return res\n",
    "\n",
    "def make_staged_node_dfs(node_id_arr_index):\n",
    "    res = {}\n",
    "    for node_label, node_arr in node_id_arr_index.items():\n",
    "        tdf = pd.DataFrame(node_arr, columns=['ogbId'])\n",
    "        tdf['labels'] = node_label\n",
    "        tdf.set_index('ogbId', drop=False, inplace=True)\n",
    "        res[node_label] = tdf\n",
    "    return res\n",
    "\n",
    "def generate_offset_neo4j_node_ids(node_dfs, reserve_block_size=0):\n",
    "    offset = 0\n",
    "    for node_df in node_dfs.values():\n",
    "        node_df['nodeId'] = node_df['ogbId'] + offset\n",
    "        offset = max(node_df['nodeId']) + 1 + reserve_block_size\n",
    "\n",
    "\n",
    "def make_node_id_dfs(ogb_graph, node_id_strategy='offset', node_id_reserve_block_size=0):\n",
    "    arr_dict = make_node_id_arrays(ogb_graph)\n",
    "    res = make_staged_node_dfs(arr_dict)\n",
    "\n",
    "    if node_id_strategy == 'as_is':\n",
    "        for node_df in res.values():\n",
    "            node_df['nodeId'] = node_df['ogbId']\n",
    "    elif node_id_strategy == 'offset':\n",
    "        generate_offset_neo4j_node_ids(res, node_id_reserve_block_size)\n",
    "    else:\n",
    "        raise Exception(f'node_id_strategy was \"{node_id_strategy}\" but must be one of \"as_is\" or \"offset\"')\n",
    "    return res\n",
    "\n",
    "# make relationships-> include options for directionality\n",
    "def format_triple(triple):\n",
    "    return camel_case(triple[0]), triple[1].upper(), camel_case(triple[2])\n",
    "\n",
    "def map_neo4j_node_ids(triple, rel_df, node_dfs):\n",
    "    rel_df = rel_df.merge(node_dfs[triple[0]][['nodeId']].rename(columns={'nodeId':'sourceNodeId'}),\n",
    "                          left_on='sourceOgbId', right_index=True)\n",
    "    rel_df = rel_df.merge(node_dfs[triple[2]][['nodeId']].rename(columns={'nodeId':'targetNodeId'}),\n",
    "                          left_on='targetOgbId', right_index=True)\n",
    "    rel_df.drop(columns = ['sourceOgbId', 'targetOgbId'], inplace=True)\n",
    "    rel_df.reset_index(drop=True, inplace=True)\n",
    "    return rel_df\n",
    "\n",
    "def make_rel_dfs(ogb_graph, node_dfs, undirected=False):\n",
    "    res = {}\n",
    "    for triple, edge_index in ogb_graph['edge_index_dict'].items():\n",
    "        # stage relationship df\n",
    "        tdf = pd.DataFrame(edge_index.T, columns=['sourceOgbId', 'targetOgbId'])\n",
    "        # format triple and assign relationship type\n",
    "        formatted_triple = format_triple(triple)\n",
    "        tdf['relationshipType'] = formatted_triple[1]\n",
    "        # map ogb to neo4j node ids\n",
    "        tdf = map_neo4j_node_ids(formatted_triple, tdf, node_dfs)\n",
    "        if undirected:\n",
    "            tdf['orientation'] = 0\n",
    "            rev_tdf = tdf.copy().rename(columns={'sourceNodeId':'targetNodeId', 'targetNodeId':'sourceNodeId'})\n",
    "            rev_tdf['orientation'] = 1\n",
    "            tdf = pd.concat([tdf, rev_tdf])\n",
    "        # set in results\n",
    "        res[formatted_triple] = tdf\n",
    "    return res"
   ],
   "metadata": {
    "collapsed": false
   }
  },
  {
   "cell_type": "code",
   "execution_count": 17,
   "outputs": [],
   "source": [
    "node_dfs = make_node_id_dfs(graph)"
   ],
   "metadata": {
    "collapsed": false
   }
  },
  {
   "cell_type": "code",
   "execution_count": 18,
   "outputs": [],
   "source": [
    "# include Word Embeddings\n",
    "node_dfs['Paper']['wordEmbedding'] = list(graph['node_feat_dict']['paper'])"
   ],
   "metadata": {
    "collapsed": false
   }
  },
  {
   "cell_type": "code",
   "execution_count": 19,
   "outputs": [],
   "source": [
    "# include paper subjects (numeric classes)\n",
    "node_dfs['Paper']['subjectId'] = np.squeeze(label['paper'])"
   ],
   "metadata": {
    "collapsed": false
   }
  },
  {
   "cell_type": "code",
   "execution_count": 20,
   "outputs": [
    {
     "data": {
      "text/plain": "{'Author':            ogbId  labels   nodeId\n ogbId                            \n 0              0  Author        0\n 1              1  Author        1\n 2              2  Author        2\n 3              3  Author        3\n 4              4  Author        4\n ...          ...     ...      ...\n 1134644  1134644  Author  1134644\n 1134645  1134645  Author  1134645\n 1134646  1134646  Author  1134646\n 1134647  1134647  Author  1134647\n 1134648  1134648  Author  1134648\n \n [1134649 rows x 3 columns],\n 'Institution':        ogbId       labels   nodeId\n ogbId                             \n 0          0  Institution  1134649\n 1          1  Institution  1134650\n 2          2  Institution  1134651\n 3          3  Institution  1134652\n 4          4  Institution  1134653\n ...      ...          ...      ...\n 8735    8735  Institution  1143384\n 8736    8736  Institution  1143385\n 8737    8737  Institution  1143386\n 8738    8738  Institution  1143387\n 8739    8739  Institution  1143388\n \n [8740 rows x 3 columns],\n 'Paper':          ogbId labels   nodeId  \\\n ogbId                            \n 0            0  Paper  1143389   \n 1            1  Paper  1143390   \n 2            2  Paper  1143391   \n 3            3  Paper  1143392   \n 4            4  Paper  1143393   \n ...        ...    ...      ...   \n 736384  736384  Paper  1879773   \n 736385  736385  Paper  1879774   \n 736386  736386  Paper  1879775   \n 736387  736387  Paper  1879776   \n 736388  736388  Paper  1879777   \n \n                                             wordEmbedding  subjectId  \n ogbId                                                                 \n 0       [-0.095379, 0.040758, -0.210948, -0.064362, -0...        246  \n 1       [-0.151047, -0.107315, -0.221964, -0.034725, 0...        131  \n 2       [-0.114799, -0.175982, -0.260556, 0.01192, -0....        189  \n 3       [0.004506, 0.042368, -0.178465, -0.138479, -0....        131  \n 4       [-0.094474, -0.080044, -0.222468, -0.158952, -...         95  \n ...                                                   ...        ...  \n 736384  [-0.102823, -0.037489, -0.188401, -0.086382, 0...        313  \n 736385  [-0.127035, -0.109116, -0.452804, 0.246238, -0...        115  \n 736386  [0.022815, -0.0865, 0.098138, -0.249444, 0.045...        266  \n 736387  [-0.289148, -0.202898, -0.152454, -0.149671, 0...        289  \n 736388  [-0.088966, -0.034788, -0.264226, -0.06201, -0...          1  \n \n [736389 rows x 5 columns],\n 'FieldOfStudy':        ogbId        labels   nodeId\n ogbId                              \n 0          0  FieldOfStudy  1879778\n 1          1  FieldOfStudy  1879779\n 2          2  FieldOfStudy  1879780\n 3          3  FieldOfStudy  1879781\n 4          4  FieldOfStudy  1879782\n ...      ...           ...      ...\n 59960  59960  FieldOfStudy  1939738\n 59961  59961  FieldOfStudy  1939739\n 59962  59962  FieldOfStudy  1939740\n 59963  59963  FieldOfStudy  1939741\n 59964  59964  FieldOfStudy  1939742\n \n [59965 rows x 3 columns]}"
     },
     "execution_count": 20,
     "metadata": {},
     "output_type": "execute_result"
    }
   ],
   "source": [
    "node_dfs"
   ],
   "metadata": {
    "collapsed": false
   }
  },
  {
   "cell_type": "code",
   "execution_count": 23,
   "outputs": [
    {
     "data": {
      "text/plain": "[{('Author',\n   'AFFILIATED_WITH',\n   'Institution'):         relationshipType  sourceNodeId  targetNodeId\n  0        AFFILIATED_WITH             0       1135494\n  1        AFFILIATED_WITH          3806       1135494\n  2        AFFILIATED_WITH          4444       1135494\n  3        AFFILIATED_WITH          6991       1135494\n  4        AFFILIATED_WITH          9344       1135494\n  ...                  ...           ...           ...\n  1043993  AFFILIATED_WITH       1123654       1137491\n  1043994  AFFILIATED_WITH       1124610       1143250\n  1043995  AFFILIATED_WITH       1127137       1138383\n  1043996  AFFILIATED_WITH       1131701       1143006\n  1043997  AFFILIATED_WITH       1133265       1141017\n  \n  [1043998 rows x 3 columns],\n  ('Author',\n   'WRITES',\n   'Paper'):         relationshipType  sourceNodeId  targetNodeId\n  0                 WRITES             0       1163092\n  1                 WRITES         41685       1163092\n  2                 WRITES         84368       1163092\n  3                 WRITES        360028       1163092\n  4                 WRITES        387940       1163092\n  ...                  ...           ...           ...\n  7145655           WRITES       1134487       1379098\n  7145656           WRITES       1134487       1525149\n  7145657           WRITES       1134487       1627574\n  7145658           WRITES       1134511       1829835\n  7145659           WRITES       1134554       1826475\n  \n  [7145660 rows x 3 columns],\n  ('Paper',\n   'CITES',\n   'Paper'):         relationshipType  sourceNodeId  targetNodeId\n  0                  CITES       1143389       1143477\n  1                  CITES       1597870       1143477\n  2                  CITES       1618292       1143477\n  3                  CITES       1143389       1170838\n  4                  CITES       1144518       1170838\n  ...                  ...           ...           ...\n  5416266            CITES       1879760       1785673\n  5416267            CITES       1879770       1863283\n  5416268            CITES       1879773       1422881\n  5416269            CITES       1879773       1801983\n  5416270            CITES       1879775       1637652\n  \n  [5416271 rows x 3 columns],\n  ('Paper',\n   'HAS_TOPIC',\n   'FieldOfStudy'):         relationshipType  sourceNodeId  targetNodeId\n  0              HAS_TOPIC       1143389       1879923\n  1              HAS_TOPIC       1143398       1879923\n  2              HAS_TOPIC       1143441       1879923\n  3              HAS_TOPIC       1143461       1879923\n  4              HAS_TOPIC       1143477       1879923\n  ...                  ...           ...           ...\n  7505073        HAS_TOPIC       1879251       1926261\n  7505074        HAS_TOPIC       1879293       1894396\n  7505075        HAS_TOPIC       1879359       1923518\n  7505076        HAS_TOPIC       1879379       1889498\n  7505077        HAS_TOPIC       1879612       1919741\n  \n  [7505078 rows x 3 columns]}]"
     },
     "execution_count": 23,
     "metadata": {},
     "output_type": "execute_result"
    }
   ],
   "source": [
    "rel_dfs = make_rel_dfs(graph, node_dfs)\n",
    "rel_dfs"
   ],
   "metadata": {
    "collapsed": false
   }
  },
  {
   "cell_type": "code",
   "execution_count": 30,
   "outputs": [
    {
     "name": "stdout",
     "output_type": "stream",
     "text": [
      "total number of nodes: 1,939,743\n",
      "total number of relationships: 21,111,007\n"
     ]
    }
   ],
   "source": [
    "print(f'total number of nodes: {sum([df.shape[0] for df in node_dfs.values()]):,}')\n",
    "print(f'total number of relationships: {sum([df.shape[0] for df in rel_dfs.values()]):,}')"
   ],
   "metadata": {
    "collapsed": false
   }
  },
  {
   "cell_type": "code",
   "execution_count": 24,
   "outputs": [
    {
     "data": {
      "text/plain": "[1043998, 7145660, 5416271, 7505078]"
     },
     "execution_count": 24,
     "metadata": {},
     "output_type": "execute_result"
    }
   ],
   "source": [
    "load_dotenv('aura-credentials-fixed.env', override=True)\n",
    "\n",
    "# Use Neo4j URI and credentials according to our setup\n",
    "gds = GraphDataScience(\n",
    "    os.getenv('NEO4J_URI'),\n",
    "    auth=(os.getenv('NEO4J_USERNAME'),\n",
    "          os.getenv('NEO4J_PASSWORD')),\n",
    "    aura_ds=True)\n",
    "\n",
    "# Necessary if you enabled Arrow on the db - this is true for AuraDS\n",
    "gds.set_database(\"neo4j\")"
   ],
   "metadata": {
    "collapsed": false
   }
  },
  {
   "cell_type": "code",
   "execution_count": null,
   "outputs": [],
   "source": [
    "%%time\n",
    "g = gds.alpha.graph.construct(\n",
    "    \"ogbn-mag3\",\n",
    "    list(node_dfs.values()),\n",
    "    list(rel_dfs.values()),\n",
    "    undirected_relationship_types = [k[1] for k in rel_dfs.keys()]\n",
    ")"
   ],
   "metadata": {
    "collapsed": false
   }
  }
 ],
 "metadata": {
  "kernelspec": {
   "display_name": "Python 3",
   "language": "python",
   "name": "python3"
  },
  "language_info": {
   "codemirror_mode": {
    "name": "ipython",
    "version": 2
   },
   "file_extension": ".py",
   "mimetype": "text/x-python",
   "name": "python",
   "nbconvert_exporter": "python",
   "pygments_lexer": "ipython2",
   "version": "2.7.6"
  }
 },
 "nbformat": 4,
 "nbformat_minor": 0
}
