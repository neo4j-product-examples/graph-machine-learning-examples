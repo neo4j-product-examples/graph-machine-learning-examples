{
 "cells": [
  {
   "cell_type": "markdown",
   "metadata": {},
   "source": [
    "# Neo4j Graph Sampling for PyG GNN \n",
    "__An example using the [`ogbn-arxiv`](https://ogb.stanford.edu/docs/nodeprop/#ogbn-arxiv) dataset__\n",
    "\n",
    "![Neo4j version](https://img.shields.io/badge/Neo4j-5-brightgreen)\n",
    "![GDS version](https://img.shields.io/badge/GDS-2.3-brightgreen)\n",
    "![GDS Python Client version](https://img.shields.io/badge/GDS_Python_Client-1.6-brightgreen)\n",
    "\n",
    "This notebook demonstrates how to use [Neo4j Graph Data Science](https://neo4j.com/docs/graph-data-science/current/) and PyTorch Geometric (PyG) to:\n",
    "\n",
    "- Generate a representative sample of a graph database using Graph Data Science [projections](https://neo4j.com/docs/graph-data-science/current/management-ops/projections/graph-project/) and [random walk with restarts sampling algorithm](https://neo4j.com/docs/graph-data-science/current/management-ops/projections/rwr/)\n",
    "- Export the graph sample to Python dataframes\n",
    "- Define and train a Graph Convolutional Neural Network (GCN) on the sample\n",
    "- Evaluate the GCN on a test set\n",
    "\n",
    "## Prerequisites:\n",
    "To generate the Neo4j Graph Database from `ogbn-arxiv`, please first run `db-load.ipynb`."
   ]
  },
  {
   "cell_type": "markdown",
   "metadata": {},
   "source": [
    "## Setup"
   ]
  },
  {
   "cell_type": "code",
   "execution_count": 1,
   "metadata": {
    "collapsed": false,
    "jupyter": {
     "outputs_hidden": false
    }
   },
   "outputs": [
    {
     "name": "stdout",
     "output_type": "stream",
     "text": [
      "Requirement already satisfied: graphdatascience in /opt/conda/lib/python3.7/site-packages (1.6)\n",
      "Requirement already satisfied: python-dotenv in /opt/conda/lib/python3.7/site-packages (0.21.1)\n",
      "Requirement already satisfied: tqdm<5.0,>=4.0 in /opt/conda/lib/python3.7/site-packages (from graphdatascience) (4.64.1)\n",
      "Requirement already satisfied: neo4j<6.0,>=4.4.2 in /opt/conda/lib/python3.7/site-packages (from graphdatascience) (5.6.0)\n",
      "Requirement already satisfied: pyarrow<11.0,>=4.0 in /opt/conda/lib/python3.7/site-packages (from graphdatascience) (7.0.0)\n",
      "Requirement already satisfied: multimethod<2.0,>=1.0 in /opt/conda/lib/python3.7/site-packages (from graphdatascience) (1.9.1)\n",
      "Requirement already satisfied: pandas<2.0,>=1.0 in /opt/conda/lib/python3.7/site-packages (from graphdatascience) (1.3.5)\n",
      "Requirement already satisfied: pytz in /opt/conda/lib/python3.7/site-packages (from neo4j<6.0,>=4.4.2->graphdatascience) (2022.7.1)\n",
      "Requirement already satisfied: python-dateutil>=2.7.3 in /opt/conda/lib/python3.7/site-packages (from pandas<2.0,>=1.0->graphdatascience) (2.8.2)\n",
      "Requirement already satisfied: numpy>=1.17.3 in /opt/conda/lib/python3.7/site-packages (from pandas<2.0,>=1.0->graphdatascience) (1.21.6)\n",
      "Requirement already satisfied: six>=1.5 in /opt/conda/lib/python3.7/site-packages (from python-dateutil>=2.7.3->pandas<2.0,>=1.0->graphdatascience) (1.16.0)\n",
      "Note: you may need to restart the kernel to use updated packages.\n"
     ]
    }
   ],
   "source": [
    "%pip install graphdatascience python-dotenv"
   ]
  },
  {
   "cell_type": "code",
   "execution_count": 2,
   "metadata": {
    "collapsed": false,
    "jupyter": {
     "outputs_hidden": false
    }
   },
   "outputs": [],
   "source": [
    "import pandas as pd\n",
    "import numpy as np\n",
    "from graphdatascience import GraphDataScience\n",
    "from dotenv import load_dotenv\n",
    "import os\n",
    "import torch\n",
    "from torch_geometric.data import Data\n",
    "import torch.nn.functional as F\n",
    "from torch_geometric.nn import GCNConv"
   ]
  },
  {
   "cell_type": "code",
   "execution_count": 3,
   "metadata": {
    "collapsed": false,
    "jupyter": {
     "outputs_hidden": false
    }
   },
   "outputs": [],
   "source": [
    "load_dotenv('db-credentials.env', override=True)\n",
    "\n",
    "# Use Neo4j URI and credentials according to our setup\n",
    "gds = GraphDataScience(\n",
    "    os.getenv('NEO4J_URI'),\n",
    "    auth=(os.getenv('NEO4J_USERNAME'),\n",
    "          os.getenv('NEO4J_PASSWORD')),\n",
    "    aura_ds=eval(os.getenv('AURA_DS').title()))\n",
    "\n",
    "# Necessary if you enabled Arrow on the db - this is true for AuraDS\n",
    "gds.set_database(\"neo4j\")\n",
    "PROJ_NAME = 'proj'"
   ]
  },
  {
   "cell_type": "code",
   "execution_count": 4,
   "metadata": {},
   "outputs": [
    {
     "data": {
      "text/plain": [
       "'2.3.1'"
      ]
     },
     "execution_count": 4,
     "metadata": {},
     "output_type": "execute_result"
    }
   ],
   "source": [
    "gds.version()"
   ]
  },
  {
   "cell_type": "code",
   "execution_count": 5,
   "metadata": {},
   "outputs": [],
   "source": [
    "RANDOM_SEED = 7474\n",
    "VALID_YEAR = 2018\n",
    "SAMPLE_RATIO = 0.34"
   ]
  },
  {
   "cell_type": "markdown",
   "metadata": {},
   "source": [
    "## Sample Neo4j Graph"
   ]
  },
  {
   "cell_type": "code",
   "execution_count": 6,
   "metadata": {},
   "outputs": [],
   "source": [
    "if gds.graph.exists(PROJ_NAME)['exists']:\n",
    "    gds.graph.get(PROJ_NAME).drop()"
   ]
  },
  {
   "cell_type": "code",
   "execution_count": 7,
   "metadata": {},
   "outputs": [
    {
     "data": {
      "application/vnd.jupyter.widget-view+json": {
       "model_id": "efb9512d74b8432f888b4108379a30b6",
       "version_major": 2,
       "version_minor": 0
      },
      "text/plain": [
       "Loading:   0%|          | 0/100 [00:00<?, ?%/s]"
      ]
     },
     "metadata": {},
     "output_type": "display_data"
    },
    {
     "name": "stdout",
     "output_type": "stream",
     "text": [
      "CPU times: user 27.9 ms, sys: 0 ns, total: 27.9 ms\n",
      "Wall time: 1.32 s\n"
     ]
    }
   ],
   "source": [
    "%%time\n",
    "g, _ = gds.graph.project(PROJ_NAME, ['Train', 'Valid', 'Test'], ['CITES'], \n",
    "                         nodeProperties =['textEmbedding', 'subjectId', 'year'])"
   ]
  },
  {
   "cell_type": "code",
   "execution_count": 8,
   "metadata": {},
   "outputs": [
    {
     "name": "stdout",
     "output_type": "stream",
     "text": [
      "Number of nodes in our graph: 169,343\n",
      "Number of relationships in our graph: 1,166,243\n"
     ]
    }
   ],
   "source": [
    "print(f\"Number of nodes in our graph: {g.node_count():,}\")\n",
    "print(f\"Number of relationships in our graph: {g.relationship_count():,}\")"
   ]
  },
  {
   "cell_type": "code",
   "execution_count": 9,
   "metadata": {},
   "outputs": [],
   "source": [
    "SAMPLE_PROJ_NAME = PROJ_NAME + '_sample'\n",
    "if gds.graph.exists(SAMPLE_PROJ_NAME)['exists']:\n",
    "    gds.graph.get(SAMPLE_PROJ_NAME).drop()"
   ]
  },
  {
   "cell_type": "code",
   "execution_count": 10,
   "metadata": {},
   "outputs": [
    {
     "data": {
      "application/vnd.jupyter.widget-view+json": {
       "model_id": "73148dd9abdc4877818aa120b6f7f041",
       "version_major": 2,
       "version_minor": 0
      },
      "text/plain": [
       "Random walk with restarts sampling:   0%|          | 0/100 [00:00<?, ?%/s]"
      ]
     },
     "metadata": {},
     "output_type": "display_data"
    },
    {
     "name": "stdout",
     "output_type": "stream",
     "text": [
      "CPU times: user 448 ms, sys: 32.7 ms, total: 480 ms\n",
      "Wall time: 1min\n"
     ]
    }
   ],
   "source": [
    "%%time\n",
    "g_sample, _ = gds.alpha.graph.sample.rwr(SAMPLE_PROJ_NAME, g, samplingRatio=SAMPLE_RATIO,\n",
    "                                         restartProbability=0.05, nodeLabelStratification=True, \n",
    "                                         concurrency=1, randomSeed=RANDOM_SEED)"
   ]
  },
  {
   "cell_type": "code",
   "execution_count": 11,
   "metadata": {},
   "outputs": [
    {
     "name": "stdout",
     "output_type": "stream",
     "text": [
      "Number of nodes in our sample: 57,577\n",
      "Number of relationships in our sample: 459,928\n"
     ]
    }
   ],
   "source": [
    "# If our SAMPLE_RATIO is 0.34 we should have somewhere around 0.34 * 269,343 ~ 55,883 nodes in our sample\n",
    "print(f\"Number of nodes in our sample: {g_sample.node_count():,}\")\n",
    "\n",
    "# And let's see how many relationships we have\n",
    "print(f\"Number of relationships in our sample: {g_sample.relationship_count():,}\")"
   ]
  },
  {
   "cell_type": "code",
   "execution_count": 12,
   "metadata": {},
   "outputs": [
    {
     "name": "stdout",
     "output_type": "stream",
     "text": [
      "Degree distribution in our full graph:\n",
      "p99      37.000000\n",
      "min       0.000000\n",
      "max     436.000000\n",
      "mean      6.886869\n",
      "p90      18.000000\n",
      "p50       4.000000\n",
      "p999     71.000000\n",
      "p95      24.000000\n",
      "p75       9.000000\n",
      "dtype: float64\n",
      "\n",
      "\n",
      "Degree distribution in our sample:\n",
      "p99      40.000000\n",
      "min       0.000000\n",
      "max     403.000000\n",
      "mean      7.988051\n",
      "p90      20.000000\n",
      "p50       5.000000\n",
      "p999     82.000000\n",
      "p95      26.000000\n",
      "p75      11.000000\n",
      "dtype: float64\n"
     ]
    }
   ],
   "source": [
    "# We should also see similar degree distributions\n",
    "print(f\"Degree distribution in our full graph:\")\n",
    "print(g.degree_distribution())\n",
    "\n",
    "# And let's see how many relationships we got\n",
    "print(f\"\\n\\nDegree distribution in our sample:\")\n",
    "print(g_sample.degree_distribution())"
   ]
  },
  {
   "cell_type": "markdown",
   "metadata": {},
   "source": [
    "## Export Sampled Graph to Pandas DataFrames"
   ]
  },
  {
   "cell_type": "code",
   "execution_count": 13,
   "metadata": {},
   "outputs": [],
   "source": [
    "raw_sample_topology_df = gds.beta.graph.relationships.stream(g_sample)"
   ]
  },
  {
   "cell_type": "code",
   "execution_count": 14,
   "metadata": {},
   "outputs": [],
   "source": [
    "raw_sample_node_df = gds.graph.nodeProperties.stream(\n",
    "    g_sample,\n",
    "    ['subjectId', 'year', 'textEmbedding'],\n",
    "    separate_property_columns=True,\n",
    ")"
   ]
  },
  {
   "cell_type": "markdown",
   "metadata": {},
   "source": [
    "## Re-Index Graph Data for PyG\n",
    "Since we sampled from our Neo4j Graph, we have some missing node ids. This will create issues when trying to transform our data for PyG. To resolve, we will re-assign sequential node ids for the node and relationship topology dataframes."
   ]
  },
  {
   "cell_type": "code",
   "execution_count": 15,
   "metadata": {},
   "outputs": [
    {
     "data": {
      "text/html": [
       "<div>\n",
       "<style scoped>\n",
       "    .dataframe tbody tr th:only-of-type {\n",
       "        vertical-align: middle;\n",
       "    }\n",
       "\n",
       "    .dataframe tbody tr th {\n",
       "        vertical-align: top;\n",
       "    }\n",
       "\n",
       "    .dataframe thead th {\n",
       "        text-align: right;\n",
       "    }\n",
       "</style>\n",
       "<table border=\"1\" class=\"dataframe\">\n",
       "  <thead>\n",
       "    <tr style=\"text-align: right;\">\n",
       "      <th></th>\n",
       "      <th>nodeId</th>\n",
       "      <th>neo4jNodeId</th>\n",
       "      <th>subjectId</th>\n",
       "      <th>year</th>\n",
       "      <th>textEmbedding</th>\n",
       "    </tr>\n",
       "  </thead>\n",
       "  <tbody>\n",
       "    <tr>\n",
       "      <th>0</th>\n",
       "      <td>0</td>\n",
       "      <td>112370</td>\n",
       "      <td>10</td>\n",
       "      <td>2012</td>\n",
       "      <td>[-0.03758800029754639, -0.019776999950408936, ...</td>\n",
       "    </tr>\n",
       "    <tr>\n",
       "      <th>1</th>\n",
       "      <td>1</td>\n",
       "      <td>112371</td>\n",
       "      <td>10</td>\n",
       "      <td>2013</td>\n",
       "      <td>[-0.09249299764633179, 0.06776200234889984, -0...</td>\n",
       "    </tr>\n",
       "    <tr>\n",
       "      <th>2</th>\n",
       "      <td>2</td>\n",
       "      <td>112375</td>\n",
       "      <td>10</td>\n",
       "      <td>2011</td>\n",
       "      <td>[-0.05762699991464615, -0.02996399998664856, -...</td>\n",
       "    </tr>\n",
       "    <tr>\n",
       "      <th>3</th>\n",
       "      <td>3</td>\n",
       "      <td>112376</td>\n",
       "      <td>10</td>\n",
       "      <td>2013</td>\n",
       "      <td>[-0.010092999786138535, -0.06655500084161758, ...</td>\n",
       "    </tr>\n",
       "    <tr>\n",
       "      <th>4</th>\n",
       "      <td>4</td>\n",
       "      <td>112380</td>\n",
       "      <td>10</td>\n",
       "      <td>2000</td>\n",
       "      <td>[-0.0767190009355545, -0.13565599918365479, -0...</td>\n",
       "    </tr>\n",
       "    <tr>\n",
       "      <th>...</th>\n",
       "      <td>...</td>\n",
       "      <td>...</td>\n",
       "      <td>...</td>\n",
       "      <td>...</td>\n",
       "      <td>...</td>\n",
       "    </tr>\n",
       "    <tr>\n",
       "      <th>57572</th>\n",
       "      <td>57572</td>\n",
       "      <td>112360</td>\n",
       "      <td>10</td>\n",
       "      <td>2013</td>\n",
       "      <td>[-0.25040701031684875, -0.15918700397014618, -...</td>\n",
       "    </tr>\n",
       "    <tr>\n",
       "      <th>57573</th>\n",
       "      <td>57573</td>\n",
       "      <td>112362</td>\n",
       "      <td>10</td>\n",
       "      <td>2013</td>\n",
       "      <td>[-0.31519201397895813, -0.06957100331783295, -...</td>\n",
       "    </tr>\n",
       "    <tr>\n",
       "      <th>57574</th>\n",
       "      <td>57574</td>\n",
       "      <td>112363</td>\n",
       "      <td>10</td>\n",
       "      <td>2014</td>\n",
       "      <td>[-0.32545000314712524, -0.3242749869823456, -0...</td>\n",
       "    </tr>\n",
       "    <tr>\n",
       "      <th>57575</th>\n",
       "      <td>57575</td>\n",
       "      <td>112364</td>\n",
       "      <td>10</td>\n",
       "      <td>2012</td>\n",
       "      <td>[-0.19740299880504608, -0.05031999945640564, -...</td>\n",
       "    </tr>\n",
       "    <tr>\n",
       "      <th>57576</th>\n",
       "      <td>57576</td>\n",
       "      <td>112369</td>\n",
       "      <td>10</td>\n",
       "      <td>2013</td>\n",
       "      <td>[-0.05909999832510948, 0.05376800149679184, -0...</td>\n",
       "    </tr>\n",
       "  </tbody>\n",
       "</table>\n",
       "<p>57577 rows × 5 columns</p>\n",
       "</div>"
      ],
      "text/plain": [
       "       nodeId  neo4jNodeId  subjectId  year  \\\n",
       "0           0       112370         10  2012   \n",
       "1           1       112371         10  2013   \n",
       "2           2       112375         10  2011   \n",
       "3           3       112376         10  2013   \n",
       "4           4       112380         10  2000   \n",
       "...       ...          ...        ...   ...   \n",
       "57572   57572       112360         10  2013   \n",
       "57573   57573       112362         10  2013   \n",
       "57574   57574       112363         10  2014   \n",
       "57575   57575       112364         10  2012   \n",
       "57576   57576       112369         10  2013   \n",
       "\n",
       "                                           textEmbedding  \n",
       "0      [-0.03758800029754639, -0.019776999950408936, ...  \n",
       "1      [-0.09249299764633179, 0.06776200234889984, -0...  \n",
       "2      [-0.05762699991464615, -0.02996399998664856, -...  \n",
       "3      [-0.010092999786138535, -0.06655500084161758, ...  \n",
       "4      [-0.0767190009355545, -0.13565599918365479, -0...  \n",
       "...                                                  ...  \n",
       "57572  [-0.25040701031684875, -0.15918700397014618, -...  \n",
       "57573  [-0.31519201397895813, -0.06957100331783295, -...  \n",
       "57574  [-0.32545000314712524, -0.3242749869823456, -0...  \n",
       "57575  [-0.19740299880504608, -0.05031999945640564, -...  \n",
       "57576  [-0.05909999832510948, 0.05376800149679184, -0...  \n",
       "\n",
       "[57577 rows x 5 columns]"
      ]
     },
     "execution_count": 15,
     "metadata": {},
     "output_type": "execute_result"
    }
   ],
   "source": [
    "sample_node_df = raw_sample_node_df.reset_index().rename(columns={'nodeId':'neo4jNodeId'}).rename(columns={'index':'nodeId'})\n",
    "sample_node_df"
   ]
  },
  {
   "cell_type": "code",
   "execution_count": 16,
   "metadata": {},
   "outputs": [
    {
     "data": {
      "text/html": [
       "<div>\n",
       "<style scoped>\n",
       "    .dataframe tbody tr th:only-of-type {\n",
       "        vertical-align: middle;\n",
       "    }\n",
       "\n",
       "    .dataframe tbody tr th {\n",
       "        vertical-align: top;\n",
       "    }\n",
       "\n",
       "    .dataframe thead th {\n",
       "        text-align: right;\n",
       "    }\n",
       "</style>\n",
       "<table border=\"1\" class=\"dataframe\">\n",
       "  <thead>\n",
       "    <tr style=\"text-align: right;\">\n",
       "      <th></th>\n",
       "      <th>relationshipType</th>\n",
       "      <th>sourceNodeId</th>\n",
       "      <th>targetNodeId</th>\n",
       "    </tr>\n",
       "  </thead>\n",
       "  <tbody>\n",
       "    <tr>\n",
       "      <th>0</th>\n",
       "      <td>CITES</td>\n",
       "      <td>0</td>\n",
       "      <td>35957</td>\n",
       "    </tr>\n",
       "    <tr>\n",
       "      <th>1</th>\n",
       "      <td>CITES</td>\n",
       "      <td>1</td>\n",
       "      <td>57217</td>\n",
       "    </tr>\n",
       "    <tr>\n",
       "      <th>2</th>\n",
       "      <td>CITES</td>\n",
       "      <td>2</td>\n",
       "      <td>30460</td>\n",
       "    </tr>\n",
       "    <tr>\n",
       "      <th>3</th>\n",
       "      <td>CITES</td>\n",
       "      <td>2</td>\n",
       "      <td>30461</td>\n",
       "    </tr>\n",
       "    <tr>\n",
       "      <th>4</th>\n",
       "      <td>CITES</td>\n",
       "      <td>3</td>\n",
       "      <td>57536</td>\n",
       "    </tr>\n",
       "    <tr>\n",
       "      <th>...</th>\n",
       "      <td>...</td>\n",
       "      <td>...</td>\n",
       "      <td>...</td>\n",
       "    </tr>\n",
       "    <tr>\n",
       "      <th>459923</th>\n",
       "      <td>CITES</td>\n",
       "      <td>37575</td>\n",
       "      <td>50806</td>\n",
       "    </tr>\n",
       "    <tr>\n",
       "      <th>459924</th>\n",
       "      <td>CITES</td>\n",
       "      <td>37576</td>\n",
       "      <td>12136</td>\n",
       "    </tr>\n",
       "    <tr>\n",
       "      <th>459925</th>\n",
       "      <td>CITES</td>\n",
       "      <td>37576</td>\n",
       "      <td>16918</td>\n",
       "    </tr>\n",
       "    <tr>\n",
       "      <th>459926</th>\n",
       "      <td>CITES</td>\n",
       "      <td>37576</td>\n",
       "      <td>16977</td>\n",
       "    </tr>\n",
       "    <tr>\n",
       "      <th>459927</th>\n",
       "      <td>CITES</td>\n",
       "      <td>37576</td>\n",
       "      <td>6490</td>\n",
       "    </tr>\n",
       "  </tbody>\n",
       "</table>\n",
       "<p>459928 rows × 3 columns</p>\n",
       "</div>"
      ],
      "text/plain": [
       "       relationshipType  sourceNodeId  targetNodeId\n",
       "0                 CITES             0         35957\n",
       "1                 CITES             1         57217\n",
       "2                 CITES             2         30460\n",
       "3                 CITES             2         30461\n",
       "4                 CITES             3         57536\n",
       "...                 ...           ...           ...\n",
       "459923            CITES         37575         50806\n",
       "459924            CITES         37576         12136\n",
       "459925            CITES         37576         16918\n",
       "459926            CITES         37576         16977\n",
       "459927            CITES         37576          6490\n",
       "\n",
       "[459928 rows x 3 columns]"
      ]
     },
     "execution_count": 16,
     "metadata": {},
     "output_type": "execute_result"
    }
   ],
   "source": [
    "sample_topology_df = (raw_sample_topology_df\n",
    "    .merge(sample_node_df[['neo4jNodeId','nodeId']], how='left', \n",
    "           left_on='sourceNodeId', right_on='neo4jNodeId')\n",
    "    .drop(columns=['sourceNodeId', 'neo4jNodeId'])\n",
    "    .rename(columns={'nodeId':'sourceNodeId'})\n",
    "    .merge(sample_node_df[['neo4jNodeId','nodeId']], how='left', \n",
    "           left_on='targetNodeId', right_on='neo4jNodeId')\n",
    "    .drop(columns=['targetNodeId', 'neo4jNodeId'])\n",
    "    .rename(columns={'nodeId':'targetNodeId'})\n",
    ")\n",
    "sample_topology_df"
   ]
  },
  {
   "cell_type": "markdown",
   "metadata": {},
   "source": [
    "## Construct Inputs for Training\n",
    "Now that we re-assigned node ids, we can easily transform our `sample_topology_df` and `node_df` into the `edge_index`, features (`x`), and target (`y`) tensors for PyG. We will also use `node_df.year` for data splitting."
   ]
  },
  {
   "cell_type": "code",
   "execution_count": 17,
   "metadata": {},
   "outputs": [],
   "source": [
    "# By using `by_rel_type` we get the topology in a format that can be used as input to several GNN frameworks:\n",
    "# {\"rel_type\": [[source_nodes], [target_nodes]]}\n",
    "sample_topology = sample_topology_df.by_rel_type()"
   ]
  },
  {
   "cell_type": "code",
   "execution_count": 18,
   "metadata": {},
   "outputs": [
    {
     "data": {
      "text/plain": [
       "tensor([[    0,     1,     2,  ..., 37576, 37576, 37576],\n",
       "        [35957, 57217, 30460,  ..., 16918, 16977,  6490]])"
      ]
     },
     "execution_count": 18,
     "metadata": {},
     "output_type": "execute_result"
    }
   ],
   "source": [
    "edge_index = torch.tensor(sample_topology['CITES'], dtype=torch.long)\n",
    "edge_index"
   ]
  },
  {
   "cell_type": "code",
   "execution_count": 19,
   "metadata": {},
   "outputs": [],
   "source": [
    "#node features\n",
    "x = torch.tensor(np.stack(sample_node_df['textEmbedding']), dtype=torch.float)"
   ]
  },
  {
   "cell_type": "code",
   "execution_count": 20,
   "metadata": {},
   "outputs": [],
   "source": [
    "#target class\n",
    "y = torch.tensor(np.stack(sample_node_df['subjectId']), dtype=torch.long)"
   ]
  },
  {
   "cell_type": "code",
   "execution_count": 21,
   "metadata": {},
   "outputs": [
    {
     "name": "stdout",
     "output_type": "stream",
     "text": [
      "Data(x=[57577, 128], edge_index=[2, 459928], y=[57577], train_mask=[57577], val_mask=[57577], test_mask=[57577])\n"
     ]
    }
   ],
   "source": [
    "# data objects and masks for data splitting\n",
    "data = Data(x=x, y=y, edge_index=edge_index)\n",
    "data.train_mask = torch.tensor(np.stack(sample_node_df.year < VALID_YEAR))\n",
    "data.val_mask = torch.tensor(np.stack(sample_node_df.year == VALID_YEAR))\n",
    "data.test_mask = torch.tensor(np.stack(sample_node_df.year > VALID_YEAR))\n",
    "print(data)"
   ]
  },
  {
   "cell_type": "code",
   "execution_count": 22,
   "metadata": {},
   "outputs": [
    {
     "name": "stdout",
     "output_type": "stream",
     "text": [
      "there are 40 possible target classes\n"
     ]
    }
   ],
   "source": [
    "num_classes = y.unique().shape[0]\n",
    "print(f'there are {num_classes} possible target classes')"
   ]
  },
  {
   "cell_type": "markdown",
   "metadata": {},
   "source": [
    "## Define Convolutional Neural Network and Other Configurations for Training"
   ]
  },
  {
   "cell_type": "code",
   "execution_count": 23,
   "metadata": {},
   "outputs": [],
   "source": [
    "# Define the GCN architecture\n",
    "class GCN(torch.nn.Module):\n",
    "    def __init__(self):\n",
    "        super().__init__()\n",
    "        self.conv1 = GCNConv(data.num_node_features, 72)\n",
    "        self.conv2 = GCNConv(72, num_classes)\n",
    "\n",
    "    def forward(self, data):\n",
    "        x, edge_index = data.x, data.edge_index\n",
    "\n",
    "        x = self.conv1(x, edge_index)\n",
    "        x = F.relu(x)\n",
    "        x = F.dropout(x, training=self.training)\n",
    "        x = self.conv2(x, edge_index)\n",
    "\n",
    "        # We use log_softmax and nll_loss instead of softmax output and cross entropy loss\n",
    "        # for reasons for performance and numerical stability.\n",
    "        # They are mathematically equivalent\n",
    "        return F.log_softmax(x, dim=1)"
   ]
  },
  {
   "cell_type": "code",
   "execution_count": 24,
   "metadata": {},
   "outputs": [
    {
     "name": "stdout",
     "output_type": "stream",
     "text": [
      "cuda\n"
     ]
    }
   ],
   "source": [
    "# Prepare training by setting up for the chosen device\n",
    "device = torch.device(\"cuda\" if torch.cuda.is_available() else \"cpu\")\n",
    "\n",
    "# Let's see what device was chosen\n",
    "print(device)"
   ]
  },
  {
   "cell_type": "code",
   "execution_count": 25,
   "metadata": {},
   "outputs": [
    {
     "name": "stdout",
     "output_type": "stream",
     "text": [
      "GCN(\n",
      "  (conv1): GCNConv(128, 72)\n",
      "  (conv2): GCNConv(72, 40)\n",
      ")\n"
     ]
    }
   ],
   "source": [
    "# In standard PyTorch fashion we instantiate our model, and transfer it to the memory of the chosen device\n",
    "model = GCN().to(device)\n",
    "\n",
    "# Let's inspect our model architecture\n",
    "print(model)"
   ]
  },
  {
   "cell_type": "code",
   "execution_count": 26,
   "metadata": {},
   "outputs": [],
   "source": [
    "# Pass our input data to the chosen device too\n",
    "data = data.to(device)"
   ]
  },
  {
   "cell_type": "code",
   "execution_count": 27,
   "metadata": {},
   "outputs": [],
   "source": [
    "# Since hyperparameter tuning is out of scope for this small example, we initialize an\n",
    "# Adam optimizer with some fixed learning rate and weight decay\n",
    "optimizer = torch.optim.Adam(model.parameters(), lr=0.01, weight_decay=5e-4)"
   ]
  },
  {
   "cell_type": "markdown",
   "source": [
    "## Train and Evaluate GNN"
   ],
   "metadata": {
    "collapsed": false
   }
  },
  {
   "cell_type": "code",
   "execution_count": 28,
   "metadata": {},
   "outputs": [
    {
     "name": "stdout",
     "output_type": "stream",
     "text": [
      "Epoch: 000, Train: 3.8403, Valid: 3.8400, Test: 3.7851\n",
      "Epoch: 001, Train: 3.4980, Valid: 3.3984, Test: 3.4800\n",
      "Epoch: 002, Train: 3.3696, Valid: 3.0955, Test: 3.2269\n",
      "Epoch: 003, Train: 3.3504, Valid: 2.8919, Test: 2.9968\n",
      "Epoch: 004, Train: 3.3218, Valid: 2.7671, Test: 2.8403\n",
      "Epoch: 005, Train: 3.2921, Valid: 2.6941, Test: 2.7497\n",
      "Epoch: 006, Train: 3.2470, Valid: 2.6350, Test: 2.7085\n",
      "Epoch: 007, Train: 3.2105, Valid: 2.6195, Test: 2.6972\n",
      "Epoch: 008, Train: 3.1645, Valid: 2.5798, Test: 2.6555\n",
      "Epoch: 009, Train: 3.1240, Valid: 2.5270, Test: 2.6254\n",
      "Epoch: 010, Train: 3.0777, Valid: 2.4804, Test: 2.5802\n",
      "Epoch: 011, Train: 3.0208, Valid: 2.4354, Test: 2.5477\n",
      "Epoch: 012, Train: 2.9668, Valid: 2.4006, Test: 2.5322\n",
      "Epoch: 013, Train: 2.9109, Valid: 2.3584, Test: 2.5121\n",
      "Epoch: 014, Train: 2.8518, Valid: 2.3077, Test: 2.4973\n",
      "Epoch: 015, Train: 2.8146, Valid: 2.2906, Test: 2.4759\n",
      "Epoch: 016, Train: 2.7751, Valid: 2.2649, Test: 2.4597\n",
      "Epoch: 017, Train: 2.7239, Valid: 2.2338, Test: 2.4289\n",
      "Epoch: 018, Train: 2.6696, Valid: 2.1973, Test: 2.3979\n",
      "Epoch: 019, Train: 2.6287, Valid: 2.1711, Test: 2.3613\n",
      "Epoch: 020, Train: 2.5978, Valid: 2.1426, Test: 2.3357\n",
      "Epoch: 021, Train: 2.5649, Valid: 2.1125, Test: 2.3085\n",
      "Epoch: 022, Train: 2.5347, Valid: 2.0845, Test: 2.2797\n",
      "Epoch: 023, Train: 2.5122, Valid: 2.0651, Test: 2.2644\n",
      "Epoch: 024, Train: 2.4782, Valid: 2.0467, Test: 2.2410\n",
      "Epoch: 025, Train: 2.4388, Valid: 2.0127, Test: 2.2234\n",
      "Epoch: 026, Train: 2.4118, Valid: 1.9894, Test: 2.2069\n",
      "Epoch: 027, Train: 2.3942, Valid: 1.9777, Test: 2.1886\n",
      "Epoch: 028, Train: 2.3714, Valid: 1.9534, Test: 2.1747\n",
      "Epoch: 029, Train: 2.3467, Valid: 1.9335, Test: 2.1505\n",
      "Epoch: 030, Train: 2.3196, Valid: 1.9163, Test: 2.1447\n",
      "Epoch: 031, Train: 2.2928, Valid: 1.8890, Test: 2.1246\n",
      "Epoch: 032, Train: 2.2560, Valid: 1.8717, Test: 2.1131\n",
      "Epoch: 033, Train: 2.2343, Valid: 1.8493, Test: 2.0906\n",
      "Epoch: 034, Train: 2.2073, Valid: 1.8393, Test: 2.0805\n",
      "Epoch: 035, Train: 2.1884, Valid: 1.8250, Test: 2.0629\n",
      "Epoch: 036, Train: 2.1685, Valid: 1.8152, Test: 2.0574\n",
      "Epoch: 037, Train: 2.1446, Valid: 1.7912, Test: 2.0502\n",
      "Epoch: 038, Train: 2.1302, Valid: 1.7832, Test: 2.0312\n",
      "Epoch: 039, Train: 2.1126, Valid: 1.7640, Test: 2.0242\n",
      "Epoch: 040, Train: 2.0992, Valid: 1.7503, Test: 2.0081\n",
      "Epoch: 041, Train: 2.0809, Valid: 1.7323, Test: 1.9958\n",
      "Epoch: 042, Train: 2.0633, Valid: 1.7276, Test: 1.9825\n",
      "Epoch: 043, Train: 2.0451, Valid: 1.7173, Test: 1.9767\n",
      "Epoch: 044, Train: 2.0300, Valid: 1.6997, Test: 1.9760\n",
      "Epoch: 045, Train: 2.0092, Valid: 1.6863, Test: 1.9507\n",
      "Epoch: 046, Train: 1.9952, Valid: 1.6724, Test: 1.9459\n",
      "Epoch: 047, Train: 1.9855, Valid: 1.6648, Test: 1.9441\n",
      "Epoch: 048, Train: 1.9760, Valid: 1.6668, Test: 1.9414\n",
      "Epoch: 049, Train: 1.9601, Valid: 1.6574, Test: 1.9294\n",
      "Epoch: 050, Train: 1.9462, Valid: 1.6453, Test: 1.9231\n",
      "Epoch: 051, Train: 1.9363, Valid: 1.6196, Test: 1.9120\n",
      "Epoch: 052, Train: 1.9258, Valid: 1.6187, Test: 1.9010\n",
      "Epoch: 053, Train: 1.9148, Valid: 1.6150, Test: 1.8902\n",
      "Epoch: 054, Train: 1.9073, Valid: 1.6033, Test: 1.8954\n",
      "Epoch: 055, Train: 1.9036, Valid: 1.6107, Test: 1.8832\n",
      "Epoch: 056, Train: 1.8886, Valid: 1.5996, Test: 1.8773\n",
      "Epoch: 057, Train: 1.8790, Valid: 1.5910, Test: 1.8659\n",
      "Epoch: 058, Train: 1.8755, Valid: 1.5757, Test: 1.8756\n",
      "Epoch: 059, Train: 1.8596, Valid: 1.5849, Test: 1.8694\n",
      "Epoch: 060, Train: 1.8592, Valid: 1.5838, Test: 1.8619\n",
      "Epoch: 061, Train: 1.8507, Valid: 1.5688, Test: 1.8559\n",
      "Epoch: 062, Train: 1.8414, Valid: 1.5627, Test: 1.8556\n",
      "Epoch: 063, Train: 1.8362, Valid: 1.5581, Test: 1.8450\n",
      "Epoch: 064, Train: 1.8320, Valid: 1.5625, Test: 1.8437\n",
      "Epoch: 065, Train: 1.8315, Valid: 1.5436, Test: 1.8446\n",
      "Epoch: 066, Train: 1.8226, Valid: 1.5432, Test: 1.8404\n",
      "Epoch: 067, Train: 1.8160, Valid: 1.5383, Test: 1.8361\n",
      "Epoch: 068, Train: 1.8058, Valid: 1.5346, Test: 1.8365\n",
      "Epoch: 069, Train: 1.8037, Valid: 1.5250, Test: 1.8293\n",
      "Epoch: 070, Train: 1.8062, Valid: 1.5280, Test: 1.8280\n",
      "Epoch: 071, Train: 1.7940, Valid: 1.5260, Test: 1.8297\n",
      "Epoch: 072, Train: 1.7882, Valid: 1.5213, Test: 1.8311\n",
      "Epoch: 073, Train: 1.7736, Valid: 1.5164, Test: 1.8083\n",
      "Epoch: 074, Train: 1.7733, Valid: 1.5138, Test: 1.8199\n",
      "Epoch: 075, Train: 1.7724, Valid: 1.5139, Test: 1.8203\n",
      "Epoch: 076, Train: 1.7721, Valid: 1.5054, Test: 1.8064\n",
      "Epoch: 077, Train: 1.7625, Valid: 1.4906, Test: 1.8056\n",
      "Epoch: 078, Train: 1.7592, Valid: 1.4997, Test: 1.8116\n",
      "Epoch: 079, Train: 1.7505, Valid: 1.4811, Test: 1.7954\n",
      "Epoch: 080, Train: 1.7487, Valid: 1.4899, Test: 1.8039\n",
      "Epoch: 081, Train: 1.7433, Valid: 1.4758, Test: 1.8003\n",
      "Epoch: 082, Train: 1.7435, Valid: 1.4700, Test: 1.7855\n",
      "Epoch: 083, Train: 1.7299, Valid: 1.4659, Test: 1.7861\n",
      "Epoch: 084, Train: 1.7287, Valid: 1.4756, Test: 1.7907\n",
      "Epoch: 085, Train: 1.7218, Valid: 1.4595, Test: 1.7860\n",
      "Epoch: 086, Train: 1.7105, Valid: 1.4577, Test: 1.7745\n",
      "Epoch: 087, Train: 1.7055, Valid: 1.4583, Test: 1.7770\n",
      "Epoch: 088, Train: 1.7022, Valid: 1.4485, Test: 1.7640\n",
      "Epoch: 089, Train: 1.7058, Valid: 1.4547, Test: 1.7729\n",
      "Epoch: 090, Train: 1.6994, Valid: 1.4462, Test: 1.7866\n",
      "Epoch: 091, Train: 1.6987, Valid: 1.4463, Test: 1.7725\n",
      "Epoch: 092, Train: 1.6967, Valid: 1.4376, Test: 1.7573\n",
      "Epoch: 093, Train: 1.6865, Valid: 1.4363, Test: 1.7676\n",
      "Epoch: 094, Train: 1.6774, Valid: 1.4279, Test: 1.7514\n",
      "Epoch: 095, Train: 1.6751, Valid: 1.4278, Test: 1.7612\n",
      "Epoch: 096, Train: 1.6780, Valid: 1.4232, Test: 1.7553\n",
      "Epoch: 097, Train: 1.6740, Valid: 1.4186, Test: 1.7440\n",
      "Epoch: 098, Train: 1.6675, Valid: 1.4111, Test: 1.7455\n",
      "Epoch: 099, Train: 1.6677, Valid: 1.4170, Test: 1.7565\n",
      "Epoch: 100, Train: 1.6514, Valid: 1.4100, Test: 1.7552\n",
      "Epoch: 101, Train: 1.6646, Valid: 1.4175, Test: 1.7555\n",
      "Epoch: 102, Train: 1.6633, Valid: 1.4059, Test: 1.7383\n",
      "Epoch: 103, Train: 1.6499, Valid: 1.4016, Test: 1.7485\n",
      "Epoch: 104, Train: 1.6448, Valid: 1.4037, Test: 1.7529\n",
      "Epoch: 105, Train: 1.6406, Valid: 1.3919, Test: 1.7410\n",
      "Epoch: 106, Train: 1.6522, Valid: 1.3997, Test: 1.7374\n",
      "Epoch: 107, Train: 1.6475, Valid: 1.3970, Test: 1.7447\n",
      "Epoch: 108, Train: 1.6369, Valid: 1.3992, Test: 1.7354\n",
      "Epoch: 109, Train: 1.6457, Valid: 1.3927, Test: 1.7391\n",
      "Epoch: 110, Train: 1.6463, Valid: 1.3874, Test: 1.7299\n",
      "Epoch: 111, Train: 1.6381, Valid: 1.3842, Test: 1.7160\n",
      "Epoch: 112, Train: 1.6376, Valid: 1.3794, Test: 1.7318\n",
      "Epoch: 113, Train: 1.6298, Valid: 1.3823, Test: 1.7253\n",
      "Epoch: 114, Train: 1.6338, Valid: 1.3843, Test: 1.7363\n",
      "Epoch: 115, Train: 1.6339, Valid: 1.3804, Test: 1.7202\n",
      "Epoch: 116, Train: 1.6280, Valid: 1.3706, Test: 1.7151\n",
      "Epoch: 117, Train: 1.6212, Valid: 1.3710, Test: 1.7265\n",
      "Epoch: 118, Train: 1.6237, Valid: 1.3808, Test: 1.7236\n",
      "Epoch: 119, Train: 1.6230, Valid: 1.3697, Test: 1.7249\n",
      "Epoch: 120, Train: 1.6243, Valid: 1.3728, Test: 1.7262\n",
      "Epoch: 121, Train: 1.6174, Valid: 1.3613, Test: 1.7104\n",
      "Epoch: 122, Train: 1.6218, Valid: 1.3647, Test: 1.7078\n",
      "Epoch: 123, Train: 1.6171, Valid: 1.3612, Test: 1.7241\n",
      "Epoch: 124, Train: 1.6123, Valid: 1.3651, Test: 1.7167\n",
      "Epoch: 125, Train: 1.6097, Valid: 1.3608, Test: 1.7182\n",
      "Epoch: 126, Train: 1.6242, Valid: 1.3541, Test: 1.7108\n",
      "Epoch: 127, Train: 1.6328, Valid: 1.3592, Test: 1.7031\n",
      "Epoch: 128, Train: 1.6146, Valid: 1.3562, Test: 1.7143\n",
      "Epoch: 129, Train: 1.6039, Valid: 1.3574, Test: 1.7124\n",
      "Epoch: 130, Train: 1.6045, Valid: 1.3581, Test: 1.7164\n",
      "Epoch: 131, Train: 1.6082, Valid: 1.3577, Test: 1.7144\n",
      "Epoch: 132, Train: 1.6120, Valid: 1.3484, Test: 1.7148\n",
      "Epoch: 133, Train: 1.6149, Valid: 1.3523, Test: 1.7047\n",
      "Epoch: 134, Train: 1.6019, Valid: 1.3531, Test: 1.7141\n",
      "Epoch: 135, Train: 1.6059, Valid: 1.3496, Test: 1.7173\n",
      "Epoch: 136, Train: 1.6097, Valid: 1.3467, Test: 1.7166\n",
      "Epoch: 137, Train: 1.6095, Valid: 1.3461, Test: 1.7064\n",
      "Epoch: 138, Train: 1.6072, Valid: 1.3489, Test: 1.7013\n",
      "Epoch: 139, Train: 1.6097, Valid: 1.3370, Test: 1.7126\n",
      "Epoch: 140, Train: 1.5999, Valid: 1.3457, Test: 1.7160\n",
      "Epoch: 141, Train: 1.5964, Valid: 1.3399, Test: 1.7146\n",
      "Epoch: 142, Train: 1.5960, Valid: 1.3381, Test: 1.6980\n",
      "Epoch: 143, Train: 1.6038, Valid: 1.3420, Test: 1.7086\n",
      "Epoch: 144, Train: 1.6009, Valid: 1.3290, Test: 1.6935\n",
      "Epoch: 145, Train: 1.5978, Valid: 1.3344, Test: 1.6937\n",
      "Epoch: 146, Train: 1.6081, Valid: 1.3376, Test: 1.7054\n",
      "Epoch: 147, Train: 1.6034, Valid: 1.3408, Test: 1.6929\n",
      "Epoch: 148, Train: 1.5896, Valid: 1.3343, Test: 1.6858\n",
      "Epoch: 149, Train: 1.5981, Valid: 1.3359, Test: 1.6978\n",
      "Epoch: 150, Train: 1.5908, Valid: 1.3327, Test: 1.6960\n",
      "Epoch: 151, Train: 1.5908, Valid: 1.3337, Test: 1.7048\n",
      "Epoch: 152, Train: 1.6019, Valid: 1.3357, Test: 1.6981\n",
      "Epoch: 153, Train: 1.5927, Valid: 1.3307, Test: 1.7030\n",
      "Epoch: 154, Train: 1.5870, Valid: 1.3349, Test: 1.6967\n",
      "Epoch: 155, Train: 1.5933, Valid: 1.3376, Test: 1.6916\n",
      "Epoch: 156, Train: 1.5938, Valid: 1.3322, Test: 1.6980\n",
      "Epoch: 157, Train: 1.5853, Valid: 1.3257, Test: 1.6952\n",
      "Epoch: 158, Train: 1.5900, Valid: 1.3299, Test: 1.7001\n",
      "Epoch: 159, Train: 1.5884, Valid: 1.3227, Test: 1.6984\n",
      "Epoch: 160, Train: 1.5855, Valid: 1.3155, Test: 1.6896\n",
      "Epoch: 161, Train: 1.5835, Valid: 1.3173, Test: 1.6919\n",
      "Epoch: 162, Train: 1.5814, Valid: 1.3242, Test: 1.6989\n",
      "Epoch: 163, Train: 1.5870, Valid: 1.3181, Test: 1.6865\n",
      "Epoch: 164, Train: 1.5876, Valid: 1.3212, Test: 1.6886\n",
      "Epoch: 165, Train: 1.5826, Valid: 1.3196, Test: 1.6962\n",
      "Epoch: 166, Train: 1.5810, Valid: 1.3129, Test: 1.6841\n",
      "Epoch: 167, Train: 1.5886, Valid: 1.3242, Test: 1.6891\n",
      "Epoch: 168, Train: 1.5898, Valid: 1.3159, Test: 1.6878\n",
      "Epoch: 169, Train: 1.5842, Valid: 1.3250, Test: 1.6920\n",
      "Epoch: 170, Train: 1.5653, Valid: 1.3202, Test: 1.6946\n",
      "Epoch: 171, Train: 1.5720, Valid: 1.3068, Test: 1.7026\n",
      "Epoch: 172, Train: 1.5836, Valid: 1.3207, Test: 1.6840\n",
      "Epoch: 173, Train: 1.5794, Valid: 1.3114, Test: 1.6814\n",
      "Epoch: 174, Train: 1.5804, Valid: 1.3112, Test: 1.6907\n",
      "Epoch: 175, Train: 1.5735, Valid: 1.3142, Test: 1.6954\n",
      "Epoch: 176, Train: 1.5777, Valid: 1.3045, Test: 1.6941\n",
      "Epoch: 177, Train: 1.5777, Valid: 1.3134, Test: 1.6915\n",
      "Epoch: 178, Train: 1.5794, Valid: 1.3046, Test: 1.6823\n",
      "Epoch: 179, Train: 1.5837, Valid: 1.3167, Test: 1.6822\n",
      "Epoch: 180, Train: 1.5765, Valid: 1.3099, Test: 1.6831\n",
      "Epoch: 181, Train: 1.5687, Valid: 1.3131, Test: 1.6940\n",
      "Epoch: 182, Train: 1.5692, Valid: 1.3030, Test: 1.6843\n",
      "Epoch: 183, Train: 1.5775, Valid: 1.3110, Test: 1.6929\n",
      "Epoch: 184, Train: 1.5847, Valid: 1.3132, Test: 1.6851\n",
      "Epoch: 185, Train: 1.5726, Valid: 1.3052, Test: 1.6863\n",
      "Epoch: 186, Train: 1.5674, Valid: 1.3083, Test: 1.6735\n",
      "Epoch: 187, Train: 1.5746, Valid: 1.3095, Test: 1.6832\n",
      "Epoch: 188, Train: 1.5787, Valid: 1.3024, Test: 1.6774\n",
      "Epoch: 189, Train: 1.5689, Valid: 1.3036, Test: 1.6859\n",
      "Epoch: 190, Train: 1.5663, Valid: 1.3016, Test: 1.6772\n",
      "Epoch: 191, Train: 1.5676, Valid: 1.3029, Test: 1.6733\n",
      "Epoch: 192, Train: 1.5735, Valid: 1.2945, Test: 1.6765\n",
      "Epoch: 193, Train: 1.5632, Valid: 1.3036, Test: 1.6811\n",
      "Epoch: 194, Train: 1.5717, Valid: 1.3124, Test: 1.6853\n",
      "Epoch: 195, Train: 1.5797, Valid: 1.2926, Test: 1.6844\n",
      "Epoch: 196, Train: 1.5755, Valid: 1.3007, Test: 1.6798\n",
      "Epoch: 197, Train: 1.5689, Valid: 1.3141, Test: 1.6928\n",
      "Epoch: 198, Train: 1.5689, Valid: 1.2982, Test: 1.6809\n",
      "Epoch: 199, Train: 1.5605, Valid: 1.3019, Test: 1.6777\n"
     ]
    }
   ],
   "source": [
    "# Train the GCN using the CORA sample represented by `data` using the standard PyTorch training loop\n",
    "model.train()\n",
    "for epoch in range(200):\n",
    "    optimizer.zero_grad()\n",
    "    out = model(data)\n",
    "    train_loss = F.nll_loss(out[data.train_mask], data.y[data.train_mask])\n",
    "    valid_loss = F.nll_loss(out[data.val_mask], data.y[data.val_mask])\n",
    "    test_loss = F.nll_loss(out[data.test_mask], data.y[data.test_mask])\n",
    "    print(f'Epoch: {epoch:03d}, '\n",
    "      f'Train: {train_loss:.4f}, '\n",
    "      f'Valid: {valid_loss:.4f}, '\n",
    "      f'Test: {test_loss:.4f}')\n",
    "    valid_loss.backward()\n",
    "    optimizer.step()"
   ]
  },
  {
   "cell_type": "code",
   "execution_count": 29,
   "metadata": {},
   "outputs": [
    {
     "name": "stdout",
     "output_type": "stream",
     "text": [
      "Test Set Accuracy: 0.5768\n"
     ]
    }
   ],
   "source": [
    "# Evaluate the trained GCN model on our test set\n",
    "model.eval()\n",
    "pred = model(data).argmax(dim=1)\n",
    "correct = (pred[data.test_mask] == data.y[data.test_mask]).sum()\n",
    "acc = int(correct) / int(data.test_mask.sum())\n",
    "\n",
    "print(f\"Test Set Accuracy: {acc:.4f}\")   "
   ]
  },
  {
   "cell_type": "markdown",
   "metadata": {},
   "source": [
    "## Attempt with Full Graph\n",
    "Let's try again with the full graph as a quick sanity check.  The final accuracy should be close"
   ]
  },
  {
   "cell_type": "code",
   "execution_count": null,
   "metadata": {},
   "outputs": [],
   "source": [
    "raw_topology_df = gds.beta.graph.relationships.stream(g)\n",
    "\n",
    "raw_node_df = gds.graph.nodeProperties.stream(\n",
    "    g,\n",
    "    ['subjectId', 'year', 'textEmbedding'],\n",
    "    separate_property_columns=True,\n",
    ")\n",
    "\n",
    "node_df = raw_node_df.reset_index().rename(columns={'nodeId':'neo4jNodeId'}).rename(columns={'index':'nodeId'})\n",
    "\n",
    "topology_df = (raw_topology_df\n",
    "    .merge(node_df[['neo4jNodeId','nodeId']], how='left', left_on='sourceNodeId', \n",
    "           right_on='neo4jNodeId')\n",
    "    .drop(columns=['sourceNodeId', 'neo4jNodeId'])\n",
    "    .rename(columns={'nodeId':'sourceNodeId'})\n",
    "    .merge(node_df[['neo4jNodeId','nodeId']], how='left', left_on='targetNodeId', \n",
    "           right_on='neo4jNodeId')\n",
    "    .drop(columns=['targetNodeId', 'neo4jNodeId'])\n",
    "    .rename(columns={'nodeId':'targetNodeId'})\n",
    ")\n",
    "\n",
    "topology = topology_df.by_rel_type()\n",
    "\n",
    "edge_index = torch.tensor(topology['CITES'], dtype=torch.long)\n",
    "\n",
    "x = torch.tensor(np.stack(node_df['textEmbedding']), dtype=torch.float)\n",
    "y = torch.tensor(np.stack(node_df['subjectId']), dtype=torch.long)\n",
    "\n",
    "full_data = Data(x=x, y=y, edge_index=edge_index)\n",
    "full_data.train_mask = torch.tensor(np.stack(node_df.year < VALID_YEAR))\n",
    "full_data.val_mask = torch.tensor(np.stack(node_df.year == VALID_YEAR))\n",
    "full_data.test_mask = torch.tensor(np.stack(node_df.year > VALID_YEAR))\n",
    "print(full_data)\n",
    "\n",
    "num_classes = y.unique().shape[0]\n",
    "print(f'there are {num_classes} possible target classes')\n",
    "\n",
    "full_model = GCN().to(device)\n",
    "print(full_model)\n",
    "\n",
    "full_data = full_data.to(device)\n",
    "\n",
    "optimizer = torch.optim.Adam(full_model.parameters(), lr=0.01, weight_decay=5e-4)\n",
    "\n",
    "full_model.train()\n",
    "for epoch in range(200):\n",
    "    optimizer.zero_grad()\n",
    "    out = full_model(full_data)\n",
    "    train_loss = F.nll_loss(out[full_data.train_mask], full_data.y[full_data.train_mask])\n",
    "    valid_loss = F.nll_loss(out[full_data.val_mask], full_data.y[full_data.val_mask])\n",
    "    test_loss = F.nll_loss(out[full_data.test_mask], full_data.y[full_data.test_mask])\n",
    "    valid_loss.backward()\n",
    "    optimizer.step()"
   ]
  },
  {
   "cell_type": "code",
   "execution_count": null,
   "metadata": {},
   "outputs": [],
   "source": [
    "# Evaluate the full data trained GCN model on our test set\n",
    "full_model.eval()\n",
    "full_pred = full_model(full_data).argmax(dim=1)\n",
    "full_correct = (full_pred[full_data.test_mask] == full_data.y[full_data.test_mask]).sum()\n",
    "full_acc = int(full_correct) / int(full_data.test_mask.sum())\n",
    "\n",
    "print(f'Test set accuracy for full dataset: {full_acc:.4f}')\n",
    "print(f'This is a difference of {full_acc-acc:.4f} percentage points from the sampled dataset')"
   ]
  },
  {
   "cell_type": "markdown",
   "metadata": {},
   "source": [
    "## Cleanup\n",
    "Remove Neo4j graph projections to free up memory"
   ]
  },
  {
   "cell_type": "code",
   "execution_count": null,
   "metadata": {
    "collapsed": false,
    "jupyter": {
     "outputs_hidden": false
    }
   },
   "outputs": [],
   "source": [
    "g_sample.drop()\n",
    "g.drop()"
   ]
  }
 ],
 "metadata": {
  "environment": {
   "kernel": "python3",
   "name": "pytorch-gpu.1-13.m103",
   "type": "gcloud",
   "uri": "gcr.io/deeplearning-platform-release/pytorch-gpu.1-13:m103"
  },
  "kernelspec": {
   "display_name": "Python 3 (ipykernel)",
   "language": "python",
   "name": "python3"
  },
  "language_info": {
   "codemirror_mode": {
    "name": "ipython",
    "version": 3
   },
   "file_extension": ".py",
   "mimetype": "text/x-python",
   "name": "python",
   "nbconvert_exporter": "python",
   "pygments_lexer": "ipython3",
   "version": "3.7.12"
  }
 },
 "nbformat": 4,
 "nbformat_minor": 4
}
