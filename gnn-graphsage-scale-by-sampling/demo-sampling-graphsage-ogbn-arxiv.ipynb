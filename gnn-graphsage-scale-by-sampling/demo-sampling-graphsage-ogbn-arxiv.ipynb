{
 "cells": [
  {
   "cell_type": "markdown",
   "source": [
    "# Using Graph Sampling to Scale GraphSage GNN\n",
    "\n",
    "![Neo4j version](https://img.shields.io/badge/Neo4j->=4.4.9-brightgreen)\n",
    "![GDS version](https://img.shields.io/badge/GDS-2.2-brightgreen)\n",
    "![GDS Python Client version](https://img.shields.io/badge/GDS_Python_Client-1.5-brightgreen)\n",
    "\n",
    "This notebook exemplifies how to use Neo4j Graph Data Science to scale unsupervised GraphSage (a graph neural network) on larger graphs.  Specifically it demonstrates how to:\n",
    "\n",
    "* Sample a part of the `ogbn-arxiv` graph using the [GDS random walk with restarts algorithm](https://neo4j.com/docs/graph-data-science/current/management-ops/projections/rwr/)\n",
    "* Train an unsupervised [GraphSage](https://neo4j.com/docs/graph-data-science/current/machine-learning/node-embeddings/graph-sage/) model on the subgraph to generate node embeddings\n",
    "* Apply the trained GraphSage model to generate node embeddings on the entire graph"
   ],
   "metadata": {
    "collapsed": false
   }
  },
  {
   "cell_type": "markdown",
   "source": [
    "## Prerequisites\n",
    "- The `ogbn-arxiv` dataset must be loaded into Neo4j. You can do so by running the `load-ogbn-arxiv-data` notebook. It should take around a few minutes to complete."
   ],
   "metadata": {
    "collapsed": false
   }
  },
  {
   "cell_type": "code",
   "execution_count": 32,
   "outputs": [
    {
     "name": "stdout",
     "output_type": "stream",
     "text": [
      "Requirement already satisfied: ogb in /Users/zachblumenfeld/opt/anaconda3/lib/python3.9/site-packages (1.3.4)\r\n",
      "Requirement already satisfied: six>=1.12.0 in /Users/zachblumenfeld/opt/anaconda3/lib/python3.9/site-packages (from ogb) (1.16.0)\r\n",
      "Requirement already satisfied: urllib3>=1.24.0 in /Users/zachblumenfeld/opt/anaconda3/lib/python3.9/site-packages (from ogb) (1.26.9)\r\n",
      "Requirement already satisfied: tqdm>=4.29.0 in /Users/zachblumenfeld/opt/anaconda3/lib/python3.9/site-packages (from ogb) (4.64.0)\r\n",
      "Requirement already satisfied: outdated>=0.2.0 in /Users/zachblumenfeld/opt/anaconda3/lib/python3.9/site-packages (from ogb) (0.2.1)\r\n",
      "Requirement already satisfied: torch>=1.6.0 in /Users/zachblumenfeld/opt/anaconda3/lib/python3.9/site-packages (from ogb) (1.12.1)\r\n",
      "Requirement already satisfied: scikit-learn>=0.20.0 in /Users/zachblumenfeld/opt/anaconda3/lib/python3.9/site-packages (from ogb) (1.0.2)\r\n",
      "Requirement already satisfied: numpy>=1.16.0 in /Users/zachblumenfeld/opt/anaconda3/lib/python3.9/site-packages (from ogb) (1.21.5)\r\n",
      "Requirement already satisfied: pandas>=0.24.0 in /Users/zachblumenfeld/opt/anaconda3/lib/python3.9/site-packages (from ogb) (1.4.2)\r\n",
      "Requirement already satisfied: requests in /Users/zachblumenfeld/opt/anaconda3/lib/python3.9/site-packages (from outdated>=0.2.0->ogb) (2.27.1)\r\n",
      "Requirement already satisfied: littleutils in /Users/zachblumenfeld/opt/anaconda3/lib/python3.9/site-packages (from outdated>=0.2.0->ogb) (0.2.2)\r\n",
      "Requirement already satisfied: python-dateutil>=2.8.1 in /Users/zachblumenfeld/opt/anaconda3/lib/python3.9/site-packages (from pandas>=0.24.0->ogb) (2.8.2)\r\n",
      "Requirement already satisfied: pytz>=2020.1 in /Users/zachblumenfeld/opt/anaconda3/lib/python3.9/site-packages (from pandas>=0.24.0->ogb) (2021.3)\r\n",
      "Requirement already satisfied: threadpoolctl>=2.0.0 in /Users/zachblumenfeld/opt/anaconda3/lib/python3.9/site-packages (from scikit-learn>=0.20.0->ogb) (2.2.0)\r\n",
      "Requirement already satisfied: joblib>=0.11 in /Users/zachblumenfeld/opt/anaconda3/lib/python3.9/site-packages (from scikit-learn>=0.20.0->ogb) (1.1.0)\r\n",
      "Requirement already satisfied: scipy>=1.1.0 in /Users/zachblumenfeld/opt/anaconda3/lib/python3.9/site-packages (from scikit-learn>=0.20.0->ogb) (1.7.3)\r\n",
      "Requirement already satisfied: typing-extensions in /Users/zachblumenfeld/opt/anaconda3/lib/python3.9/site-packages (from torch>=1.6.0->ogb) (4.1.1)\r\n",
      "Requirement already satisfied: charset-normalizer~=2.0.0 in /Users/zachblumenfeld/opt/anaconda3/lib/python3.9/site-packages (from requests->outdated>=0.2.0->ogb) (2.0.4)\r\n",
      "Requirement already satisfied: certifi>=2017.4.17 in /Users/zachblumenfeld/opt/anaconda3/lib/python3.9/site-packages (from requests->outdated>=0.2.0->ogb) (2022.5.18.1)\r\n",
      "Requirement already satisfied: idna<4,>=2.5 in /Users/zachblumenfeld/opt/anaconda3/lib/python3.9/site-packages (from requests->outdated>=0.2.0->ogb) (3.3)\r\n"
     ]
    }
   ],
   "source": [
    "!pip install ogb"
   ],
   "metadata": {
    "collapsed": false
   }
  },
  {
   "cell_type": "markdown",
   "source": [
    "## Notebook Setup"
   ],
   "metadata": {
    "collapsed": false
   }
  },
  {
   "cell_type": "code",
   "execution_count": 33,
   "outputs": [],
   "source": [
    "import json\n",
    "with open('secrets.json') as f:\n",
    "    secrets = json.load(f)"
   ],
   "metadata": {
    "collapsed": false
   }
  },
  {
   "cell_type": "code",
   "execution_count": 34,
   "outputs": [],
   "source": [
    "from graphdatascience import GraphDataScience\n",
    "\n",
    "# Use Neo4j URI and credentials according to your setup\n",
    "gds = GraphDataScience(secrets['host'], auth=(secrets['username'], secrets['password']), aura_ds=True)\n",
    "\n",
    "# Necessary if you enabled Arrow on the db\n",
    "gds.set_database(\"neo4j\")"
   ],
   "metadata": {
    "collapsed": false
   }
  },
  {
   "cell_type": "code",
   "execution_count": 35,
   "outputs": [],
   "source": [
    "def clear_graph_by_name(g_name):\n",
    "    if gds.graph.exists(g_name).exists:\n",
    "        g = gds.graph.get(g_name)\n",
    "        gds.graph.drop(g)\n",
    "\n",
    "def clear_all_graphs():\n",
    "    g_names = gds.graph.list().graphName.tolist()\n",
    "    for g_name in g_names:\n",
    "        g = gds.graph.get(g_name)\n",
    "        gds.graph.drop(g)\n",
    "\n",
    "def clear_model_by_name(m_name):\n",
    "    if gds.beta.model.exists(m_name).exists:\n",
    "        m = gds.model.get(m_name)\n",
    "        gds.beta.model.drop(m)"
   ],
   "metadata": {
    "collapsed": false
   }
  },
  {
   "cell_type": "markdown",
   "source": [
    "## Project and Sample Graph"
   ],
   "metadata": {
    "collapsed": false
   }
  },
  {
   "cell_type": "code",
   "execution_count": 36,
   "outputs": [
    {
     "data": {
      "text/plain": "nodeProjection            {'TrainPaper': {'label': 'TrainPaper', 'proper...\nrelationshipProjection    {'CITED': {'orientation': 'UNDIRECTED', 'aggre...\ngraphName                                                              proj\nnodeCount                                                             90941\nrelationshipCount                                                    749678\nprojectMillis                                                           477\nName: 0, dtype: object"
     },
     "execution_count": 36,
     "metadata": {},
     "output_type": "execute_result"
    }
   ],
   "source": [
    "clear_all_graphs()\n",
    "g,_ = gds.graph.project('proj',\n",
    "                  {'TrainPaper':{'properties': ['wordEmbedding', 'subject']}},\n",
    "                  {'CITED': {'orientation': 'UNDIRECTED'}})\n",
    "_"
   ],
   "metadata": {
    "collapsed": false
   }
  },
  {
   "cell_type": "code",
   "execution_count": 37,
   "outputs": [
    {
     "data": {
      "text/plain": "fromGraphName          proj\nstartNodeCount            1\ngraphName            sample\nnodeCount              9094\nrelationshipCount    136548\nprojectMillis           157\nName: 0, dtype: object"
     },
     "execution_count": 37,
     "metadata": {},
     "output_type": "execute_result"
    }
   ],
   "source": [
    "# We use the random walk with restarts sampling algorithm with default values, should get ~0.1 * 90941 = 9094 nodes\n",
    "g_sample , _ = gds.alpha.graph.sample.rwr('sample', g, samplingRatio=0.1, restartProbability=0.05, concurrency=1, randomSeed=42);\n",
    "_"
   ],
   "metadata": {
    "collapsed": false
   }
  },
  {
   "cell_type": "markdown",
   "source": [
    "## Train GraphSage on Sample"
   ],
   "metadata": {
    "collapsed": false
   }
  },
  {
   "cell_type": "code",
   "execution_count": 38,
   "outputs": [
    {
     "data": {
      "text/plain": "(GraphSageModel({'modelInfo': {0: {'modelName': 'gsModel', 'modelType': 'graphSage', 'metrics': {'ranIterationsPerEpoch': [10, 10, 10, 10, 10], 'iterationLossesPerEpoch': [[26.101553108713553, 25.96468016348165, 26.01535189532628, 25.763774801284846, 25.773294365996964, 25.573388611771332, 25.71351555960887, 25.49865176770185, 25.576237100018254, 25.011561267814475], [25.29816268642032, 25.11148399891449, 25.10644964509697, 24.84297034180481, 24.536259889122004, 24.31699363355826, 24.154708251162685, 24.024915116934157, 24.12494143918854, 23.791079130398572], [24.013198031084706, 22.839763994254934, 23.564918236135895, 22.763391478248135, 21.91081223335163, 22.494262953336488, 21.820997726188587, 21.51781860314818, 21.244757061956907, 21.222037056151656], [21.206315496024068, 20.522718717359727, 20.36431869546906, 19.653473607394307, 19.57347365371603, 19.266385907301903, 18.478333414486173, 18.268084080755575, 18.461586742264117, 16.718567940596287], [16.70566227400297, 15.87219059632452, 16.17572501861705, 15.90391193391103, 15.915069910562076, 14.9657930570079, 15.271272347607734, 15.130855948286026, 15.154666908886522, 14.44699376163976]], 'didConverge': False, 'ranEpochs': 5, 'epochLosses': [25.011561267814475, 23.791079130398572, 21.222037056151656, 16.718567940596287, 14.44699376163976]}}}, 'trainConfig': {0: {'maxIterations': 10, 'negativeSampleWeight': 20, 'searchDepth': 20, 'aggregator': 'MEAN', 'activationFunction': 'RELU', 'penaltyL2': 0.0, 'learningRate': 0.0001, 'concurrency': 4, 'randomSeed': 99, 'jobId': '050f2bc4-c8c9-4934-8664-0475984bfb21', 'modelName': 'gsModel', 'embeddingDimension': 512, 'nodeLabels': ['*'], 'sudo': False, 'sampleSizes': [30, 30], 'relationshipTypes': ['*'], 'batchSize': 10, 'featureProperties': ['wordEmbedding'], 'epochs': 5, 'tolerance': 0.0001}}, 'graphSchema': {0: {'graphProperties': {}, 'relationships': {'CITED': {}}, 'nodes': {'TrainPaper': {'subject': 'Integer (DefaultValue(-9223372036854775808), PERSISTENT)', 'wordEmbedding': 'List of Float (DefaultValue(null), PERSISTENT)'}}}}, 'loaded': {0: True}, 'stored': {0: False}, 'creationTime': {0: neo4j.time.DateTime(2022, 10, 27, 13, 17, 36, 258866000, tzinfo=<StaticTzInfo 'Etc/UTC'>)}, 'shared': {0: False}}),\n modelInfo        {'modelName': 'gsModel', 'modelType': 'graphSa...\n configuration    {'maxIterations': 10, 'negativeSampleWeight': ...\n trainMillis                                                  11830\n Name: 0, dtype: object)"
     },
     "execution_count": 38,
     "metadata": {},
     "output_type": "execute_result"
    }
   ],
   "source": [
    "clear_model_by_name('gsModel')\n",
    "\n",
    "gds.beta.graphSage.train(g_sample, modelName='gsModel', embeddingDimension=512, sampleSizes=[30, 30], searchDepth=20,\n",
    "                         epochs=5, learningRate=0.0001, activationFunction='RELU', aggregator='MEAN', featureProperties=['wordEmbedding'],\n",
    "                         randomSeed=99, batchSize=10)"
   ],
   "metadata": {
    "collapsed": false
   }
  },
  {
   "cell_type": "markdown",
   "source": [
    "## Use GraphSage Model to Generate Embeddings on Entire Graph"
   ],
   "metadata": {
    "collapsed": false
   }
  },
  {
   "cell_type": "code",
   "execution_count": 39,
   "outputs": [
    {
     "data": {
      "text/plain": "GraphSage:   0%|          | 0/100 [00:00<?, ?%/s]",
      "application/vnd.jupyter.widget-view+json": {
       "version_major": 2,
       "version_minor": 0,
       "model_id": "3ec732637a734d68a48a8630bd2eaf18"
      }
     },
     "metadata": {},
     "output_type": "display_data"
    },
    {
     "data": {
      "text/plain": "nodePropertiesWritten                                                90941\nmutateMillis                                                             0\nnodeCount                                                            90941\npreProcessingMillis                                                      0\ncomputeMillis                                                        22945\nconfiguration            {'jobId': '3580c727-af55-49ce-9869-ba7a34a0f79...\nName: 0, dtype: object"
     },
     "execution_count": 39,
     "metadata": {},
     "output_type": "execute_result"
    }
   ],
   "source": [
    "gds.beta.graphSage.mutate(g, modelName='gsModel', mutateProperty='gsEmbedding')"
   ],
   "metadata": {
    "collapsed": false
   }
  },
  {
   "cell_type": "code",
   "execution_count": 40,
   "outputs": [
    {
     "data": {
      "text/plain": "       nodeId nodeProperty                                      propertyValue\n0      167532  gsEmbedding  [-0.002488996944798357, -0.0005080555086773295...\n1      167533  gsEmbedding  [0.03931017949390128, 0.08091303579171928, -0....\n2      167534  gsEmbedding  [0.10820473153838188, 0.10284406655456249, -0....\n3      167535  gsEmbedding  [-0.013440787413609578, -0.04416116902508773, ...\n4      167536  gsEmbedding  [0.03350507899774372, 0.06807220574646418, -0....\n...       ...          ...                                                ...\n90936   55834  gsEmbedding  [-0.0006329617627241897, 0.001718238673257951,...\n90937   55835  gsEmbedding  [-0.0008074166558277462, -0.000157246319203552...\n90938   55836  gsEmbedding  [-0.00015979038170613373, -0.00214747828621173...\n90939   55837  gsEmbedding  [0.0811878506079212, 0.012883562618342843, -0....\n90940   55838  gsEmbedding  [-0.0011553281796028224, -0.000607109067853462...\n\n[90941 rows x 3 columns]",
      "text/html": "<div>\n<style scoped>\n    .dataframe tbody tr th:only-of-type {\n        vertical-align: middle;\n    }\n\n    .dataframe tbody tr th {\n        vertical-align: top;\n    }\n\n    .dataframe thead th {\n        text-align: right;\n    }\n</style>\n<table border=\"1\" class=\"dataframe\">\n  <thead>\n    <tr style=\"text-align: right;\">\n      <th></th>\n      <th>nodeId</th>\n      <th>nodeProperty</th>\n      <th>propertyValue</th>\n    </tr>\n  </thead>\n  <tbody>\n    <tr>\n      <th>0</th>\n      <td>167532</td>\n      <td>gsEmbedding</td>\n      <td>[-0.002488996944798357, -0.0005080555086773295...</td>\n    </tr>\n    <tr>\n      <th>1</th>\n      <td>167533</td>\n      <td>gsEmbedding</td>\n      <td>[0.03931017949390128, 0.08091303579171928, -0....</td>\n    </tr>\n    <tr>\n      <th>2</th>\n      <td>167534</td>\n      <td>gsEmbedding</td>\n      <td>[0.10820473153838188, 0.10284406655456249, -0....</td>\n    </tr>\n    <tr>\n      <th>3</th>\n      <td>167535</td>\n      <td>gsEmbedding</td>\n      <td>[-0.013440787413609578, -0.04416116902508773, ...</td>\n    </tr>\n    <tr>\n      <th>4</th>\n      <td>167536</td>\n      <td>gsEmbedding</td>\n      <td>[0.03350507899774372, 0.06807220574646418, -0....</td>\n    </tr>\n    <tr>\n      <th>...</th>\n      <td>...</td>\n      <td>...</td>\n      <td>...</td>\n    </tr>\n    <tr>\n      <th>90936</th>\n      <td>55834</td>\n      <td>gsEmbedding</td>\n      <td>[-0.0006329617627241897, 0.001718238673257951,...</td>\n    </tr>\n    <tr>\n      <th>90937</th>\n      <td>55835</td>\n      <td>gsEmbedding</td>\n      <td>[-0.0008074166558277462, -0.000157246319203552...</td>\n    </tr>\n    <tr>\n      <th>90938</th>\n      <td>55836</td>\n      <td>gsEmbedding</td>\n      <td>[-0.00015979038170613373, -0.00214747828621173...</td>\n    </tr>\n    <tr>\n      <th>90939</th>\n      <td>55837</td>\n      <td>gsEmbedding</td>\n      <td>[0.0811878506079212, 0.012883562618342843, -0....</td>\n    </tr>\n    <tr>\n      <th>90940</th>\n      <td>55838</td>\n      <td>gsEmbedding</td>\n      <td>[-0.0011553281796028224, -0.000607109067853462...</td>\n    </tr>\n  </tbody>\n</table>\n<p>90941 rows × 3 columns</p>\n</div>"
     },
     "execution_count": 40,
     "metadata": {},
     "output_type": "execute_result"
    }
   ],
   "source": [
    "# gds.graph.nodeProperties.stream(g, node_properties='gsEmbedding')"
   ],
   "metadata": {
    "collapsed": false
   }
  },
  {
   "cell_type": "code",
   "execution_count": 40,
   "outputs": [],
   "source": [],
   "metadata": {
    "collapsed": false
   }
  }
 ],
 "metadata": {
  "kernelspec": {
   "display_name": "Python 3",
   "language": "python",
   "name": "python3"
  },
  "language_info": {
   "codemirror_mode": {
    "name": "ipython",
    "version": 2
   },
   "file_extension": ".py",
   "mimetype": "text/x-python",
   "name": "python",
   "nbconvert_exporter": "python",
   "pygments_lexer": "ipython2",
   "version": "2.7.6"
  }
 },
 "nbformat": 4,
 "nbformat_minor": 0
}
